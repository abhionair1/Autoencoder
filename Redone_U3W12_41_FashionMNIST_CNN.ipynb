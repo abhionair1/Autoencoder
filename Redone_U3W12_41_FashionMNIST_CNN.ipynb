{
  "nbformat": 4,
  "nbformat_minor": 0,
  "metadata": {
    "colab": {
      "provenance": [],
      "gpuType": "T4",
      "authorship_tag": "ABX9TyPTk7vNvNTeaC5be7u/XDK5",
      "include_colab_link": true
    },
    "kernelspec": {
      "name": "python3",
      "display_name": "Python 3"
    },
    "language_info": {
      "name": "python"
    },
    "accelerator": "GPU"
  },
  "cells": [
    {
      "cell_type": "markdown",
      "metadata": {
        "id": "view-in-github",
        "colab_type": "text"
      },
      "source": [
        "<a href=\"https://colab.research.google.com/github/abhionair1/Autoencoder/blob/main/Redone_U3W12_41_FashionMNIST_CNN.ipynb\" target=\"_parent\"><img src=\"https://colab.research.google.com/assets/colab-badge.svg\" alt=\"Open In Colab\"/></a>"
      ]
    },
    {
      "cell_type": "markdown",
      "source": [
        "At the end of the experiment you will be able to :\n",
        "\n",
        "understand Fashion-MNIST dataset\n",
        "classify Fashion-MNIST data using neural networks"
      ],
      "metadata": {
        "id": "wGI2BWjzHycB"
      }
    },
    {
      "cell_type": "markdown",
      "source": [
        "### Description"
      ],
      "metadata": {
        "id": "xoCtUFMEH671"
      }
    },
    {
      "cell_type": "markdown",
      "source": [
        "The dataset choosen for this experiment is Fashion-MNIST. The dataset is made up of 28x28 grayscale images of 70,000 fashion products from 10 categories, with 7,000 images per category. The training set has 60,000 images and the test set has 10,000 images.\n",
        "\n",
        "Each image is 28 pixels in height and 28 pixels in width, for a total of 784 pixels in total. Each pixel has a single pixel-value associated with it, indicating the lightness or darkness of that pixel, with higher numbers meaning darker. This pixel-value is an integer between 0 and 255.\n",
        "\n",
        "**Labels / Classes**\n",
        "\n",
        "0 - T-shirt/top\n",
        "\n",
        "1 - Trouser\n",
        "\n",
        "2 - Pullover\n",
        "\n",
        "3 - Dress\n",
        "\n",
        "4 - Coat\n",
        "\n",
        "5 - Sandal\n",
        "\n",
        "6 - Shirt\n",
        "\n",
        "7 - Sneaker\n",
        "\n",
        "8 - Bag\n",
        "\n",
        "9 - Ankle boot"
      ],
      "metadata": {
        "id": "B2fQhLDGH6nb"
      }
    },
    {
      "cell_type": "markdown",
      "source": [
        "## Importing the Required Packages"
      ],
      "metadata": {
        "id": "cLOmu47rIIim"
      }
    },
    {
      "cell_type": "markdown",
      "source": [
        "* First, we import pytorch, the deep learning library which we’ll be using, and torchvision, which provides our dataset and data transformations.\n",
        "\n",
        "* We also import torch.nn (pytorch’s neural network library), torch.nn.functional (includes non-linear functions like ReLu and sigmoid) and torch.optim for implementing various optimization algorithms."
      ],
      "metadata": {
        "id": "I1azFelhIOd0"
      }
    },
    {
      "cell_type": "code",
      "source": [
        "# Importing torch packages\n",
        "import torch.nn as nn\n",
        "import torch.nn.functional as F\n",
        "import torch.optim as optim\n",
        "\n",
        "import torch\n",
        "import torchvision\n",
        "from torchvision import datasets, transforms\n",
        "import matplotlib.pyplot as plt"
      ],
      "metadata": {
        "id": "B1gMDFLgBek9"
      },
      "execution_count": 1,
      "outputs": []
    },
    {
      "cell_type": "code",
      "source": [
        "# To test whether GPU instance is present in the system of not.\n",
        "use_cuda = torch.cuda.is_available()\n",
        "print('Using PyTorch version:', torch.__version__, 'CUDA:', use_cuda)"
      ],
      "metadata": {
        "colab": {
          "base_uri": "https://localhost:8080/"
        },
        "id": "2k0tO8bJBeRa",
        "outputId": "ea1b8691-485e-43d2-f2e4-1a212860ede3"
      },
      "execution_count": 2,
      "outputs": [
        {
          "output_type": "stream",
          "name": "stdout",
          "text": [
            "Using PyTorch version: 2.0.1+cu118 CUDA: True\n"
          ]
        }
      ]
    },
    {
      "cell_type": "code",
      "source": [
        "device = torch.device(\"cuda\" if use_cuda else \"cpu\")\n",
        "device"
      ],
      "metadata": {
        "colab": {
          "base_uri": "https://localhost:8080/"
        },
        "id": "JKkVlaWOIoSR",
        "outputId": "581f4814-455e-42a0-df59-0a463b6b3397"
      },
      "execution_count": 3,
      "outputs": [
        {
          "output_type": "execute_result",
          "data": {
            "text/plain": [
              "device(type='cuda')"
            ]
          },
          "metadata": {},
          "execution_count": 3
        }
      ]
    },
    {
      "cell_type": "markdown",
      "source": [
        "## Load Fashion MNIST data\n",
        "\n",
        "Now, we'll load the Fashion MNIST data. For the first time, we may have to download the data, which can take a while.\n",
        "\n",
        "Now,\n",
        "\n",
        "* We will load both the training set and the testing sets\n",
        "\n",
        "* We will use  transform.compose() to convert the datasets into tensors using transforms.ToTensor(). We also normalize them by setting the mean and standard deviation using transforms.Normalize().\n"
      ],
      "metadata": {
        "id": "aJ-jP65CIuYn"
      }
    },
    {
      "cell_type": "code",
      "source": [
        "# Normalize the data with mean and std (0.2860 and 0.3530 are the mean and std for Fashion MNIST data)\n",
        "transform = transforms.Compose([transforms.ToTensor(),transforms.Normalize((0.2860,), (0.3530,))])"
      ],
      "metadata": {
        "id": "wzAbkUlxIzyV"
      },
      "execution_count": 4,
      "outputs": []
    },
    {
      "cell_type": "code",
      "source": [
        "# Downloading the Training set\n",
        "trainset = datasets.FashionMNIST('~/.pytorch/F_MNIST_data/', train=True, transform=transform, download=True)"
      ],
      "metadata": {
        "colab": {
          "base_uri": "https://localhost:8080/"
        },
        "id": "S056yPZfJVg1",
        "outputId": "c9c2944b-f6ea-4b15-cabc-d0740bb0a2ac"
      },
      "execution_count": 5,
      "outputs": [
        {
          "output_type": "stream",
          "name": "stdout",
          "text": [
            "Downloading http://fashion-mnist.s3-website.eu-central-1.amazonaws.com/train-images-idx3-ubyte.gz\n",
            "Downloading http://fashion-mnist.s3-website.eu-central-1.amazonaws.com/train-images-idx3-ubyte.gz to /root/.pytorch/F_MNIST_data/FashionMNIST/raw/train-images-idx3-ubyte.gz\n"
          ]
        },
        {
          "output_type": "stream",
          "name": "stderr",
          "text": [
            "100%|██████████| 26421880/26421880 [00:02<00:00, 11703919.80it/s]\n"
          ]
        },
        {
          "output_type": "stream",
          "name": "stdout",
          "text": [
            "Extracting /root/.pytorch/F_MNIST_data/FashionMNIST/raw/train-images-idx3-ubyte.gz to /root/.pytorch/F_MNIST_data/FashionMNIST/raw\n",
            "\n",
            "Downloading http://fashion-mnist.s3-website.eu-central-1.amazonaws.com/train-labels-idx1-ubyte.gz\n",
            "Downloading http://fashion-mnist.s3-website.eu-central-1.amazonaws.com/train-labels-idx1-ubyte.gz to /root/.pytorch/F_MNIST_data/FashionMNIST/raw/train-labels-idx1-ubyte.gz\n"
          ]
        },
        {
          "output_type": "stream",
          "name": "stderr",
          "text": [
            "100%|██████████| 29515/29515 [00:00<00:00, 209654.11it/s]\n"
          ]
        },
        {
          "output_type": "stream",
          "name": "stdout",
          "text": [
            "Extracting /root/.pytorch/F_MNIST_data/FashionMNIST/raw/train-labels-idx1-ubyte.gz to /root/.pytorch/F_MNIST_data/FashionMNIST/raw\n",
            "\n",
            "Downloading http://fashion-mnist.s3-website.eu-central-1.amazonaws.com/t10k-images-idx3-ubyte.gz\n",
            "Downloading http://fashion-mnist.s3-website.eu-central-1.amazonaws.com/t10k-images-idx3-ubyte.gz to /root/.pytorch/F_MNIST_data/FashionMNIST/raw/t10k-images-idx3-ubyte.gz\n"
          ]
        },
        {
          "output_type": "stream",
          "name": "stderr",
          "text": [
            "100%|██████████| 4422102/4422102 [00:01<00:00, 3886518.52it/s]\n"
          ]
        },
        {
          "output_type": "stream",
          "name": "stdout",
          "text": [
            "Extracting /root/.pytorch/F_MNIST_data/FashionMNIST/raw/t10k-images-idx3-ubyte.gz to /root/.pytorch/F_MNIST_data/FashionMNIST/raw\n",
            "\n",
            "Downloading http://fashion-mnist.s3-website.eu-central-1.amazonaws.com/t10k-labels-idx1-ubyte.gz\n",
            "Downloading http://fashion-mnist.s3-website.eu-central-1.amazonaws.com/t10k-labels-idx1-ubyte.gz to /root/.pytorch/F_MNIST_data/FashionMNIST/raw/t10k-labels-idx1-ubyte.gz\n"
          ]
        },
        {
          "output_type": "stream",
          "name": "stderr",
          "text": [
            "100%|██████████| 5148/5148 [00:00<00:00, 22728712.62it/s]"
          ]
        },
        {
          "output_type": "stream",
          "name": "stdout",
          "text": [
            "Extracting /root/.pytorch/F_MNIST_data/FashionMNIST/raw/t10k-labels-idx1-ubyte.gz to /root/.pytorch/F_MNIST_data/FashionMNIST/raw\n",
            "\n"
          ]
        },
        {
          "output_type": "stream",
          "name": "stderr",
          "text": [
            "\n"
          ]
        }
      ]
    },
    {
      "cell_type": "code",
      "source": [
        "# Downloading the testing set\n",
        "testset = datasets.FashionMNIST('~/.pytorch/F_MNIST_data/', train= False, transform=transform, download=True)"
      ],
      "metadata": {
        "id": "tKYRCo6UJiNi"
      },
      "execution_count": 6,
      "outputs": []
    },
    {
      "cell_type": "code",
      "source": [
        "# Verifying mean and std of Fashion MNIST data\n",
        "trainset.data.float().mean() / 255, trainset.data.float().std() / 255"
      ],
      "metadata": {
        "colab": {
          "base_uri": "https://localhost:8080/"
        },
        "id": "s5-r4SaVIzu6",
        "outputId": "e47397dc-5011-44f2-bb0e-006d989bcfd2"
      },
      "execution_count": 7,
      "outputs": [
        {
          "output_type": "execute_result",
          "data": {
            "text/plain": [
              "(tensor(0.2860), tensor(0.3530))"
            ]
          },
          "metadata": {},
          "execution_count": 7
        }
      ]
    },
    {
      "cell_type": "code",
      "source": [
        "# Loading the downloaded training set\n",
        "trainloader = torch.utils.data.DataLoader(trainset, shuffle=True, batch_size=64)"
      ],
      "metadata": {
        "id": "XuYxdgIxIzr4"
      },
      "execution_count": 8,
      "outputs": []
    },
    {
      "cell_type": "code",
      "source": [
        "# Downloading the testing set\n",
        "testset = datasets.FashionMNIST('~/.pytorch/F_MNIST_data/', train= False, transform=transform, download=True)"
      ],
      "metadata": {
        "id": "oQaxxA8uKA65"
      },
      "execution_count": 9,
      "outputs": []
    },
    {
      "cell_type": "code",
      "source": [
        "# Loading the downloaded testing set\n",
        "testloader = torch.utils.data.DataLoader(testset, shuffle=False, batch_size=64)"
      ],
      "metadata": {
        "id": "FT3i3-duKAr-"
      },
      "execution_count": 10,
      "outputs": []
    },
    {
      "cell_type": "markdown",
      "source": [
        "The train and test data are provided via data loaders that provide iterators over the datasets.\n",
        "\n",
        "The first element of training data (X_train) is a 4th-order tensor of size (batch_size, 1, 28, 28), i.e. it consists of a batch of images of size 1x28x28 pixels. y_train is a vector containing the correct classes (\"0\", \"1\", ..., \"9\") for each training image. Here batch size is 64."
      ],
      "metadata": {
        "id": "Ll8ASlaeKRwt"
      }
    },
    {
      "cell_type": "code",
      "source": [
        "for (X_train, y_train) in trainloader:\n",
        "    print('X_train:', X_train.size(), 'type:', X_train.type())\n",
        "    print('y_train:', y_train.size(), 'type:', y_train.type())\n",
        "    break"
      ],
      "metadata": {
        "colab": {
          "base_uri": "https://localhost:8080/"
        },
        "id": "RHnvG-WOKcBO",
        "outputId": "8d3b54c6-63e9-41a9-ae04-a2f8ab5e4101"
      },
      "execution_count": 11,
      "outputs": [
        {
          "output_type": "stream",
          "name": "stdout",
          "text": [
            "X_train: torch.Size([64, 1, 28, 28]) type: torch.FloatTensor\n",
            "y_train: torch.Size([64]) type: torch.LongTensor\n"
          ]
        }
      ]
    },
    {
      "cell_type": "markdown",
      "source": [
        "## Plotting the images of 9 classes"
      ],
      "metadata": {
        "id": "iMGq6KtoKm1_"
      }
    },
    {
      "cell_type": "code",
      "execution_count": 12,
      "metadata": {
        "colab": {
          "base_uri": "https://localhost:8080/",
          "height": 598
        },
        "id": "as3_-i8vgXwS",
        "outputId": "e3ab2d60-3725-44fb-ca47-48bdc16b15f4"
      },
      "outputs": [
        {
          "output_type": "display_data",
          "data": {
            "text/plain": [
              "<Figure size 700x700 with 9 Axes>"
            ],
            "image/png": "[encoded data removed]"
          },
          "metadata": {}
        }
      ],
      "source": [
        "labels =[]\n",
        "features = []\n",
        "for X,y in zip(X_train, y_train):\n",
        "  # Getting unique labels\n",
        "  if y not in labels:\n",
        "    labels.append(y)\n",
        "    features.append(X)\n",
        "\n",
        "labels_map = {0 : 'T-Shirt', 1 : 'Trouser', 2 : 'Pullover', 3 : 'Dress', 4 : 'Coat', 5 : 'Sandal', 6 : 'Shirt',\n",
        "              7 : 'Sneaker', 8 : 'Bag', 9 : 'Ankle Boot'};\n",
        "pltsize=1\n",
        "plt.figure(figsize=(7,7))\n",
        "for i in range(9):\n",
        "    plt.subplot(3,3, i+1)\n",
        "    plt.axis('off')\n",
        "    # Convert the tensor to numpy for displaying the image\n",
        "    plt.imshow(features[i].numpy().reshape(28,28), cmap=\"gray\")\n",
        "    plt.title('Class: '+labels_map[int(str(labels[i].numpy()))])"
      ]
    },
    {
      "cell_type": "code",
      "source": [],
      "metadata": {
        "id": "m3ejspTpKqPR"
      },
      "execution_count": 12,
      "outputs": []
    },
    {
      "cell_type": "markdown",
      "source": [
        "## Defining the CNN’s Architecture"
      ],
      "metadata": {
        "id": "sC3zaz0xK25J"
      }
    },
    {
      "cell_type": "markdown",
      "source": [
        "Neural Networks are inherited from the nn.Module class.\n",
        "\n",
        "Now let us define a neural network. Here we are using two functions \\__init__ and forward function.\n",
        "\n",
        "In the \\__init__  function, we define the layers using the provided modules from the nn package. The forward function is called on the Neural Network for a set of inputs, and it passes that input through the different layers that have been defined.\n"
      ],
      "metadata": {
        "id": "41omTPYXK4_S"
      }
    },
    {
      "cell_type": "markdown",
      "source": [
        "**Convolutional Layer:**  Convolutional layers are the layers where filters are applied to the original image. The most common type of convolution used is the 2D convolution layer and is abbreviated as **conv2d**.\n",
        "\n",
        "The **kernel** is a filter used to extract the features from the images. The kernel is a matrix that moves over the input data, performs the dot product with the sub-region of input data, and gets the output as the matrix of dot products.\n",
        "\n",
        "Calculate the output size of Convolution Layer, using below formula:\n",
        "\n",
        "  $O = \\frac{W- K + 2P}{S} +1$\n",
        "\n",
        "*   O : output height/length\n",
        "*   W : input height/length\n",
        "*   K : filter size (kernel size)\n",
        "*   P : padding\n",
        "*   S : stride\n",
        "\n",
        "The **Pooling layer** is used to reduce the spatial volume of input image after convolution. It is used between the convolution layers.\n",
        "\n",
        "Output formula for Pooling, $O = \\frac{W- K}{S} +1$   \n",
        "\n",
        "If using PyTorch default stride (default stride is same as kernel size), then output formula for pooling will result,  $O = \\frac{W}{K}$\n",
        "\n",
        "\n",
        "The **Fully connected layers** involves weights, biases, and neurons. It connects neurons in one layer to neurons in another layer. It is used to classify images between different category by training."
      ],
      "metadata": {
        "id": "63FeBx4VK8HY"
      }
    },
    {
      "cell_type": "markdown",
      "source": [
        "Output after Convolutional layer 1 = $\\frac{28-3+ 2(0)}{1}+1 = 26$ ----> Multiply it with the output channels, the output shape becomes (8, 26, 26)\n",
        "\n",
        "Output after appyling Maxpool layer on Convolutional layer 1 = $\\frac{26}{2} = 13$ -----> The output shape changes from (8, 26, 26) to (8, 13, 13)\n",
        "\n",
        "Output after Convolutional layer 2 = $\\frac{13-3+ 2(0)}{1}+1 = 11$ Multiply it with the output channels, the output shape becomes (16, 11, 11)\n",
        "\n",
        "Output after appyling Maxpool layer on Convolutional layer 2 = $\\frac{11}{2} = 5$ -----> The output shape changes from (16, 11, 11) to (16, 5, 5)\n",
        "\n",
        "The above output (16, 5, 5) is then passed as input to the first fully connected layer"
      ],
      "metadata": {
        "id": "q6wBAy4cLF9A"
      }
    },
    {
      "cell_type": "code",
      "source": [
        "class Model(nn.Module):\n",
        "    def __init__(self):\n",
        "        #super(Model, self).__init__()  # Python 2 preferred\n",
        "        super().__init__()  # Python 3 preferred method\n",
        "        # Defining first convolution layer with input_channels = 1, output_channels = 8, kernel_size = 3\n",
        "        self.conv1 = nn.Conv2d(in_channels=1, out_channels=8, kernel_size=3)\n",
        "\n",
        "        # Defining second convolution layer with input_channels = 8, output_channels = 16, kernel_size = 3\n",
        "        self.conv2 = nn.Conv2d(in_channels=8, out_channels=16, kernel_size=3)\n",
        "\n",
        "        # Define the Fully connected layers\n",
        "        # The output of the second convolution layer will be input to the first fully connected layer\n",
        "        self.fc1 = nn.Linear(16*5*5, 256)\n",
        "        # 256 input features, 128 output features\n",
        "        self.fc2 = nn.Linear(256, 128)\n",
        "        # 128 input features, 64 output features\n",
        "        self.fc3 = nn.Linear(128, 64)\n",
        "        # 64 input features, 10 output features for our 10 defined classes\n",
        "        self.fc4 = nn.Linear(64, 10)\n",
        "\n",
        "        # Max pooling\n",
        "        self.pool = nn.MaxPool2d(kernel_size=2)  # Max pooling layer with filter size 2x2\n",
        "\n",
        "    def forward(self, x):\n",
        "\n",
        "        x = self.pool(F.relu(self.conv1(x)))\n",
        "\n",
        "        x = self.pool(F.relu(self.conv2(x)))\n",
        "\n",
        "        # Flatten the image\n",
        "        x = x.view(-1, 16*5*5)  # Output shape of convolutional layer is 16*5*5\n",
        "\n",
        "        # Linear layers with RELU activation\n",
        "        x = F.relu(self.fc1(x))\n",
        "        x = F.relu(self.fc2(x))\n",
        "        x = F.relu(self.fc3(x))\n",
        "        x = self.fc4(x)\n",
        "        x = F.log_softmax(x, dim=1)\n",
        "        return x"
      ],
      "metadata": {
        "id": "PSmHcdaMSB9V"
      },
      "execution_count": 16,
      "outputs": []
    },
    {
      "cell_type": "markdown",
      "source": [
        "#### Calling the instances of the network"
      ],
      "metadata": {
        "id": "XythicmwRXyE"
      }
    },
    {
      "cell_type": "code",
      "source": [
        "model = Model()\n",
        "model = model.to(device)\n",
        "model"
      ],
      "metadata": {
        "colab": {
          "base_uri": "https://localhost:8080/"
        },
        "id": "D0bVAgIGRY7R",
        "outputId": "abf7efdc-322b-470e-b542-8ad44d7a061a"
      },
      "execution_count": 17,
      "outputs": [
        {
          "output_type": "execute_result",
          "data": {
            "text/plain": [
              "Model(\n",
              "  (conv1): Conv2d(1, 8, kernel_size=(3, 3), stride=(1, 1))\n",
              "  (conv2): Conv2d(8, 16, kernel_size=(3, 3), stride=(1, 1))\n",
              "  (fc1): Linear(in_features=400, out_features=256, bias=True)\n",
              "  (fc2): Linear(in_features=256, out_features=128, bias=True)\n",
              "  (fc3): Linear(in_features=128, out_features=64, bias=True)\n",
              "  (fc4): Linear(in_features=64, out_features=10, bias=True)\n",
              "  (pool): MaxPool2d(kernel_size=2, stride=2, padding=0, dilation=1, ceil_mode=False)\n",
              ")"
            ]
          },
          "metadata": {},
          "execution_count": 17
        }
      ]
    },
    {
      "cell_type": "code",
      "source": [
        "!pip install torchsummary"
      ],
      "metadata": {
        "colab": {
          "base_uri": "https://localhost:8080/"
        },
        "id": "NhwQyjxsg3E9",
        "outputId": "c0b8b3f4-96c4-49ed-83c4-26f74d09d284"
      },
      "execution_count": 18,
      "outputs": [
        {
          "output_type": "stream",
          "name": "stdout",
          "text": [
            "Requirement already satisfied: torchsummary in /usr/local/lib/python3.10/dist-packages (1.5.1)\n"
          ]
        }
      ]
    },
    {
      "cell_type": "code",
      "source": [
        "from torchsummary import summary\n",
        "summary(model, input_size=(1,28,28), batch_size=1)"
      ],
      "metadata": {
        "colab": {
          "base_uri": "https://localhost:8080/"
        },
        "id": "0RrvmY-BhIb0",
        "outputId": "60e1c792-3833-447a-d026-194e29b7de5e"
      },
      "execution_count": 19,
      "outputs": [
        {
          "output_type": "stream",
          "name": "stdout",
          "text": [
            "----------------------------------------------------------------\n",
            "        Layer (type)               Output Shape         Param #\n",
            "================================================================\n",
            "            Conv2d-1             [1, 8, 26, 26]              80\n",
            "         MaxPool2d-2             [1, 8, 13, 13]               0\n",
            "            Conv2d-3            [1, 16, 11, 11]           1,168\n",
            "         MaxPool2d-4              [1, 16, 5, 5]               0\n",
            "            Linear-5                   [1, 256]         102,656\n",
            "            Linear-6                   [1, 128]          32,896\n",
            "            Linear-7                    [1, 64]           8,256\n",
            "            Linear-8                    [1, 10]             650\n",
            "================================================================\n",
            "Total params: 145,706\n",
            "Trainable params: 145,706\n",
            "Non-trainable params: 0\n",
            "----------------------------------------------------------------\n",
            "Input size (MB): 0.00\n",
            "Forward/backward pass size (MB): 0.07\n",
            "Params size (MB): 0.56\n",
            "Estimated Total Size (MB): 0.63\n",
            "----------------------------------------------------------------\n"
          ]
        }
      ]
    },
    {
      "cell_type": "markdown",
      "source": [
        "#### Defining the loss function and optimizer"
      ],
      "metadata": {
        "id": "YayVWbl3RtY3"
      }
    },
    {
      "cell_type": "code",
      "source": [
        "criterion = nn.CrossEntropyLoss()\n",
        "optimizer = optim.Adam(model.parameters(), lr = 0.001)"
      ],
      "metadata": {
        "id": "uAAL21TERujy"
      },
      "execution_count": 20,
      "outputs": []
    },
    {
      "cell_type": "markdown",
      "source": [
        "#### Training and Evaluating the model"
      ],
      "metadata": {
        "id": "Bfo-gqbuS5mU"
      }
    },
    {
      "cell_type": "markdown",
      "source": [
        "In Training Phase, we iterate over a batch of images in the train_loader. For each batch, we perform  the following steps:\n",
        "\n",
        "* First we zero out the gradients using zero_grad()\n",
        "\n",
        "* We pass the data to the model i.e. we perform forward pass by calling the forward()\n",
        "\n",
        "* We calculate the loss using the actual and predicted labels\n",
        "\n",
        "* Perform Backward pass using backward() to update the weights"
      ],
      "metadata": {
        "id": "UyxFF8_YTAjw"
      }
    },
    {
      "cell_type": "code",
      "source": [
        "#No of Epochs\n",
        "epochs = 2\n",
        "#keep network in train mode\n",
        "model.train()\n",
        "train_losses, train_accuracy = [],[]\n",
        "\n",
        "#Loop for no of Epochs\n",
        "for e in range(epochs):\n",
        "  train_loss=0\n",
        "  correct=0\n",
        "  #Iterate over all batches in the epoch\n",
        "  for images, labels in trainloader:\n",
        "\n",
        "    #convert the images and labels to GPU for faster execution\n",
        "    images = images.to(device)\n",
        "    labels = labels.to(device)\n",
        "\n",
        "    #Zero the parameter gradients\n",
        "    optimizer.zero_grad()\n",
        "\n",
        "    # Forward Pass\n",
        "    outputs = model(images)\n",
        "\n",
        "    #Calculating the loss\n",
        "    loss= criterion(outputs,labels)\n",
        "    train_loss+=loss.item()      #convert scalar to a python number\n",
        "\n",
        "    #Backpropogation\n",
        "    loss.backward()\n",
        "\n",
        "    #update the weights\n",
        "    optimizer.step()\n",
        "\n",
        "    _,predicted = torch.max(outputs,1)\n",
        "    correct += (predicted == labels).sum().item()\n",
        "\n",
        "  #Accuracy calculation\n",
        "  train_losses.append(train_loss/len(trainset))\n",
        "  train_accuracy.append(100*correct/len(trainset))\n",
        "  print('epoch: {}, Train Loss:{:.6f} Train Accuracy: {:.2f} '.format(e+1,train_losses[-1], train_accuracy[-1]))\n",
        "\n"
      ],
      "metadata": {
        "colab": {
          "base_uri": "https://localhost:8080/"
        },
        "id": "-bZgZCulTAQW",
        "outputId": "634bfda1-a831-47d5-ef04-1e1f1c57fe2b"
      },
      "execution_count": 22,
      "outputs": [
        {
          "output_type": "stream",
          "name": "stdout",
          "text": [
            "epoch: 1, Train Loss:0.009582 Train Accuracy: 76.94 \n",
            "epoch: 2, Train Loss:0.005936 Train Accuracy: 86.03 \n"
          ]
        }
      ]
    },
    {
      "cell_type": "markdown",
      "source": [
        "In Testing Phase, we iterate over a batch of images in the test_loader. For each batch we perform the following steps:\n",
        "\n",
        "We pass the images through the model (network) to get the outputs\n",
        "Pick the class / label with the highest probability\n",
        "Calculate the accuracy"
      ],
      "metadata": {
        "id": "8SPU_YaPJD8n"
      }
    },
    {
      "cell_type": "code",
      "source": [
        "#Keep network in eval mode\n",
        "model.eval()\n",
        "\n",
        "Test_accuracy =0\n",
        "\n",
        "#iterate through all batches in epoch\n",
        "for images, labels in testloader:\n",
        "\n",
        "  #Convert to GPU for faster execution\n",
        "  images = images.to(device)\n",
        "  labels = labels.to(device)\n",
        "\n",
        "  #Forward pass\n",
        "  output=model(images)\n",
        "\n",
        "  #Accuracy calculation\n",
        "  _,prediction = torch.max(output,1)\n",
        "  Test_accuracy+=(prediction == labels).sum().item()\n",
        "\n",
        "Accuracy = 100* Test_accuracy/len(testset)\n",
        "print(\"Accuracy of Test Data is : \",Accuracy)"
      ],
      "metadata": {
        "colab": {
          "base_uri": "https://localhost:8080/"
        },
        "id": "FUaRh9_KJDm6",
        "outputId": "064e13e2-c756-41a9-99b0-b4cb15ab8688"
      },
      "execution_count": 23,
      "outputs": [
        {
          "output_type": "stream",
          "name": "stdout",
          "text": [
            "Accuracy of Test Data is :  86.76\n"
          ]
        }
      ]
    }
  ]
}