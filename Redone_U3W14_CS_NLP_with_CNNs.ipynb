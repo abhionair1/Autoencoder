{
  "nbformat": 4,
  "nbformat_minor": 0,
  "metadata": {
    "colab": {
      "provenance": [],
      "gpuType": "T4",
      "authorship_tag": "ABX9TyPYfelz3OKIXuGq9LPl3VuJ",
      "include_colab_link": true
    },
    "kernelspec": {
      "name": "python3",
      "display_name": "Python 3"
    },
    "language_info": {
      "name": "python"
    },
    "accelerator": "GPU"
  },
  "cells": [
    {
      "cell_type": "markdown",
      "metadata": {
        "id": "view-in-github",
        "colab_type": "text"
      },
      "source": [
        "<a href=\"https://colab.research.google.com/github/abhionair1/Autoencoder/blob/main/Redone_U3W14_CS_NLP_with_CNNs.ipynb\" target=\"_parent\"><img src=\"https://colab.research.google.com/assets/colab-badge.svg\" alt=\"Open In Colab\"/></a>"
      ]
    },
    {
      "cell_type": "markdown",
      "source": [
        "The objective of this experiment is to see the application of Convolutional Neural Networks in NLP.\n",
        "\n",
        "####Note that this case study based on this [paper.](http://www.aclweb.org/anthology/D14-1181)"
      ],
      "metadata": {
        "id": "ujg_bofhFych"
      }
    },
    {
      "cell_type": "code",
      "execution_count": 17,
      "metadata": {
        "colab": {
          "base_uri": "https://localhost:8080/"
        },
        "id": "caqicKH5Fqy4",
        "outputId": "0f0f74d2-ca07-475d-c316-230b4c2bbc9c"
      },
      "outputs": [
        {
          "output_type": "stream",
          "name": "stdout",
          "text": [
            "Requirement already satisfied: kaggle in /usr/local/lib/python3.10/dist-packages (1.5.16)\n",
            "Requirement already satisfied: six>=1.10 in /usr/local/lib/python3.10/dist-packages (from kaggle) (1.16.0)\n",
            "Requirement already satisfied: certifi in /usr/local/lib/python3.10/dist-packages (from kaggle) (2023.7.22)\n",
            "Requirement already satisfied: python-dateutil in /usr/local/lib/python3.10/dist-packages (from kaggle) (2.8.2)\n",
            "Requirement already satisfied: requests in /usr/local/lib/python3.10/dist-packages (from kaggle) (2.31.0)\n",
            "Requirement already satisfied: tqdm in /usr/local/lib/python3.10/dist-packages (from kaggle) (4.66.1)\n",
            "Requirement already satisfied: python-slugify in /usr/local/lib/python3.10/dist-packages (from kaggle) (8.0.1)\n",
            "Requirement already satisfied: urllib3 in /usr/local/lib/python3.10/dist-packages (from kaggle) (2.0.4)\n",
            "Requirement already satisfied: bleach in /usr/local/lib/python3.10/dist-packages (from kaggle) (6.0.0)\n",
            "Requirement already satisfied: webencodings in /usr/local/lib/python3.10/dist-packages (from bleach->kaggle) (0.5.1)\n",
            "Requirement already satisfied: text-unidecode>=1.3 in /usr/local/lib/python3.10/dist-packages (from python-slugify->kaggle) (1.3)\n",
            "Requirement already satisfied: charset-normalizer<4,>=2 in /usr/local/lib/python3.10/dist-packages (from requests->kaggle) (3.2.0)\n",
            "Requirement already satisfied: idna<4,>=2.5 in /usr/local/lib/python3.10/dist-packages (from requests->kaggle) (3.4)\n",
            "Drive already mounted at /content/drive; to attempt to forcibly remount, call drive.mount(\"/content/drive\", force_remount=True).\n",
            "mkdir: cannot create directory ‘/root/.kaggle’: File exists\n"
          ]
        }
      ],
      "source": [
        "\n",
        "!pip install kaggle\n",
        "from google.colab import drive\n",
        "drive.mount('/content/drive')\n",
        "!mkdir ~/.kaggle\n",
        "!cp /content/drive/MyDrive/Kaggle_api/kaggle.json ~/.kaggle/kaggle.json\n",
        "!chmod 600 ~/.kaggle/kaggle.json"
      ]
    },
    {
      "cell_type": "code",
      "source": [
        "!kaggle datasets download -d umbertogriffo/googles-trained-word2vec-model-in-python"
      ],
      "metadata": {
        "colab": {
          "base_uri": "https://localhost:8080/"
        },
        "id": "9TJzsZEiGRaY",
        "outputId": "743f1609-8a4b-4f6f-d490-58e1e161afe1"
      },
      "execution_count": 18,
      "outputs": [
        {
          "output_type": "stream",
          "name": "stdout",
          "text": [
            "googles-trained-word2vec-model-in-python.zip: Skipping, found more recently modified local copy (use --force to force download)\n"
          ]
        }
      ]
    },
    {
      "cell_type": "code",
      "source": [
        "!unzip googles-trained-word2vec-model-in-python.zip"
      ],
      "metadata": {
        "colab": {
          "base_uri": "https://localhost:8080/"
        },
        "id": "MrIKi8DBGY-d",
        "outputId": "11c935d7-b8d7-4b43-94c4-c6ea7fc5665e"
      },
      "execution_count": 19,
      "outputs": [
        {
          "output_type": "stream",
          "name": "stdout",
          "text": [
            "Archive:  googles-trained-word2vec-model-in-python.zip\n",
            "replace GoogleNews-vectors-negative300.bin? [y]es, [n]o, [A]ll, [N]one, [r]ename: n\n",
            "replace GoogleNews-vectors-negative300.bin.gz? [y]es, [n]o, [A]ll, [N]one, [r]ename: n\n"
          ]
        }
      ]
    },
    {
      "cell_type": "markdown",
      "source": [
        "##Importing required packages"
      ],
      "metadata": {
        "id": "4bptwT7AGmBK"
      }
    },
    {
      "cell_type": "code",
      "source": [
        "import torch  # Import the PyTorch library for deep learning\n",
        "import torch.nn as nn  # Import the neural network module from PyTorch\n",
        "from torch.autograd import Variable  # Import the Variable module for automatic differentiation\n",
        "import torch.optim as optim  # Import PyTorch's optimization library\n",
        "import torch.nn.functional as F  # Import the functional interface of PyTorch's neural network operations\n",
        "\n",
        "import random  # Import the random module for generating random numbers\n",
        "import numpy as np  # Import NumPy for numerical operations\n",
        "from collections import Counter, OrderedDict  # Import Counter and OrderedDict for data collections\n",
        "import nltk  # Import NLTK again (duplicate import)\n",
        "import re  # Import the regular expression library for text processing\n",
        "from copy import deepcopy  # Import the deepcopy function for creating deep copies\n"
      ],
      "metadata": {
        "id": "MwVGHWuWSVCJ"
      },
      "execution_count": null,
      "outputs": []
    },
    {
      "cell_type": "code",
      "source": [
        "torch.__version__"
      ],
      "metadata": {
        "colab": {
          "base_uri": "https://localhost:8080/",
          "height": 36
        },
        "id": "TymFJgVfGyJ4",
        "outputId": "328e99e2-cb20-4ad6-a4b4-fcc22af1afc9"
      },
      "execution_count": 21,
      "outputs": [
        {
          "output_type": "execute_result",
          "data": {
            "text/plain": [
              "'2.0.1+cu118'"
            ],
            "application/vnd.google.colaboratory.intrinsic+json": {
              "type": "string"
            }
          },
          "metadata": {},
          "execution_count": 21
        }
      ]
    },
    {
      "cell_type": "markdown",
      "source": [
        "## Code for accessing CUDA"
      ],
      "metadata": {
        "id": "o88eCeb9G1Ex"
      }
    },
    {
      "cell_type": "code",
      "source": [
        "USE_CUDA = torch.cuda.is_available()\n",
        "gpus = [0]\n",
        "torch.cuda.set_device(gpus[0])\n",
        "FloatTensor = torch.cuda.FloatTensor if USE_CUDA else torch.FloatTensor\n",
        "LongTensor = torch.cuda.LongTensor if USE_CUDA else torch.LongTensor\n",
        "ByteTensor = torch.cuda.ByteTensor if USE_CUDA else torch.ByteTensor"
      ],
      "metadata": {
        "id": "PUMmgx6YG1-A"
      },
      "execution_count": 22,
      "outputs": []
    },
    {
      "cell_type": "markdown",
      "source": [
        "## Function to split the data in to batches"
      ],
      "metadata": {
        "id": "t6QFVez-G6--"
      }
    },
    {
      "cell_type": "code",
      "source": [
        "'''\n",
        "This function is useful for creating batches of data for training deep learning models in mini-batch fashion,\n",
        "which is a common practice to efficiently train large datasets.\n",
        "\n",
        "\n",
        "'''\n",
        "def getBatch(batch_size, train_data):\n",
        "    random.shuffle(train_data)  # Shuffle the training data randomly\n",
        "    sindex = 0  # Initialize the start index of the batch\n",
        "    eindex = batch_size  # Initialize the end index of the batch\n",
        "\n",
        "    while eindex < len(train_data):\n",
        "        batch = train_data[sindex: eindex]  # Extract a batch of data from the training data\n",
        "        temp = eindex  # Store the current end index in a temporary variable\n",
        "        eindex = eindex + batch_size  # Update the end index for the next batch\n",
        "        sindex = temp  # Update the start index for the next batch\n",
        "        yield batch  # Yield the batch for further processing\n",
        "\n",
        "    if eindex >= len(train_data):\n",
        "        batch = train_data[sindex:]  # Extract the last batch if it's smaller than batch_size\n",
        "        yield batch  # Yield the last batch\n",
        "\n",
        "\n"
      ],
      "metadata": {
        "id": "uN_im6rVTDM7"
      },
      "execution_count": null,
      "outputs": []
    },
    {
      "cell_type": "markdown",
      "source": [
        "## Function to add the padding to batches if required"
      ],
      "metadata": {
        "id": "kVwyhzVKIrSk"
      }
    },
    {
      "cell_type": "code",
      "source": [
        "'''\n",
        "This function is commonly used in natural language processing tasks when working with variable-length sequences\n",
        "to create batches of data with uniform dimensions, which is a requirement for many deep learning models.\n",
        "'''\n",
        "def pad_to_batch(batch):\n",
        "    x, y = zip(*batch)  # Unzip the batch into separate lists of sequences (x) and labels (y)\n",
        "    max_x = max([s.size(1) for s in x])  # Find the maximum sequence length in the batch\n",
        "    x_p = []  # Initialize a list to store padded sequences\n",
        "\n",
        "    for i in range(len(batch)):\n",
        "        if x[i].size(1) < max_x:\n",
        "            # If the sequence length is less than the maximum length, pad it with '<PAD>' tokens\n",
        "            x_p.append(torch.cat([x[i], Variable(LongTensor([word2index['<PAD>']] * (max_x - x[i].size(1)))).view(1, -1)], 1))\n",
        "        else:\n",
        "            # If the sequence is already as long as the maximum, keep it as is\n",
        "            x_p.append(x[i])\n",
        "\n",
        "    # Concatenate the padded sequences and reshape the labels\n",
        "    return torch.cat(x_p), torch.cat(y).view(-1)\n",
        "'''\n",
        "Here's how this function works:\n",
        "\n",
        "It first unzips the batch into separate lists x (sequences) and y (labels).\n",
        "It calculates the maximum sequence length (max_x) within the batch by finding the length of the longest sequence in x.\n",
        "It initializes an empty list x_p to store the padded sequences.\n",
        "It iterates over each sequence in the batch:\n",
        "If the sequence length is less than the max_x, it pads the sequence with '<PAD>' tokens using torch.cat. This ensures that all sequences have the same length.\n",
        "If the sequence is already as long as max_x, it keeps it as is.\n",
        "Finally, it concatenates the padded sequences using torch.cat and reshapes the labels to be a 1D tensor.\n",
        "'''"
      ],
      "metadata": {
        "id": "gReZG7DjTcx3"
      },
      "execution_count": null,
      "outputs": []
    },
    {
      "cell_type": "markdown",
      "source": [
        "## Function to prepare the sequence"
      ],
      "metadata": {
        "id": "gKwkh1xrIxYy"
      }
    },
    {
      "cell_type": "code",
      "source": [
        "'''\n",
        "This function is commonly used in natural language processing tasks to convert text data into a\n",
        "format suitable for training deep learning models, where words are represented as numerical indices.\n",
        "The use of <UNK> for unknown words is a typical practice to handle out-of-vocabulary words.\n",
        "'''\n",
        "def prepare_sequence(seq, to_index):\n",
        "    # Map each word in the input sequence 'seq' to its corresponding index in 'to_index'\n",
        "    idxs = list(map(lambda w: to_index[w] if to_index.get(w) is not None else to_index[\"<UNK>\"], seq))\n",
        "    # Create a tensor from the list of indices and wrap it in a PyTorch Variable\n",
        "    return Variable(LongTensor(idxs))\n",
        "'''\n",
        "This Python function prepare_sequence is designed to prepare a sequence for input to a deep learning model\n",
        "by converting it into a tensor of indices. It takes two arguments:\n",
        "\n",
        "seq: The input sequence, which is a list of words.\n",
        "to_index: A dictionary that maps words to their corresponding indices.\n",
        "It uses the map function to apply a lambda function to each word in the input sequence (seq).\n",
        "\n",
        "The lambda function looks up each word in the to_index dictionary and retrieves its index.\n",
        "If the word is not found (i.e., to_index.get(w) is None), it uses the index corresponding to the <UNK> (unknown) token.\n",
        "\n",
        "The resulting list of indices (idxs) represents the input sequence converted into a sequence of indices.\n",
        "\n",
        "Finally, it creates a PyTorch LongTensor from the list of indices and wraps it in a Variable.\n",
        "This is done to prepare the sequence for input to a neural network model, where each word is represented as an index.\n",
        "'''"
      ],
      "metadata": {
        "id": "1oyC7F0oXF1y"
      },
      "execution_count": null,
      "outputs": []
    },
    {
      "cell_type": "markdown",
      "source": [
        "## Data load & Preprocessing"
      ],
      "metadata": {
        "id": "CNEXS8igI2dG"
      }
    },
    {
      "cell_type": "markdown",
      "source": [
        "### TREC question dataset(http://cogcomp.org/Data/QA/QC/)"
      ],
      "metadata": {
        "id": "k3E9_2RaI3Jb"
      }
    },
    {
      "cell_type": "code",
      "source": [
        "!wget http://cogcomp.org/Data/QA/QC/train_5500.label"
      ],
      "metadata": {
        "colab": {
          "base_uri": "https://localhost:8080/"
        },
        "id": "U07STWi5I91i",
        "outputId": "5cf344e1-57f4-4427-be8f-000fd2e50aff"
      },
      "execution_count": 26,
      "outputs": [
        {
          "output_type": "stream",
          "name": "stdout",
          "text": [
            "--2023-09-12 11:39:31--  http://cogcomp.org/Data/QA/QC/train_5500.label\n",
            "Resolving cogcomp.org (cogcomp.org)... 173.236.182.118\n",
            "Connecting to cogcomp.org (cogcomp.org)|173.236.182.118|:80... connected.\n",
            "HTTP request sent, awaiting response... 301 Moved Permanently\n",
            "Location: http://www.cogcomp.org/Data/QA/QC/train_5500.label [following]\n",
            "--2023-09-12 11:39:32--  http://www.cogcomp.org/Data/QA/QC/train_5500.label\n",
            "Resolving www.cogcomp.org (www.cogcomp.org)... 173.236.182.118\n",
            "Reusing existing connection to cogcomp.org:80.\n",
            "HTTP request sent, awaiting response... 301 Moved Permanently\n",
            "Location: https://cogcomp.seas.upenn.edu/Data/QA/QC/train_5500.label [following]\n",
            "--2023-09-12 11:39:33--  https://cogcomp.seas.upenn.edu/Data/QA/QC/train_5500.label\n",
            "Resolving cogcomp.seas.upenn.edu (cogcomp.seas.upenn.edu)... 158.130.57.77\n",
            "Connecting to cogcomp.seas.upenn.edu (cogcomp.seas.upenn.edu)|158.130.57.77|:443... connected.\n",
            "HTTP request sent, awaiting response... 200 OK\n",
            "Length: 335858 (328K)\n",
            "Saving to: ‘train_5500.label.1’\n",
            "\n",
            "train_5500.label.1  100%[===================>] 327.99K   364KB/s    in 0.9s    \n",
            "\n",
            "2023-09-12 11:39:34 (364 KB/s) - ‘train_5500.label.1’ saved [335858/335858]\n",
            "\n"
          ]
        }
      ]
    },
    {
      "cell_type": "markdown",
      "source": [
        "Task involves\n",
        "classifying a question into 6 question\n",
        "types (whether the question is about person,\n",
        "location, numeric information, etc.)"
      ],
      "metadata": {
        "id": "0DZuV8ZOLQ1S"
      }
    },
    {
      "cell_type": "markdown",
      "source": [
        "## Load the data"
      ],
      "metadata": {
        "id": "JvJf5JlLLVIP"
      }
    },
    {
      "cell_type": "code",
      "source": [
        "data = open('train_5500.label', 'r', encoding='latin-1').readlines()\n",
        "\n",
        "'''\n",
        "open('train_5500.label', 'r', encoding='latin-1'): This part of the code opens the file named 'train_5500.label' in read mode ('r') and\n",
        "specifies the encoding as 'latin-1'. The encoding='latin-1' parameter is used to specify the character encoding of the file, which is important\n",
        " for correctly reading text files with non-standard character encodings.\n",
        "\n",
        ".readlines(): This method is called on the file object returned by open. It reads the entire content of the\n",
        "file and splits it into a list of strings. Each string in the list represents a line from the file.\n",
        "\n",
        "So, after executing this line of code, the data variable will contain a list of strings, where each string\n",
        "corresponds to a line from the 'train_5500.label' file. You can then process and analyze the contents of this list as needed for your specific task.\n",
        "'''"
      ],
      "metadata": {
        "id": "wdrSn6jvLRia"
      },
      "execution_count": 27,
      "outputs": []
    },
    {
      "cell_type": "code",
      "source": [
        "data[:5]"
      ],
      "metadata": {
        "colab": {
          "base_uri": "https://localhost:8080/"
        },
        "id": "3qm_r9bILbwP",
        "outputId": "11992f18-24b7-4079-d4e3-982431bcd6b3"
      },
      "execution_count": 28,
      "outputs": [
        {
          "output_type": "execute_result",
          "data": {
            "text/plain": [
              "['DESC:manner How did serfdom develop in and then leave Russia ?\\n',\n",
              " 'ENTY:cremat What films featured the character Popeye Doyle ?\\n',\n",
              " \"DESC:manner How can I find a list of celebrities ' real names ?\\n\",\n",
              " 'ENTY:animal What fowl grabs the spotlight after the Chinese Year of the Monkey ?\\n',\n",
              " 'ABBR:exp What is the full form of .com ?\\n']"
            ]
          },
          "metadata": {},
          "execution_count": 28
        }
      ]
    },
    {
      "cell_type": "markdown",
      "source": [
        "## Split the data by seperating the labels"
      ],
      "metadata": {
        "id": "aVa6TGchLfJf"
      }
    },
    {
      "cell_type": "code",
      "source": [
        "data = [[d.split(':')[1][:-1], d.split(':')[0]] for d in data]\n",
        "\n",
        "'''this code processes the data list by splitting each string based on the colon character, extracting the text content\n",
        "(excluding the newline character), and separating it from the label. It transforms the data into a format that pairs the\n",
        "text with its corresponding label\n",
        "\n",
        "for d in data: This part of the code iterates over each string d in the data list.\n",
        "\n",
        "d.split(':'): It splits each string d into two parts using the colon ':' as the delimiter.\n",
        "This results in a list with two elements.\n",
        "\n",
        "[1]: From the split result, it selects the second element (index 1), which corresponds to the part\n",
        "of the string after the colon. This is typically some text data.\n",
        "\n",
        "[1:-1]: It slices the selected text to exclude the last character, which is usually a newline character ('\\n').\n",
        "This is done using slicing with [1:-1] to remove the newline character at the end of the text.\n",
        "\n",
        "[0]: From the split result, it selects the first element (index 0), which corresponds to the part of the string\n",
        "before the colon. This is often a label or category.\n",
        "'''"
      ],
      "metadata": {
        "id": "tARb8MXVLf5E"
      },
      "execution_count": 29,
      "outputs": []
    },
    {
      "cell_type": "code",
      "source": [
        "data[:5]"
      ],
      "metadata": {
        "colab": {
          "base_uri": "https://localhost:8080/"
        },
        "id": "BJbMiy_9LnO3",
        "outputId": "3cdeba38-e326-4d72-f778-34603235c880"
      },
      "execution_count": 30,
      "outputs": [
        {
          "output_type": "execute_result",
          "data": {
            "text/plain": [
              "[['manner How did serfdom develop in and then leave Russia ?', 'DESC'],\n",
              " ['cremat What films featured the character Popeye Doyle ?', 'ENTY'],\n",
              " [\"manner How can I find a list of celebrities ' real names ?\", 'DESC'],\n",
              " ['animal What fowl grabs the spotlight after the Chinese Year of the Monkey ?',\n",
              "  'ENTY'],\n",
              " ['exp What is the full form of .com ?', 'ABBR']]"
            ]
          },
          "metadata": {},
          "execution_count": 30
        }
      ]
    },
    {
      "cell_type": "code",
      "source": [
        "X, y = list(zip(*data))\n",
        "X = list(X)"
      ],
      "metadata": {
        "id": "Nyv9N0kBMdwR"
      },
      "execution_count": 31,
      "outputs": []
    },
    {
      "cell_type": "code",
      "source": [
        "print(X[:5])\n",
        "print(y[:5])"
      ],
      "metadata": {
        "colab": {
          "base_uri": "https://localhost:8080/"
        },
        "id": "9vZdY0F5Mg46",
        "outputId": "0b8d3658-bebc-4849-e303-843be5e0ec1c"
      },
      "execution_count": 32,
      "outputs": [
        {
          "output_type": "stream",
          "name": "stdout",
          "text": [
            "['manner How did serfdom develop in and then leave Russia ?', 'cremat What films featured the character Popeye Doyle ?', \"manner How can I find a list of celebrities ' real names ?\", 'animal What fowl grabs the spotlight after the Chinese Year of the Monkey ?', 'exp What is the full form of .com ?']\n",
            "('DESC', 'ENTY', 'DESC', 'ENTY', 'ABBR')\n"
          ]
        }
      ]
    },
    {
      "cell_type": "markdown",
      "source": [
        "## Print the labels in the data"
      ],
      "metadata": {
        "id": "3dW3jfUOMj3m"
      }
    },
    {
      "cell_type": "code",
      "source": [
        "set(y)"
      ],
      "metadata": {
        "colab": {
          "base_uri": "https://localhost:8080/"
        },
        "id": "Ul9dLkjfMkxV",
        "outputId": "1a42921b-c3da-4101-b7ed-373e5ca038e6"
      },
      "execution_count": 33,
      "outputs": [
        {
          "output_type": "execute_result",
          "data": {
            "text/plain": [
              "{'ABBR', 'DESC', 'ENTY', 'HUM', 'LOC', 'NUM'}"
            ]
          },
          "metadata": {},
          "execution_count": 33
        }
      ]
    },
    {
      "cell_type": "markdown",
      "source": [
        "## Number masking"
      ],
      "metadata": {
        "id": "Oe4_TmPmN2bi"
      }
    },
    {
      "cell_type": "code",
      "source": [
        "for i, x in enumerate(X):\n",
        "    X[i] = re.sub('\\d', '#', x).split()\n",
        "\n",
        "'''\n",
        "This code snippet uses a loop to process each element in the X list, which contains text data, and performs the following operations for each text:\n",
        "\n",
        "re.sub('\\d', '#', x): It uses the re.sub function from the re module to substitute all digits (\\d) in the text x with the # character.\n",
        "This effectively replaces all digits with #.\n",
        "\n",
        ".split(): After replacing the digits, it splits the modified text into a list of words.\n",
        "The split() method without any arguments splits the text using whitespace as the delimiter, effectively breaking it into individual words.\n",
        "\n",
        "The code uses enumerate to loop through the X list, so i represents the index of the current element, and x represents the text data at that index.\n",
        "It then updates the X list with the processed version of the text.\n",
        "\n",
        "The purpose of this code is to preprocess the text data by replacing digits with # and splitting the text into words.\n",
        "This type of preprocessing is common in natural language processing tasks to prepare text data for further analysis or modeling.\n",
        "'''\n",
        "\n",
        "\n",
        "\n",
        "\n"
      ],
      "metadata": {
        "id": "L3YhkHVcN70j"
      },
      "execution_count": 37,
      "outputs": []
    },
    {
      "cell_type": "markdown",
      "source": [
        "Replacing the numbers with # (hash)\n",
        "\n",
        "It reduces the search space.\n",
        "\n",
        "For example,\n",
        "\n",
        "my birthday is 12.22 ==> my birthday is ##.##"
      ],
      "metadata": {
        "id": "rfYxbyFBMou0"
      }
    },
    {
      "cell_type": "code",
      "source": [
        "X[:2]"
      ],
      "metadata": {
        "colab": {
          "base_uri": "https://localhost:8080/"
        },
        "id": "zHd5tyU9MpkI",
        "outputId": "f85960de-b22f-4c61-fce2-545c232a5e86"
      },
      "execution_count": 38,
      "outputs": [
        {
          "output_type": "execute_result",
          "data": {
            "text/plain": [
              "[['manner',\n",
              "  'How',\n",
              "  'did',\n",
              "  'serfdom',\n",
              "  'develop',\n",
              "  'in',\n",
              "  'and',\n",
              "  'then',\n",
              "  'leave',\n",
              "  'Russia',\n",
              "  '?'],\n",
              " ['cremat',\n",
              "  'What',\n",
              "  'films',\n",
              "  'featured',\n",
              "  'the',\n",
              "  'character',\n",
              "  'Popeye',\n",
              "  'Doyle',\n",
              "  '?']]"
            ]
          },
          "metadata": {},
          "execution_count": 38
        }
      ]
    },
    {
      "cell_type": "markdown",
      "source": [
        "## Building the Vocabulary"
      ],
      "metadata": {
        "id": "aRjXnpyyMvNX"
      }
    },
    {
      "cell_type": "code",
      "source": [
        "vocab = list(set(flatten(X)))\n",
        "print(len(vocab))\n",
        "print(vocab)\n",
        "\n",
        "'''\n",
        "This line of code is used to create a vocabulary from the processed text data in the X list.\n",
        "flatten(X): This function is called to flatten the list X, which contains lists of words. The flatten function is defined earlier\n",
        "in your code as a lambda function that flattens a list of lists. It's used to convert the list of lists into a single list containing all the words from all the texts.\n",
        "\n",
        "set(flatten(X)): This part of the code creates a set from the flattened list of words. A set is an unordered collection of unique elements.\n",
        "Using a set here ensures that you have a list of unique words from the entire text corpus, removing any duplicates.\n",
        "\n",
        "list(set(flatten(X))): Finally, the set is converted back into a list. This step is done to obtain a list of unique words\n",
        "(vocabulary) from the text data. The vocab variable will contain a list of all unique words used in the text corpus.\n",
        "\n",
        "In natural language processing, creating a vocabulary is a common preprocessing step. This vocabulary is often used for\n",
        "tasks like text classification, sentiment analysis, or training neural networks. Having a vocabulary allows you to represent words\n",
        "as numerical indices, which is essential for many machine learning and deep learning algorithms.'''"
      ],
      "metadata": {
        "colab": {
          "base_uri": "https://localhost:8080/"
        },
        "id": "uvcDee8MMwBC",
        "outputId": "bf31bda0-bd6b-485f-9685-630c058a881d"
      },
      "execution_count": 39,
      "outputs": [
        {
          "output_type": "stream",
          "name": "stdout",
          "text": [
            "9117\n",
            "['Soviet', 'haven', 'filthiest', 'bands', 'close', 'makes', 'Garrett', 'ballad', 'Triangle', 'woo', 'hear', 'physician', 'constitute', 'Water', 'declare', 'logo', 'cans', 'HUGO', 'buy', 'Tel', 'new', 'Harriet', 'candle', 'conference', 'Hamlet', 'MGM', 'Edmund', 'petroleum', 'sleep', 'beat', 'incubate', 'short', 'KDGE', 'Johnson', 'fiddlers', 'entertainer', 'Allsburg', 'Duane', 'didn', 'find', 'referring', 'GE', 'congressional', 'contemporary', 'Major', 'Ivy', 'jazz', 'year', 'trip', 'holiday', 'Gillette', 'Hyatt', 'Yeat', 'conjugations', 'Vichy', 'Sisters', 'rolling', 'dissolved', 'preacher', 'domesticated', 'Piazza', 'signed', 'Congress', 'America', 'comparisons', 'proficient', 'officially', 'Pike', '###', 'Jesse', 'groups', 'naked', 'connection', 'disaster', 'Throat', 'battlefield', 'transport', 'Fiesta', 'hearings', 'once-removed', 'Ancient', 'abacus', 'Sicilian', 'Dwarfs', 'blush', 'frozen', 'Turner', 'nonchlorine', 'Claus', 'Linux', 'battle', 'Oswald', 'Writer', 'equator', 'illegally', 'among', 'vacuum', 'Humpty', 'holidays', 'Normans', 'pitcher', 'W', 'derived', 'stripped', 'category', 'donating', 'far', 'Octavius', 'Lime', 'links', 'even', 'Logan', 'properly', 'Heart', 'Tell', 'Spain', 'Rich', 'gross', 'dem', 'canal', 'Bette', 'Syrian-held', 'adventures', 'Long', 'paid', 'breweries', 'thing', 'Polish', 'hockey', 'condoms', 'imprisoned', 'Cathedral', 'martial', 'Family', 'fluorine', 'Piccadilly', 'West', 'BIOS', 'calculator', 'digits', 'Ossining', '##-hour', 'bachelor', 'frontier', 'Bowls', 'aimed', 'treasury', 'access', 'Commonwealth', 'Algiers', 'Element', 'southwestern', 'battery', 'TFT', 'Shostakovich', 'accommodate', 'Cookbook', 'snowboard', 'horrors', 'net', 'electric', 'Kythnos', 'Europeans', 'shoreline', 'lake', 'nuclear-powered', 'Madonna', 'zodiacal', 'Spahn', 'munching', 'him', \"'ll\", 'Lilly', 'criminologist', 'Hamed', 'Battery', 'carcinogens', 'Thor', 'added', 'Brillo', 'Nepal', 'underage', 'things', 'Astaire', 'calluses', 'advertises', 'def', 'Nations', 'warmup', 'menus', 'ports', 'launched', 'Palmer', 'third-rate', 'Rascals', 'Marvel', 'renown', 'transistor', 'friendliness', 'Bernini-Bristol', 'Bob', 'zoological', 'producers', 'gangsters', 'dumplings', 'fast-food', 'harmful', 'Project', 'headaches', 'part', 'disposable', 'magnetic', 'Milton', 'Hurricane', 'constructed', 'Crossword', 'vote', 'racehorse', 'claim', 'nuts', 'Tufts', 'Frobisher', 'bibliography', 'Bert', 'Kubrick', 'beaches', 'Giza', 'Lynmouth', 'tomato', 'caused', 'flows', 'Razor', 'manufacturing', 'constellation', 'EENTY', 'gives', 'Room', 'features', 'ways', 'Spumante', 'wilderness', 'motion', 'available', 'means', 'Atari', 'hates', 'Mandrake', 'advertising', 'disk', 'Maris', 'airport', 'dumb-but-loveable', 'principle', 'preferably', 'B##', 'Tasman', 'Queen', 'minded', 'signs', 'train', 'zip', 'style', 'lasts', 'conditioner', 'Detroit', 'Unification', 'schematics', 'nitrogen', 'Reynolds', 'meter', 'Yank', 'dams', 'Jones', 'Armstrong', 'Ron', 'kilamanjaro', 'Franklin', 'surrendered', 'Courage', 'Dita', 'Sawyer', 'boasts', 'area', 'council', 'Solomon', 'nun', 'masquerade', 'Bucher', 'Sondheim', 'Olive', 'Christine', 'itch', 'Cobain', 'Baffin', 'Awards', 'bars', 'manicure', 'polio', 'Edward', 'down', 'devil', 'zero', 'surroundings', 'reputed', 'laments', 'advertise', 'Cow', 'Salzburg', 'Kasparov', 'G.', 'Jake', 'compile', 'mascot', 'bombing', 'cocaine', 'glove', 'does', 'hard-of', 'Beak', 'lions', 'Omni', 'melts', 'Mackinaw', 'pulp', 'urban', 'Chevrolet', 'fastener', 'scientific', 'Pro', 'Blood', 'Life', 'ostrich', 'Basketball', 'ham', 'vegetable', 'primate', 'fossilizes', 'cricketer', 'larynx', 'Shooting', 'attempt', 'killed', 'Square', 'births', 'spicey', 'words', 'doubles', 'adventuring', 'Goldfinger', 'managing', 'rotary', 'Hub', 'ethylene', 'laptop', 'Tears', 'correspondent', 'Elongated', 'grandeur', 'Woodrow', 'Princess', 'E.', 'manatees', 'Yalta', 'Avenue', 'Majal', '##-minute', 'rathaus', 'Klan', 'Oklahoma', 'boyfriend', 'Arcane', 'flyer', 'Hamill', 'Melodies', 'Red', 'original', 'terrorized', 'Angelica', 'merged', 'Congo', 'earth', 'included', 'Yogi', '##ed', 'highest-paying', 'Olivia', 'Denver', 'Pit', 'glitters', 'Mary', 'seizure', 'tourist', 'Imperial', 'Turin', 'saxophone', 'Isle', 'effects', 'Magee', 'sleeve', 'scene', 'Boheme', 'conservancy', 'literature', 'shots', 'mean', 'library', 'Zimbabwe', 'So', 'Robert', 'collect', 'lo-o-ove', 'primal', 'tin', 'Hard', 'Bat', 'right', 'dogs', 'stake', 'into', 'translated', 'Canary', 'depression', 'oil-producing', 'Daniel', 'dealer', 'maids', 'unarmed', 'fax', 'villainous', 'Hasidic', 'Fletcher', 'Where', 'Hussein', 'cosmology', 'plays', 'screen', 'Philippine', 'era', 'Vinci', 'Quixote', 'Budweis', 'Silvers', 'chess', 'tragedy', 'NBC', 'educational', 'plumbism', 'determinism', 'whatever', 'vodka', 'states', 'chancery', 'Shylock', 'airplane', 'rebounds', 'impress', 'patented', 'goldfish', 'Prix', 'Allan', 'Santos', 'sonic', 'Mankiewicz', 'Wladyslaw', 'followed', 'compare', 'bonds', '#-sided', 'green', 'horseshoes', 'Four', 'penalty', 'altered', 'drought', 'produced', 'Theses', 'commercially', 'Muppets', 'holes', 'Neoclassical', 'come-on', 'drivers', '##Mhz', 'graduate', 'ultraviolet', 'firewall', 'gunboat', 'waste', 'curl', 'ballet', 'Hulk', 'Tootsie', 'literary', 'cold', 'collier', 'snowboarding', 'previous', 'anorexia', 'vesting', 'Valentine', 'Miracles', 'spears', 'amphibians', 'maker', 'jack-o', 'Micronauts', 'Chablis', 'put', 'fishmarket', 'blue', 'Nadia', 'scrum', 'attends', 'fix', 'mar', 'mount', 'shows', 'stop', 'factor', 'paintball', 'rooftops', 'freckles', 'large', 'acreage', 'swimming', 'quart', 'Wills', 'champions', 'Yorktown', 'woodpeckers', 'debate', 'so', 'Cobb', 'Tax', 'invention', 'dreamed', 'Albee', 'got', 'squeaky', 'points', 'chick', 'Kippur', 'par', 'stops', 'submarines', 'reports', 'mouth', 'Nails', 'assign', 'grandfather', 'established', 'abbreviated', 'DT', 'CPR', 'switch', 'supplier', 'devoured', 'William', 'selling', 'repeats', 'cold-water', 'volcanoes', 'Coca-Cola', 'exile', 'Mars', 'Sexual', 'sexual', 'myth', 'combustion', 'Luis', 'Edessa', 'Sherman', 'seventh', 'quicker', 'Scientology', 'child', 'Wenceslas', 'poetic', 'scream', 'friction', 'Horsemen', 'Bill', 'Jeremy', 'auto', 'Punch', 'Christian', 'second-biggest', 'suit', 'Valdez', 'pyramid', 'sheep', 'trade', 'quickest', 'narrates', 'Atlantic', 'Noriega', 'Main', 'per', 'underwater', 'Qintex', 'Speed', 'ribbon', 'ash', 'Dylan', 'November', 'strontium', 'Kennedy', 'Scooby-Doo', 'Lady', 'hungry', 'quickly', 'Honduras', 'approximate', 'describes', 'wage', 'double-word-score', 'Buffett', 'idle', 'soap', 'creative', 'Nero', 'housewarming', 'authorities', 'percentage', 'NNP', 'preference', 'substance', 'seaweed', 'governor', 'gay', 'King', 'cooling', 'Period', 'orgasm', 'Pacific', 'medium', 'swimmer', 'postage', 'Tolstoy', 'Collins', 'inauguration', 'drag', 'Victory', 'Professional', 'II', 'mammals', 'conservationist', 'Devo', 'tonsils', 'bishop', 'Boop', 'distance', 'houseplants', 'Peloponnesian', 'wonders', 'oceans', 'Esperanto', 'notes', 'Super', 'Jefferson', 'resistance', 'Wakefield', 'Run', 'Heineken', 'prime', 'empty', 'anti-locking', 'stern', 'dime', 'announced', 'pronounced', 'normal', 'Snoopy', 'Nixon', 'berth', 'Fifth', 'harbor', 'bugs', 'recounts', 'tannins', 'Casper', 'tissue', 'sins', 'tailoring', 'dominoes', 'Challengers', 'emmigrate', 'west', 'Dolly', 'man', 'calls', 'capitalism', 'birth', 'Emma', 'snore', 'Sauvignon', 'magnetar', 'plain', 'travelers', 'processor', 'Forever', 'Inhumans', 'credited', 'soldier', 'swastika', 'Moo', 'earn', 'newsmen', 'Cliff', 'department', 'dentist', 'aneurysm', 'method', 'Yiddish', 'builder', 'Jenna', 'dumbest', 'Harold', 'Forests', 'Lovell', 'Naples', 'sartorial', 'formed', 'hummingbird', 'expect', '$##', 'arches', 'Village', 'ratio', 'Bruegel', 'bikini', 'Cobol', 'Gretel', 'Cole', 'Mrs.', \"'n\", 'Dannon', 'truck', 'Trail', 'allowed', 'Cauliflower', 'Brother', 'tails', \"####'s\", 'minimum', 'ruminant', 'Doublespeak', 'disaccharide', 'Black', 'Godiva', 'windshield', 'Aeul', 'Iowa', 'Morning', 'Doodle', 'Metamorphosis', 'received', 'chessboard', 'remove', 'Albert', 'Ranger', 'JESSICA', 'Klein', 'Cream', 'quarts', 'stand', 'East-West', 'it', 'after-dinner', 'vacations', 'Inoco', 'Grinch', 'resignation', 'unleashed', 'equation', 'Nightmare', 'Hollywood', 'slinky', 'chickens', 'active', 'Pride', 'high-rise', 'darts', 'fu', 'enemies', 'entries', 'mourning', 'determines', 'Freeman', 'hobby', 'want', 'pregnacy', 'Nile', 'Hansel', 'comics', 'Z', 'rarest', 'traveling', 'Iceland', 'Ohio', 'carries', 'hunter', 'Dennis', 'curious', 'Cromwell', 'else', 'birthstone', 'Tyrannosaurus', 'Hawn', 'learned', 'exactly', \"'t\", 'Caribbean', 'Gene', 'agree', 'where', 'Letter', 'stem', 'two-penny', 'zipper', 'Sony', 'bullseye', 'beneath', 'insects', 'Cecil', 'crew', 'westward-flowing', 'fifth-largest', 'usenet', 'bullets', 'early', 'Gates', 'snake', 'sprawling', 'Brigham', 'HUB', 'seriously', 'rail', 'Kyriakos', 'landing', 'fable', 'churches', 'Acquaintance', 'nematode', 'My', 'alternative', 'issue', 'produces', 'cream', 'badly', 'Rica', 'mystical', 'flavor', 'Koresh', 'long-term', 'Alvin', 'daughter', 'Tristar', 'Rome', 'contained', 'Gulliver', 'field', 'Sabrina', 'Before', 'fool', 'd', 'virus', 'caught', 'square', 'Jeff', 'credits', 'normally', 'Reagan', 'Humbert', 'drug', 'Zorro', 'heads', 'salesman', 'Body', 'DeFreeze', 'Answers.com', 'Houdini', 'elephant', 'Dwight', 'mosquito', 'poll', 'Pole', 'Trophy', 'administration', 'Norwegian', 'Janelle', 'rights', 'definition', 'telegraph', 'Bernoulli', 'Street', 'saying', 'dimly-lit', 'AuH#O', 'absolute', 'extant', 'other', 'chino', 'wop', 'Virgin', 'Kurt', 'photographer', 'temperature', 'Alexandra', 'foreign', 'stereo', 'Wu', 'cowrote', 'hematoma', 'Fats', 'Pinatubo', 'Gettysburg', 'court-martialled', 'chance', 'devices', 'fell', 'strong', 'spanish', 'only', 'Meyer', 'Gorbachev', 'Minow', 'Truman', 'vernal', 'Amazons', 'Lemmon', 'easiest', 'filmmakers', 'prescription', 'micro', 'theme', 'Porter', 'email', 'Preservation', 'roosters', 'survivor', 'obtained', 'income', 'sang', 'fairy', 'Antarctica', 'Jan.', 'hebephrenia', 'crop', 'Wiz', 'Garth', 'Communist', 'rulebook', 'elections', 'strokes', 'look', 'Spade', 'weakness', 'such', 'Monument', 'Olsen', 'cannabis', 'Booth', 'Cowardly', 'Eisenhower', 'second-lightest', 'ducats', 'Bronze', 'found', 'unique', 'Konrad', 'biography', 'brunettes', 'bow', 'top', 'Genome', 'portly', 'symbolize', 'inning', 'Manfred', 'Caine', 'Aesop', 'Brunei', 'Wang', 'Esa-Pekka', 'creator', 'jockey', 'Warren', 'course', 'Hoya', 'seeing', 'celebrity', 'coconut', 'racoon', 'Spock', 'taxi', 'users', 'Island', 'Munich', 'Beast', 'maneuver', 'Dominica', 'Saudi', 'Teddy', 'osteichthyes', 'ski', 'effective', 'shot', 'desc', 'About', 'valuable', 'imported', 'foot-inches', 'flora', 'Arts', 'Gothic', 'maximum', 'Steve', 'touring', 'Fate', 'Star-Spangled', 'super-criminal', 'great', 'Love', 'eggs', 'china', 'Movie', 'Nantucket', 'McGwire', 'Bernstein', 'Lost', 'Watergate', 'mid', 'streak', 'Eagles', 'tailbacks', 'Ghost', 'folk', 'Starship', 'Disabilities', 'Waverly', 'Frommer', 'Hungarian', 'vermicilli', 'vineyard', 'become', 'commissioner', 'Fig', 'draw', 'moth', 'Barkis', 'comic', 'Oscar', 'Nipsy', 'Nordic', 'consciousness', 'Marijuana', 'direct', 'oath', 'senses', 'Shirley', 'surrender', 'shrubs', 'artist', 'amezaiku', 'weather', 'Bullock', 'Representatives', 'Pass', 'Silly', 'Boy', 'USB', 'Benson', 'eight-ball', 'now-defunct', 'Trial', 'camera-ready', 'Scouts', 'Kathie', 'peacocks', 'muscle', 'Robinson', 'numbers', 'caucasian', 'Elizabethian', 'resource', 'Joel', 'bar-code', 'George', 'Sellers', 'HDLC', 'Burr', 'Southern', 'when', 'Master', 'hosted', 'Daws', 'spotlight', 'MacNeil', 'incorporate', 'network', 'including', 'races', 'exclusively', 'brief', 'bingo', 'spouting', 'degrees', 'never', 'Chernobyl', 'akita', 'oldtime', 'Wilbur', 'Philippines', 'oz', 'Pines', 'Nicolo', 'years', 'Orleans', 'dartboard', 'Mighty', 'denote', 'Six', 'row', 'Sunflowers', 'represented', 'Doonesbury', 'climbs', \"'etat\", 'snafu', 'cop', 'purchase', 'cultural', 'molybdenum', 'sores', 'sport', 'heptagon', 'penis', 'wielded', 'join', 'Shays', 'stealing', 'send', 'pub', 'education', 'flies', 'Huston', 'geckos', 'presidency', 'Ice', 'potlatch', 'becoming', 'goddess', 'warn', 'hope', 'Holly', 'weight', 'cricket', 'prayer', 'Powhatan', 'enzymes', 'luxury', 'Homerian', 'secondary', 'rabbit', 'element', 'describing', 'Cid', 'mailing', 'secretary', 'sci-fi', 'funnel', 'led', 'cross', 'Chomper', 'NATO', 'achievement', 'Immaculate', 'maiden', 'application', 'keep', 'granted', 'western', 'Pluribus', 'Camden', 'remain', 'Report', 'Mercury', 'starving', 'Valley', 'Carson', 'apart', 'films', 'Count', 'Alan', 'Anita', 'Hall', 'cartoons', 'between', 'Pound', 'Silver', 'fireplace', 'poster', 'pronoun', 'located', 'italian', 'Nazis', 'Vasco', 'corresponding', 'nephew', 'supports', 'pickled', 'sentence', 'Mountain', 'cookie', 'z', 'shillings', 'weakest', 'surfboard', 'selecting', 'Sunnyside', 'personality', 'Plc', 'Glamis', 'Natchitoches', 'cut', 'Toulmin', 'Film', 'weaknesses', 'Jesus', 'defects', 'Knute', 'Marxism', 'moxie', 'Federal', 'spy', 'aol.com', 'palace', 'aids', 'reptiles', 'If', 'asleep', 'Finn', 'seasons', 'crib', 'succeed', 'Texas', 'picked', 'ethnological', 'Ozzie', 'meters', 'Darla', 'organized', 'now', 'surrounds', 'Mel', 'Evening', 'Music', 'causing', 'sweet', 'feet', 'Joint', 'monarchs', 'Russell', 'foot', 'bounty', 'significant', 'textiles', 'Excite', 'buildings', 'Fawaz', 'Post', 'Be', 'this', 'spread', 'circulatory', 'bogs', 'fingernails', 'Stassen', 'marketed', 'played', 'ballcock', 'vowel', 'offered', 'span', 'knight', 'Foundation', 'review', 'tournaments', 'flintknapping', 'college', 'number', 'policy', 'starting', 'Midsummer', 'Nuts', 'die', 'medicinal', 'Prinze', 'postal', 'Deep', 'droppings', 'otters', 'On', 'would', 'knows', 'Mystique', 'balls', 'optical', 'buffalo', 'amendements', 'Superbowl', 'Shelleen', 'crosstalk', 'Carmania', 'tokens', 'Chiffons', 'acoustic', 'second-largest', 'database', 'sex', 'theories', 'fun', 'libraries', 'Hawkins', 'detective', 'offers', 'shallow', 'faith', 'commonplace', 'Yale', 'wearing', 'Twins', 'Youngman', 'Gasoline', 'statistics', 'Swiss', 'spermologer', 'martyrs', 'slave', 'Allen', 'Minnesota', 'Amazon', 'puppy', 'Koran', 'ever-lost', 'residents', 'nutrition', 'Hirohito', 'anymore', '##-??', 'resident', 'Southdowns', 'waterfall', 'dissented', 'suicides', 'trainer', 'Iron', 'second', 'appear', 'erected', 'let', 'Lust', 'residence', 'frog', 'bridge', 'hiding', 'fifth', 'battleship', 'shuttle', 'Castro', 'front', 'Eldercare', 'Night', 'acceptance', 'female', 'pain', 'Pasternak', 'Garden', 'ago', 'zeros', 'colt', 'clitoris', 'T.', 'returned', 'Indianapolis', 'range', 'label', 'released', 'print', 'inventor', 'hen', 'mildew', 'boxer', 'bibliographies', 'W.C.', 'Napolean', 'Cuba', 'donor', 'forest', 'bails', 'passed', 'tarnished', 'Osbourne', 'flight', 'marbles', 'private', 'resurrectionist', 'da', 'sing', 'kite', 'trillion', 'Kremlin', 'Gregorian', 'humps', 'sun', 'Virtual', 'Smokey', 'Swampy', 'count', 'Frankfurt', 'January', 'Scott', 'strings', 'sacred', 'node', 'international', 'Churchill', 'yogurt', 'salary', 'Boomer', 'Assembly', 'another', 'Craps', 'within', 'saw', 'Pulitzer', 'defined', 'plagued', 'robust', 'Lhasa', 'tradition', 'cable', 'away', 'Ted', 'fan', 'Sutter', 'professional', 'Names', 'titanium', 'ACLU', 'gambler', 'Marbella', 'Renaud', 'success', 'writ', 'Afghanistan', 'appears', 'don', 'airplanes', 'clear', 'pronounce', 'opener', 'Coming', 'achieves', 'complex', 'comedienne', 'Rosa', 'balance', 'restored', 'Lambs', 'Wee', 'apartments', 'colonists', 'canker', 'wheat', 'chops', 'architect', 'youngest', 'felt', 'Sisley', 'Wolfsheim', 'Learning', 'Romanticism', 'frames', 'pacer', 'discovered', 'Orinoco', 'achievements', 'Skrunch', 'Calcutta', 'immortals', 'lunch', 'Gestapo', 'center', 'pasta', 'H.G.', 'snowballs', 'always', 'rating', 'compound', 'costume', 'buried', 'back', 'whom', 'keeping', 'etched', 'Mae', '###-page', 'extinct', 'end', 'volley', 'employ', 'home', 'couple', 'Giant', 'Cleaveland', 'heavily', 'Wanna-Go-Home', 'monster', 'flowers', 'beside', 'costumed', 'Instrument', 'art', 'Prophet', 'a', 'operations', 'limelight', 'mate', 'Paleozoic', 'flights', 'outfit', 'tape', 'Ash', 'generation', 'culture', 'Idiot', 'upper', 'Capp', 'blues', 'sports', 'symbol', 'prize', 'Clarabell', 'not', 'having', 'turnkey', 'Fischer', 'Odin', 'witches', 'bronze', 'Maiden', 'Japanese', 'Manuel', 'railways', 'laboratory', 'must', 'Leonardo', 'originate', 'poorly', 'radiation', 'Standard', 'Priestley', 'showtimes', 'miniature', 'finger', 'protanopia', 'Ybarra', 'Madrid', 'multimedia', 'mentor', 'Canada', 'portrays', 'sailed', 'organism', 'Wiggins', 'Ping', 'alliance', 'northernmost', 'excuse', 'prices', 'refugee', 'collection', 'four-player', 'biographer', 'guinea', 'sit', 'smell', 'Triple', 'Wisconsin', 'chefs', 'fallen', 'cannon', 'waterways', 'Wright', 'Dumbo', 'Abigail', 'guitar', 'band', 'approaches', 'population', 'scholar', 'sinning', 'Badu', 'stones', 'mixture', 'embracing', 'Cruel', 'amen', 'airwaves', 'Holmes', 'Countries', 'Katy', 'Fairy', 'canine', 'Carl', 'NASA', 'OZ', 'Security', 'fourth', 'Of', 'SysRq', 'alive', 'consortium', 'Become', 'Stakes', 'flytrap', 'glory', 'inspiration', 'N.M', 'Periodic', 'earns', 'caul', 'symbolizes', 'weapon', 'Coca', 'alphabetical', 'Anything', 'Barton', 'serving', 'stains', 'Scrooge', 'Lloyd', 'animals', 'recorded', '#-dollar', 'Imam', 'modestly', 'beer-producing', 'serigraph', 'Clue', 'download', 'Grandma', 'C.', 'Nasty', 'Bacon', 'elements', 'Fine', 'Saratoga', 'typing', 'disc', 'leader', 'working', 'for', 'manufacturer', 'assassin', 'stages', '####s', 'creams', 'appointed', 'dunk', 'Theta', 'abdominal', 'mushroom', 'Usenet', 'When', 'Twain', 'quantum', 'novelist', 'all-time', 'strikes', 'Tailors', 'whorehouse', 'bar', 'tested', 'more', 'shape-shifting', 'shadow', 'goosebumps', 'carried', '##', 'twirl', 'Jurassic', 'blacks', 'jellies', 'territories', 'four-legged', 'Gatsby', 'Youth', 'bullfighting', 'jealousy', 'lobster', 'witness', 'Chilly', 'type', 'intestines', 'Jude', 'Appalachian', 'Shuttle', 'Beaver', 'pig', 'Alice', \"'ve\", '##%', 'drinks', 'daycare', 'classic', 'Eduard', 'Plot', 'Tetrinet', 'experiment', 'who', 'boxes', 'fighting', 'engineering', 'inescapable', 'Tirana', 'Glen', 'Rockefeller', 'circle', 'playwright', 'protein', 'multiplexer', 'types', 'opera', 'parasites', 'growth', 'church', 'pilots', 'hatchet', 'movement', 'Chamber', 'making', 'Baggins', 'counterpart', 'Eskimo', 'neon', 'Wines', 'fraction', 'rocks', 'register', 'sweaty', 'blend', 'minister', \"'The\", 'Perfect', 'fossils', 'widely', 'something', 'webpage', 'election', 'Historical', 'wet', 'modern', 'granite', 'stock', 'Sinclair', 'geographic', 'two', 'jail', 'numeral', 'Friz', 'mix', 'sailing', 'Supper', 'participle', 'adopted', 'oven', 'correctly', 'casting', 'actress', 'colleges', 'Las', 'traded', 'AIM-##C', 'road', 'Studios', 'delegate', 'cases', 'genetics', 'verse', 'monthly', 'blood', 'Arabic', 'Belmont', 'Christi', 'winning', 'attacked', 'Tooth', 'value', 'joined', 'Frederick', 'heating', 'builds', 'InSb', 'bucks', 'exchange', 'pomegranate', 'Luxury', 'plugged', 'Fairground', 'photosynthesis', 'POS', 'M##', 'atom', 'should', 'Vera', 'jobs', 'topple', 'leaky', 'Universal', 'giraffe', 'Milt', 'stingers', 'appropriately', 'destroyers', 'Badge', 'Hispaniola', 'plantation', 'prevent', 'involved', 'model', 'centurion', 'Macy', 'four-volume', 'compared', 'superb', 'painter', 'invent', 'Abolitionists', 'morale', '#.#', 'Minneapolis', 'edentulous', 'raised', 'Rhinestone', 'Whitcomb', 'farthest', 'McArthur', 'exploring', 'stripe', 'reliable', 'amendment', 'controls', 'Winslow', 'Beetle', 'Georgia', 'Fiji', 'Second', 'process', 'skateboarding', 'Die', 'Broadway', 'Everest', 'bones', 'psychologically', 'albums', 'Kenyan', 'Windsor', 'Sidney', 'battles', 'contest', 'longtime', 'hardest', 'gain', 'locations', 'Research', 'burns', 'Banana', 'families', 'Faso', 'major-league', 'members', 'breathe', 'MVP', 'deck', 'ultimate', 'Mpilo', 'vitamins', 'gangster', 'free', 'Rom', 'self-portraits', 'Exxon', 'rubber', 'soy', 'just', 'Incredible', 'then-derogatory', 'Baghdad', 'Braille', 'Walt', 'third', 'XV', 'study', 'Otto', 'temperance', 'roses', 'Ethel', 'solid', 'disease', 'Adenauer', 'Kinks', 'document', 'Blockade', 'overthrow', 'mathematical', 'family', 'founding', 'Colin', 'evidence', 'countries', 'snowiest', 'endometriosis', 'stethoscope', 'echidna', 'Mission', 'Kilroy', 'Bohannon', 'Golden', 'Frosted', 'habeas', 'relatives', 'Dan', 'percent', 'feathered', 'Hirsch', 'Leichhardt', 'stings', 'overalls', 'Havana', 'governmental', 'Academy-award-winning', 'leaps', 'bith', 'coastlines', 'typist', 'created', 'Trivial', 'invasion', 'shield', 'Qatar', 'Rice-Davies', 'outer', 'prisoner', 'Mr.', 'refusing', 'left', 'Angela', 'Raider', 'Mao', 'sometimes', 'hook', 'pig-the', 'microcontrollers', 'pointed', 'carefreeness', 'powerful', 'record', 'solve', 'Vatican', 'gravity', 'licensed', 'Sheila', 'Cabarnet', 'textile', 'button', 'lap', 'tropical', 'there', 'expedition', 'zodiac', 'Rwanda', 'Moss', 'cubic', 'stinger', 'Bourbon', 'votes', 'particularly', 'BTU', 'Lockerbie', 'Michagin', 'Any', 'athletes', 'Winston', 'listing', 'swallow', 'Goes', 'vice', 'bourdon', 'joint', 'blonde', 'hamburger', 'history', 'global', 'Kentucky', 'B', 'faced', 'fireplug', 'Sally', 'Delhi', 'golf', 'accepted', 'volcano', 'Rubik', 'heavier', 'Loomis', 'Kubla', 'Harrison', 'Final', 'radio', 'Act', 'east', 'Econoline', 'verdict', 'tornado', 'Rock-a-by', 'represents', 'Terrence', 'Van', 'Kemper', 'wood', 'occur', 'clause', 'hour', 'cloud', 'answers.com', 'highschool', 'Stalin', 'crocodile', 'A-Tasket', 'DC', 'gods', 'AOL', 'Aztecs', 'ended', 'Springs', 'team', 'Pecos', 'form', 'stomach', 'boost', 'here', 'vermouth', 'daminozide', 'NNS', 'journalist', 'Manche', 'Aviv', 'Woodstock', 'buxom', 'Ally', 'combatting', 'thickness', 'farther', 'Robertson', 'Godfather', 'Show', 'Kahn', 'Blanc', 'Romans', 'Ghana', 'Computer', 'interesting', 'journalism', 'during', 'Olestra', 'Clock', 'scalene', 'Tucson', 'Nicholas', 'Anne', 'pony', 'virgin', 'largest', 'Orkney', 'arch-enemy', 'pounds', 'December', 'topophobic', 'valve', 'Alda', 'black', 'dry', 'Joseph', 'operate', 'nitrates', 'Allah', 'populated', 'ticket', 'Future', 'initial', 'sued', 'galliano', 'Arthur', 'Archie', 'dose', 'debts', 'Rostropovich', 'blinking', 'seawater', 'Wide', 'Kosovo', 'facial', 'serial', 'Monkey', 'replies', 'draft', 'picture', 'problems', 'donated', 'skating', 'ind', 'Compaq', 'test', 'Human', 'Matt', 'publication', 'Backgammon', 'midi', 'fastest-growing', 'ebb', 'Maximo', 'Cap', 'country', 'Server', 'Ernest', 'wheel', 'dreams', 'safety', 'Furth', 'AD', 'narcolepsy', 'wolverine', 'superstar', '###s', 'Ulysses', 'responsible', 'Grammys', 'Fickle', 'Theater', 'needle', 'recalled', 'War', 'Marshall', 'twin', 'becomes', 'Chapman', 'instruments', 'ficus', 'motto', 'eleven', 'salt', 'wars', 'quintillion', 'birthday', 'capture', 'therapy', 'premier', 'sculpture', 'Dubliners', 'later', 'Mauis', 'Ottawa', 'boycott', 'say', 'D-DAY', 'inducted', 'Batman', 'water', 'Radio', 'Shirtwaist', 'federal', 'coming', 'most...subversive', 'bigger', 'Home', 'oilseeds', 'shelf', 'pregnancies', 'Japan', 'Andie', 'pea-soup', 'Freddie', 'blackjack', 'Havoc', 'prequel', 'Doyle', 'Baby', 'arriving', 'herbs', 'havoc', 'racism', 'Pajamas', 'noise', 'Horton', 'Palace', 'construction', 'Rose', 'roulette', 'Tower', 'myself', 'Foreman', ',', 'cousins', 'company', 'embedded', 'transported', 'potatoes', 'alphabetically', 'College', 'killing', 'Windows', 'Knox', 'hurley', 'make', 'Cowboys', 'Bavaria', 'Gumee', 'pointsettia', 'Mont', 'Latin', 'dismissed', 'names', 'Wassermann', 'Anglicans', 'proud', 'Jellicle', 'invade', 'Reference', 'Thursday', 'hamburgers', 'Fergie', 'odds', 'action', 'pianos', 'Winkie', 'headquartered', 'known', 'woman', 'Petrified', 'tragic', 'Crown-winning', 'tampon', 'W.B.', 'pets', 'win', 'legal', 'Rolling', '###-a-year', 'Jaco', 'flogged', 'Bebrenia', 'laser', 'RAM', 'poor', 'seafarers', '##th', 'Stephen', 'seccession', 'Hillary', 'Pennsylvania', 'Leif', 'Dam', 'Lowlands', 'Barr', 'Challenge', 'fondness', 'Fourth', 'usually', 'tend', 'Ernie', 'Inch', 'Doxat', 'variety', 'palms', 'bat', 'get', 'Three', 'Drink', 'date', 'float', 'Concorde', 'acronym', 'dustbowl', 'Low', 'tabulates', 'Channel', 'weird', 'prankster', 'islands', 'actual', 'affect', 'plastic', 'exhibit', 'hypertext', 'space', 'average', 'Alpert', 'Macbeth', 'increase', 'satelite', 'caffeinated', 'softest', 'butter', 'Picasso', 'Public', 'convicted', 'best-selling', 'Sky', 'reach', 'activity', 'Pox', 'Richthofen', 'nanometer', 'Ruby', 'picking', 'Archimedes', 'representative', 'reunited', 'explore', 'buttons', 'schnitzel', 'senator', 'theorem', 'rid', 'difference', 'mines', 'Victorian', 'condition', 'enormous', 'cache', 'delicacy', 'object', 'simple', 'fraudulent', 'keratoma', 'Corps', 'Model', 'gained', 'bathing', 'group', 'collectible', 'fuel', 'Depreciates', 'County', 'easily', 'longest-running', 'Russian-led', 'Little', 'DSL', 'Bitmap', 'ridges', 'Sinemet', 'Langston', 'succotash', 'burnt', 'generals', 'heuristic', 'Hooters', 'fishing', 'Dogtown', 'Guess', 'ill-fated', 'de', 'committee', 'realm', 'Gaelic', 'pow', 'hooligans', 'fibrosis', 'crabgrass', 'named', 'A&W', 'designed', 'sprayed', 'Prizes', 'visual', 'observed', 'sagebrush', 'Lawn', 'Belushi', 'system', 'Montana', 'Garcia', 'please', 'entirely', 'case', 'Cash', 'project', 'Dominos', 'aged', 'non-mechanical', 'Gama', 'Sark', 'submerged', 'recipe', 'alveoli', 'Creeps', 'Wind', 'chromatology', 'people', 'bankruptcy', 'millennium', 'Coney', 'Brown', 'predominant', 'abbreviation', 'detailed', 'dig', 'Arcadia', 'scores', 'thine', 'Philebus-like', 'president', 'dinner', 'Parrot', 'attempts', 'heat-seeking', 'spritsail', 'Yesterdays', 'logic', 'language', 'Actor', 'kickoff', 'thin', 'relief', 'corridors', 'Ball', 'Rubin', 'Hohenzollerns', 'recommended', 'elders', 'Struggle', 'Rousseau', 'supplement', 'sheath', 'Paganini', 'entail', 'draws', 'quotes', 'cleaner', 'Smith', 'liners', 'napsylate', 'revolution', 'catalogues', 'celebrated', 'philosophy', 'expectant', 'peninsula', 'executed', 'Philip', 'lesson', 'Viagra', 'status', 'Gimli', 'Microverse', 'seashell', 'Cheerios', 'charge', 'dragonflies', 'Euchre', 'eliminates', 'brothel', 'genetic', 'neurasthenia', 'gin', 'topped', 'Cincinnati', 'tribes', 'hide-and-seek', 'stage', 'Kuwait', 'M#', 'five', 'reflectors', 'worm', 'Barney', 'dragged', 'show', 'Jackson', 'fish', 'took', 'Michigan', 'phalanx', 'Married', 'pole', 'live', 'helped', 'Chivington', 'Peruvian', 'doorstep', 'Wilder', 'Hass', 'Far', 'Gin', 'activated', 'aerodynamics', 'body', 'commit', 'Donald', 'Chiefs', 'bra', 'barbershop', 'Notre', 'aunt', 'its', 'silent', 'Holy', 'attire', 'Brunswick', 'Letterman', 'chemicals', 'Buffalo', 'tabs', 'Paraguay', 'Physics', 'understand', 'present', 'cultivated', 'Mykonos', 'improve', 'Anna', 'Gehrig', 'prism', 'birthdate', 'Davies', 'Hillbillies', 'Roosevelt', 'Erich', 'villain', '###th', 'products', 'Joe', 'hairdryer', 'casinos', 'lose', 'Bentos', 'growing', 'Fields', 'brake', 'Apocalypse', 'Arkansas', 'Inc.', 'assume', 'Ingmar', 'Brenner', 'witnesses', 'business', 'magnate', 'Rico', 'varieties', 'three-letter', 'alcohol', 'Marlowe', 'Hustle', 'condiment', 'revolutions', 'Gaulle', 't-shirts', 'Universe', 'Medal', 'deep', 'shoes', 'hard', 'Merrick', 'infatuation', 'Fair', 'Games', 'city', 'runner', 'predicted', 'hump', \"'m\", 'pistol', 'Franz', 'mare', 'Fontanne', 'admit', 'practical', 'Preston', 'gringo', 'Coral', 'Fatman', 'encyclopedia', 'GM', 'Luther', 'greatest', 'dinosaur', 'Austerlitz', 'kilowatt', \"'l\", 'strait', 'fat', 'Enchanted', 'electricity', 'ejaculate', 'McQueen', \"'Hara\", 'translate', 'snow', 'Reading', 'Kevin', 'mistakenly', 'Journey', 'Sweet', 'simpler', 'opened', 'Commandments', 'Tylo', 'parts', 'compounds', 'slaughter', 'Tennis', 'gametophytic', 'Styron', 'Kings', 'spectacle', 'Walden', 'nation', 'currents', 'announce', 'soup', 'Joy', 'archy', 'Boxing', 'burst', 'why', 'stronger', 'Puerto', 'flags', 'on-line', 'Council', 'Democratic', 'probability', 'Ludwig', 'may', 'Whose', 'Louisiana', 'Eyes', 'Republic', 'your', 'contact', 'Tadeus', 'finally', 'Enterprise', 'comedy', 'warp', 'hermit', 'opponent', 'regenerate', 'Superbowls', 'Oscars', 'perpetually', 'Cisco', 'proliferation', 'Jacques', 'Choo', 'Washington', 'palmiped', 'folklore', 'diamonds', 'Walker', 'Sydney', 'Siphnos', 'Britain', 'held', 'toothbrush', 'Party', 'G', 'Dialing', 'Padres', 'weft', 'galaxy', 'cost', 'Streetcar', 'Monopoly', 'All', 'lead', 'double-O', 'showers', 'Live', 'sink', 'individuals', 'opponents', 'eyes', 'believed', 'businesses', 'crossed', 'whole', 'traveled', 'toothpaste', 'FDR', 'citizen', 'adjacent', 'Bellworts', 'better', 'reaches', 'exercises', 'respones', 'Hajo', 'blunder', 'conservation', 'fruits', 'Tunnel', 'knighted', 'toys', 'cats', 'murdering', 'Was', 'Huckleberry', 'Ark', 'Funky', 'Via', 'small', 'Level', 'Kreme', 'oyster', 'copyrighted', 'pad', 'slavery', 'rear', 'Lincoln', 'ghost', 'CAD-like', 'album', 'Retrograde', 'shave', 'billiards', 'revive', 'seventeen', 'Baryshnikov', 'state', 'Bang', 'gymnophobia', 'Madre', 'short-', 'mob', 'co-educational', 'turret', \"'re\", 'slide', 'acne', 'Kennedy-Nixon', 'Fidelis', 'horoscope', 'fruit-topped', 'rural', 'Old', 'von', 'tenses', 'Lakehurst', 'raced', 'Treasure', 'seaport', '#%', 'chloroplasts', 'nominee', 'gemstone', 'coastal', 'guitarist', 'directors', 'prophecies', 'Auerstadt', 'Which', 'discover', 'boardwalk', 'Moses', 'Thalia', 'drills', 'year-old', 'spokespeople', 'paracetamol', 'medicine', 'Pangaea', 'Gemini', 'McDonald', 'Lucy', 'dialog', 'Lehmann', 'advised', 'cable-modem', 'training', 'Andrea', 'skyline', 'No.', 'burned', 'designate', 'Benny', 'he', 'Tub', 'organ', 'VIII', 'saute', 'dairy', 'admitted', 'Floyd', 'No.#', 'lapwarmers', 'us', 'Bolivia', 'crewel', '####+####', 'Stone', 'Hardy', 'Diana', 'dot', 'Scopes', 'apartment', 'Saks', 'mentioned', 'vegetables', \"'N\", 'recently', 'Gift', 'Riots', 'Purina', 'park', 'Castle', 'True', 'Salesman', 'slotbacks', 'correct', 'Zatanna', 'subtitled', 'Aldous', 'English', '##-millimeter', 'last', 'Punchbowl', 'Rios', 'latent', 'fatal', 'lobsters', 'epicenter', 'event', 'vessels', 'set', 'leave', 'Fund', 'Cooper', 'odor', 'spacewalk', 'enough', 'song', 'Come', 'orbit', 'Blue', 'Mikhail', 'expensive', 'captained', 'Dwarf', 'while', 'explosion', 'Vocal', 'Badaling', 'Lacan', 'policeman', 'Pibb', 'speed', 'You', 'drive', 'expression', 'mixing', 'Disney', 'Judson', 'river', 'Li', 'Chance', 'Pepper', 'ashen-faced', 'brand', 'Good', 'Gore', 'geographical', 'dancer', 'Annie', 'coot', 'prisoners', 'division', 'feeling', 'you', 'Honey', 'League', 'industrial', 'Switzerland', 'chip', 'chemical', 'Comics', 'page', 'manifest', 'Classification', 'Delaware', 'shopping', 'cumin', 'Caroll', 'desert', 'companies', 'Bars', 'freeway', 'any', 'rearranged', 'Kappa', \"'Neal\", 'Witch', 'skater', 'Drinks', 'diamond', 'Israel', 'Pissarro', 'Reflections', 'official', 'violins', 'Liston', 'imaginary', 'Korea', 'tackle', 'side', 'creation', 'Pegnitz', 'advanced', 'Rosanna-Dana', 'next', 'cockatoo', 'onion', 'Warhol', 'Cinzano', 'cowboy', 'Governor', 'Ian', 'Rawhide', 'Sen.', 'Titus', 'Desmond', 'frogs', 'Mormons', 'Crusaders', 'frequency', 'PSI', 'challenged', 'Iraqis', 'Nicolet', 'recetrack', 'self-defense', 'soldiers', 'Willie', 'Spielberg', 'court', 'Loco-Motion', 'purchased', 'fringe', 'Roman', 'horse', 'select', 'Wade', 'Deadwood', 'Rain', 'Mcbeal', 'Wonderbra', 'causes', 'king', 'district', 'poop', 'despondent', 'yearly', 'topic', 'Connecticut', 'Montenegro', 'have', 'Airport', 'store', 'insurance', 'Days', 'Audrey', 'Guild', 'steepest', 'sound', 'student', 'goal', 'instructor', 'boats', 'Farrow', 'microscope', 'SQL', 'ethnic', 'robbers', 'T.S.', 'triplets', 'army', 'agency', 'quisling', 'saved', 'punch-drunk', 'Crowd', 'eaten', 'Dale', 'ranch', 'Anka', 'livestock', 'Rowan', 'Russian', 'domestica', 'Browns', 'crisscrosses', 'magazines', 'Fiedler', 'ferret', 'Harper', 'rise', 'bubble', 'appointing', 'LOL', 'cherry', 'jar', 'President', 'walks', 'Manufacturer', 'Oceania', 'blind', 'parking', 'Foster', 'kills', 'ship', 'sum', 'rocket', 'provided', 'middle', 'export', 'four-letter', 'finds', 'survival', 'cooking', 'Frankie', 'cranes', 'diskettes', 'Confucius', 'check', 'Daisy', 'distinctive', 'Johnston', 'Statistical', 'unusual', 'breed', 'Dana', 'Alpha', 'advertised', 'thermal', 'needed', 'patent', 'Menace', 'Algeria', 'skiing', 'Animals', 'enigmatic', 'removed', 'manner', 'Yaroslavl', 'Boulevard', 'milk', 'stripes', 'Cleveland', 'directions', 'Conception', 'shooting', 'both', 'students', 'predict', 'Cage', 'www.answers.com', 'one', 'suite', 'stat', 'rings', 'command', 'skin', 'constitutes', 'poetry', 'founder', 'equinox', 'premiered', '...the', 'Pellegrin', 'Gerald', 'jackass', 'sister', 'Alexander', '&', 'golden', 'kisser', 'ART', 'refuge', 'children', 'Sennett', 'pleasure', 'murder', 'gallon', 'duck', 'example', 'Fitzgerald', 'Madding', 'lifting', 'bras', 'Coronado', 'transplant', 'Buda', 'help', 'radioactive', 'Northwestern', 'independent', 'lies', 'experimenting', 'touched', 'file', 'BPH', 'Moby', 'published', 'Anthony', 'baja', 'creating', 'seafaring', 'Bigfoot', 'Cody', 'presided', 'Wheel', 'walking', 'spent', 'tornadoes', 'roe', 'Why', 'Romantic', 'satirized', 'Lucelly', 'housewife', 'flier', 'dialing', 'washed', 'hot-rodder', 'outside', 'Sarge', 'C', 'Fray', 'passing', 'successful', 'bus', 'Dealer', 'Henry', 'panic', 'His', 'extensively', 'border', 'tongue', 'fascist', 'Arabia', 'biggest-selling', 'wick', 'lowest', 'cowboys', 'associated', 'Jena', 'what', 'nightclubs', 'Carter', 'Huxley', 'Reserve', 'spiritual', 'commercials', 'stranger', 'door', 'cities', 'agent', 'forward-thinking', 'really', 'cook', 'Bella', 'Rednitz', 'Bastille', 'tile', 'adjoining', 'economist', 'important', 'bird', 'Jordan', 'BOC', 'hypnotherapy', 'Kafka', 'alcoholic', 'bees', 'Beatles', 'merchandise', 'jewelry', '?', 'comes', 'Ruth', 'Eliot', 'novel', 'luggage', 'once', 'Ford', 'treason', 'Depression', 'nouns', 'Sonny', 'Bay', 'Strikes', 'Arch', 'off-limits', 'VBP', 'liquid', 'Hibernia', 'total', 'macaroni', 'Burma', 'Theodore', 'suspension', 'object-oriented', 'March', 'tenpin', 'Budweiser', 'Diplomacy', 'Spears', 'judged', 'disappeared', 'Disneyland', 'slaves', 'made', 'Ali', 'bog', 'Snyder', 'and', 'Katharine', 'ever', 'Sundance', 'Snowman', \"'-lantern\", 'Kilvington', 'Amazonis', 'Cob', 'estimated', 'imitations', 'LAN', 'Flight', 'Rock', 'Agra', 'Wood', 'Dame', 'symphony', 'reliever', 'camera', 'Professor', 'captain', 'entire', 'HIV', 'bureaucracy', 'Snow', 'episode', 'acheive', 'still', 'Thackeray', 'habits', 'Lights', 'Mutiny', 'image', 'circumorbital', 'once-a-year', 'noir', 'Nebraska', 'kissed', 'K', 'cousin', '##.#', 'International', 'grabs', 'appointments', 'blondes', 'queen', 'asthma', 'acquitted', 'clean', 'Bureau', 'FUBU', 'women', 'milligrams', 'Edmonton', 'FCC', 'son-in-law', 'Crokinole', 'beating', 'toes', 'quit', 'Tiny', 'suburban', 'typically', \"'\", 'Leo', 'befell', 'iron', 'divides', 'vagina', 'China', 'Cairo', 'Vietnamese', 'appoint', 'traditions', 'Betty', 'clouds', 'Uncle', 'doesn', 'mine', 'southeast', 'reputation', 'Captain', 'phone', 'frustrated', 'Humor', 'planned', 'donation', '#th', 'chapter', 'conquered', 'world', 'european', 'temperatures', 'Dixville', 'Mexico', 'constipation', 'Oilers', 'socioeconomic', 'ambassador', 'Casey', 'beers', 'levitation', 'screening', 'entertainment', 'reason', 'rectum', 'will', 'Sweden', 'handheld', 'Babar', 'deadly', 'policy-making', 'Hilton', 'learn', 'daughters', 'dealing', 'kinds', 'Railway', 'memory', 'fast', 'Smelly', 'god', 'RCD', 'termed', 'pens', 'than', 'past', 'kicked', 'borrow', 'Homer', 'InterLata', 'Ismail', 'mythology', 'science', 'hives', 'aspartame', 'served', 'consider', 'weeks', 'name', 'Principles', 'ANZUS', 'Indonesia-Malaysia', 'one-fifth', 'tv', 'cookies', 'Two', 'Aykroyd', 'Le', 'perfume', 'poing', 'movie', \"n't\", 'Mt.', 'spelled', 'prenatal', 'Biloxi', 'ridge', 'proof', 'billion', 'Billingsgate', 'Asiento', 'Head', 'Grimace', 'Apollo', 'satellites', 'Force', 'troops', 'Delilah', 'colonies', 'agreement', 'son', 'Our', 'five-time', 'gender', 'adoptive', 'heliologist', 'material', 'scars', 'bytes', 'chihuahuas', 'Beethoven', 'Helps', 'she', 'scoundrel', 'quadruplets', 'Butch', 'gallery', 'soundtrack', 'Wild', 'Central', 'usage', 'Salk', 'bounded', 'Iraq', 'theory', 'Joan', 'dialect', 'fall', 'oysters', 'saliva', 'directly', 'catsup', 'Shalom', 'Petersburg', 'factors', 'tour', 'roasts', 'lucky', 'times', 'Yemen', 'allegedly', 'went', 'shared', 'Campbell', 'many', 'authors', 'entered', 'general', 'mess', 'Camp', 'purified', 'Lifesaver', 'sphere', 'kiss', 'tattoo', 'match', 'Daxam', 'upstaged', 'Berlin', 'opening', 'origin', 'Malta', 'breaking', 'respirator', 'sergeant', 'my', 'given', 'songs', 'fellow', 'Argentine', 'executor', 'Baskin', 'garden', 'Edison', 'Cube', 'fortune', 'Andress', 'footballs', 'Inuit', 'savings', 'flush', 'eye', 'Everybody', 'vocalist', 'protection', 'Pittsburgh', 'Five', 'Madame', 'aircraft', 'AFS', 'question', 'infection', 'teenagers', 'lying', 'separated', 'Farmer', 'Babe', 'Kindergarten', 'mayans', 'acres', 'Musketeers', 'energy', 'seats', 'Marvin', 'equity', 'habitat', 'done', 'Fahrenheit', 'Paul', 'shower', 'unfamiliar', 'one-brand', 'cane', 'extended', 'gland', 'snakes', 'Forces', 'Stagecoach', 'companion', 'Soft', 'cereal', 'Curious', 'summit', 'i', 'Bligh', 'resting', 'winter', 'swatch', 'period', 'copy', 'Playboy', 'economists', 'declared', 'farrier', 'Isadora', 'trail', 'World', 'can', 'Stradivarius', 'LMDS', 'Poe', 'Calypso', 'clay', 'pass', 'Aaron', 'O.J.', 'centigrade', 'shine', 'ships', 'tap', 'Dow', 'Herm', 'trees', 'ivy', 'rate', 'pictures', 'Nine', 'players', 'Dracula', 'arab', 'occupation', 'Apricot', 'requirement', 'days', 'exposed', 'judge', 'presidents', 'goals', 'career', 'Cortez', 'Betsy', 'second-most-used', 'frequent', 'contents', 'la', 'Monterey', 'Mozambique', 'Explorer', 'PC', 'format', 'Supreme', 'grow', 'listen', 'Scarlet', 'Miller', 'bowler', 'invaded', 'out', 'sites', 'adjournment', 'cards', 'accessory', 'lists', 'Neuromancer', 'lady', 'mummified', 'spice', 'Gulf', 'ox', '###-yard', 'Montmartre', 'layer', 'foreclosure', 'Dicken', 'Hundred', 'mankind', 'Eunice', 'Everett', 'camels', 'Commune', 'Wonders', 'polis', 'taller', 'shark', 'terror', 'billionth', 'Francis', 'Bull', 'Pascal', 'mehitabel', 'VW', 'chronicles', 'Lutine', 'gave', 'rent', 'annotated', 'Harry', 'malls', 'Widmark', 'call', 'Arctic', 'indicator', 'uniforms', 'mind', 'full-length', 'tall', 'Planet', 'Gitchee', 'been', 'Jewish', 'Beatrix', 'Katie', '##rd', 'sharks', 'New', 'establish', 'brew', 'Trafalgar', 'edition', 'Brian', 'crooner', 'Herb', 'their', 'Oompas', 'starts', 'outline', 'James', 'faces', 'Steps', 'magazine', 'Michener', 'whitetail', 'specifically', 'according', 'practice', 'Duckling', 'Natick', 'Lew', 'Woman', 'Murdock', 'Harvey', 'worst', 'intestine', 'nostrum', 'refer', 'owning', 'sailors', 'or', 'Luke', 'www.questions.com', 'thalassemia', 'Indonesia', 'chickenpoxs', 'monk', 'Madsen', 'hand', 'Kane', 'remote', 'Packers', 'spoke', 'flatfish', 'Shakespeare', 'Khrushchev', 'Yes', 'Sicily', 'Bailey', 'Tim', 'Bunyan', 'developmental', 'recruitment', 'hocks', 'ancient', 'Pizarro', 'speeds', 'Stockyards', 'strips', 'Feeling', 'biceps', 'built', 'universe', 'SAP', 'Gustav', 'Thanksgiving', 'Kindergarden', 'Marcus', 'touchdowns', 'pushed', 'cheery', 'pepper', 'From', 'husband-and-wife', 'tiger', 'ride', 'Nelson', 'Fool', 'surgeon', 'Video', 'Beata', 'Rockne', 'boosters', 'chancellor', 'McPugg', 'appeared', 'Unsafe', 'Hoffman', 'hiemal', 'healthy', 'Groundshog', 'afoot', 'Pussycats', 'waved', 'revolt', 'relationship', 'Excellence', 'started', 'verification', 'gliding', 'Seas', 'began', 'prompted', 'papal', 'dealt', 'pedometer', 'R-Rated', 'Clara', 'Cribbage', 'celestial', 'darkness', 'Stirred-Not', 'anti-AIDS', 'Abraham', 'Greenwich', 'Buddy', 'Anopheles', 'holds', 'Wilding', 'Johnny', 'Institute', 'believe', 'voting', 'metric', 'Meet', 'vending', 'cells', 'contain', 'Gaja', 'SED', 'medication', 'Soto', 'Boru', 'efficient', 'York', 'Mexican', 'Heimlich', 'term', 'touching', 'marzipan', 'drafted', 'anyone', 'dream', 'nihilist', 'importers', 'People', 'text', 'Uris', 'cellulose', 'plantar', 'Dinner', 'Earhart', 'Eriksen', 'Spangled', 'Bible', 'upon', 'machinery', 'human', 'diplomatic', 'logarithmic', 'Phillip', 'Thatcher', 'Namath', 'rites', 'Lincolns', 'entering', 'eyebrows', 'vaccine', 'Rhodes', 'extends', 'principles', 'pictorial', 'Spartacus', 'drinking', 'liner', 'stick', 'helicopter', 'Ventura', 'suffrage', 'innings', 'Czech', 'criticizing', 'Massachusetts', 'penetrate', 'elevation', 'egg', 'transistors', 'per-capita', 'street', 'eidologist', 'beholder', 'eight', 'coppertop', 'Abzug', 'saline', '#rd', 'polish', 'Charles', 'characters', 'Basque', 'wiener', 'money', 'plants', 'stars', 'rule', 'Deacon', 'Janis', 'light', 'Hemisphere', 'enters', 'S&P', 'choice', 'tried', 'shoot', 'ratified', 'projects', 'URL', 'pay', 'rivers', 'internal', 'recessed-filter', 'Honor', 'build', 'Hill', 'fathom', 'Dolphins', 'mythological', 'Hinduism', 'philatelist', 'terry', 'Ocean', 'rhomboideus', 'Bombay', 'sense', 'stood', 'JPEG', 'idea', 'exact', 'represent', 'printing', 'Self-Portrait', 'mules', 'shady', 'advocate', 'critical', 'standards', 'circumnavigator', 'prepared', 'Argonauts', 'bestselling', 'hold', 'Nicois', 'NBA', 'humanitarian', 'fascinated', 'Christmas', 'Stadium', 'J.D.', 'midwest', 'fears', 'Ed', 'living', 'motorcycles', 'endangered', 'Mile', 'requires', 'Champions', 'kitchen', 'Catholic', 'chemiosmotic', 'gas', 'lines', 'longer', 'marrow', 'Lucas', 'American', 'stalled', 'mainly', 'every', 'floor', 'engine', 'Fame', 'minutes', 'Lee', 'Memphis', 'goes', 'very', 'rowing', 'regulate', 'terms', 'Astroturf', 'environmental', 'Urgent', 'Saturday', 'analysis', 'taste', 'rainfall', 'celebrations', 'priest', 'biritch', 'paleontologist', 'niche', 'divided', 'handicraft', 'Marquesas', 'Led', 'factory', 'CCT', 'chef', 'underground', 'alphabet', 'tennis', 'Cayman', 'sings', 'ogre', 'Mahal', 'Leoncavallo', 'strap', 'syzygy', 'Mountains', 'needs', 'Jericho', 'chiropodist', 'considered', 'trigonometry', '#-foot-#', 'rabies', 'McLean', 'safe', 'muscles', 'appearance', 'along', 'incompetent', 'fly', 'Smothers', 'all', 'wood-pusher', 'Livingstone', 'wives', 'won', 'Magoo', 'twenty', 'Doris', 'up', 'climate', 'Hearst', 'Pamplona', 'Adventures', 'straight', 'late-night', 'promising', 'Korean', 'Spartanburg', 'constitution', 'Judith', 'walls', 'Dutch', 'raid', 'diminutive', 'highest-ranking', 'sort', 'consecutive', 'burial', 'sent', 'accused', 'eats', 'N', 'conductor', 'Lactobacillus', 'East', 'D-Day', 'Reims', 'food', 'sells', 'Dripper', 'performed', 'Strait', 'recreational', 'Budapest', 'competitor', 'Bandit', 'impenetrable', 'shortage', 'WWII', 'marks', 'ISPs', 'eels', 'false', 'Pepsi', 'ridden', 'Trojan', 'bug', 'popcorn', 'Capone', 'dysostosis', 'Honeymooners', 'Prewitt', 'migrates', 'Muffins', 'Dictator', 'L.L.', 'Thank-you', 'fusion', 'some', 'says', 'staff', 'Timor', 'meat', 'Inga', 'Islamic', 'spices', 'France', 'recharged', 'lickin', 'jets', 'pull-tab', 'Statue', 'J.R.R.', 'plot', 'Golfers', 'Child', 'cartoondom', 'R&B', 'Gate', 'Renoir', 'fired', 'cd', 'Titanic', 'LSD', 'Ewoks', 'civilization', 'Mideast', 'Werewolf', 'homes', 'owe', 'Williams', 'M.', 'Dead', 'sporting', 'repeating', 'bread', 'except', 'Salonen', 'Marley', 'White', 'crouching', 'Simpsons', 'watchers', 'Prayer', 'historical', 'Ninety-Five', 'Iberia', 'mile', 'introduced', 'contemptible', 'Nora', 'Onassis', 'sleeps', 'pushes', 'accidents', 'auto-commentary', 'caber-tossing', 'minor', 'attraction', 'astronaut', 'Konigsberg', 'Center', 'iron-covered', 'coin', 'Moore', 'Woods', 'pigeons', 'costs', 'tornados', 'Sigmund', 'Aristotle', 'steel', 'Java', 'begin', 'Mississippi', 'Chancellor', 'restaurant', 'gulf', 'England', 'CC', 'Bering', 'schooling', 'lyrics', 'tune', 'assent', 'Scandinavian', 'pasture', 'cancer', 'compass', 'powdered', 'WWI', 'Goering', 'Yom', 'coordinate', 'Rhode', 'Shawn', 'others', 'elevators', 'suspect', 'Untouchables', 'industry', 'rabbits', 'purpose', 'Ipanema', 'geese', 'harness', 'morning', 'Is', 'baking', 'Greek', 'leukemia', 'hyenas', 'Fox', 'Isis', 'dental', 'Constitution', 'famously', 'alternator', 'C.C.', 'faults', 'pox', 'cullions', 'phobophobe', 'Weir', 'screensaver', 'taken', 'actor', 'teaching', 'sharp', 'coupled', 'castles', 'Silence', 'log', 'eagle', 'seized', 'Mia', 'mailman', 'martini-drinking', 'Travels', 'citizens', 'war', 'Apache', 'software', 'Fulton', 'Expert', 'Ermal', 'graders', 'rode', 'ante', 'Justin', 'Allies', 'shape', 'displays', 'contains', 'o', 'Candlemas', 'writer', 'without', 'Maddox', 'remake', 'partnership', 'connected', 'Krajina', 'baseball', 'chances', 'Hendrix', 'Procter', 'servers', 'czar', 'snack', 'game', 'ripening', 'provider', 'Dartmouth', 'Zebulon', 'jokes', 'Hudson', 'toward', 'Journal', 'sterilize', 'Socrates', 'Great', 'Bisset', 'replica', 'Bowl', 'machines', 'VB', 'How', 'Building', 'calleda', 'multilingual', 'born', 'Academy', 'Maria', 'instrument', 'Perry', 'Fire', 'Yoo-Hoo', 'polka', 'figures', 'joins', 'nuclear', 'building', 'class', 'round-robin', 'Morley', 'wine', 'Kingdom', 'A.', 'as', 'Camptown', 'redness', 'Jackie', 'mountains', 'Joplin', 'Eminem', 'higher', 'Guadalcanal', 'Sao', 'Blythe', 'Staff', 'deltiologist', 'bowl', 'Columbia', 'H.', 'Oakland', 'winners', 'control', 'guidance', 'keeps', 'abandoned', 'distilling', 'sign', 'Squares', 'Molly', 'mother-in-law', 'Biblical', 'information', 'erupts', 'Men', 'Free', 'Alyssa', 'painting', 'nursery', 'cemetery', 'peasant', 'Jackal', 'Post-its', 'Hesse', 'destroyed', 'Flash', 'feature', 'Keaton', 'It', 'wild', 'Iberian', 'Estonia', 'grown', 'Amendment', 'hospital', 'Independence', 'co-pilot', 'ruble', 'liked', 'canonize', 'surge', 'abb', 'spawned', 'Guiteau', 'slogan', 'visible', 'carry', 'carrying', 'commonly', 'protects', 'cardinal', 'cecum', 'Abuse', 'Rubble', 'folic', 'Winter', 'routinely', 'utensils', 'suffering', 'Nevada', 'come', 'Antonio', 'bends', 'liberated', 'pimp', 'sank', 'Bilbo', 'hotel', 'combinations', 'ink', 'Herculoids', 'session', 'Cherokee', 'Wharton', 'football', 'confession', 'occurred', 'LP', 'came', 'Bagdad', 'cranberry', 'fingers', 'biscuits', 'required', 'Duck', 'Crows', 'Forest', 'seas', 'Keck', 'Twin', 'leper', 'includes', 'Import', 'horologist', 'criminal', 'Indian', 'Executive', 'Craft', 'capita', 'Winkerbean', 'Needle', 'Chesapeake', 'ESPN', 'Dyke', 'Catch-##', 'employment', 'khaki', 'attracts', 'dextropropoxyphen', 'chairbound', 'male', 'honey', 'airliners', 'Ezra', 'experience', 'eighth', 'Sergeant', 'clown', 'Edwin', 'voter', 'Thumb', 'Flying', 'Nun', 'brother', 'Melbourne', 'online', 'Urals', 'shown', 'tree', 'Viking', 'Marilyn', 'ostriches', 'freshen', 'stained', 'mainland', 'watch', 'pies', 'broadcasting', 'journey', 'hijacking', 'sled', 'Helens', 'visitors', 'Italy', 'Pops', 'troilism', 'white', 'Johnnie', 'Bend', 'cabinets', 'Hornby', 'wallpaper', 'spaghetti', 'Zadora', 'tribe', 'Dick', 'Bernardo', 'first-aid', 'guy', 'Jim', 'synonymous', 'irate', 'lightning', 'sixties', 'Jaws', 'bricks', 'mountainous', 'organizational', 'fastest', 'pineapple', 'Leverkusen', 'dunes', 'KnowPost.com', 'putting', 'Club', 'hands', 'technical', 'bill', 'Gang', 'program', 'conterminous', 'DEET', 'wind', 'video', 'closest', 'mayor', 'virtues', 'Gleason', 'alloy', 'card', 'epic', 'firm', 'dispatched', 'snap', 'pyramid-builders', 'tie', 'movies', 'Jogis', 'crash', 'Parks', 'Vader', 'fixed', 'Klux', 'registration', 'half-Irish', 'Grant', 'Ten', 'stickers', 'from', 'Wilson', 'Paulo', 'gymnast', 'forms', 'Press', 'Jules', 'morality', 'orgin', 'annual', 'heart', 'Fourteenth', 'San', 'Asia', 'Store', 'profession', 'electronic', 'Mama', 'bee', 'Lite', 'Rummy', 'turkey', 'meant', 'Peter', 'BUD', 'novels', 'automobiles', 'skunks', 'Somalia', 'Clinic', 'sonnets', 'decade', 'Beard', 'young', 'Stewart', 'under', 'Greenland', 'laid', 'machine', 'NASDAQ', 'McCall', 'Newton', 'Costa', 'popular', 'treasure', 'super-teams', 'tools', 'obscene', 'Fort', 'organic', 'exterminate', 'LCD', 'press', 'of', 'classical', 'Barbados', 'shall', 'termeq', 'bone', 'Rolfe', 'tungsten', 'aroused', 'Amsterdam', 'share', 'potential', 'Approximately', 'slim', 'separates', 'joining', 'nestled', 'occupy', 'full', 'Leave', 'Burkina', 'cullion', 'cave', 'Third', 'Strip', 'promote', 'Peachy', 'Al-Farri', 'walk', 'Exposition', 'Hotel', 'prefix', 'corporate', 'Nones', 'allow', 'Lion', 'related', 'Spider', 'Checkmate', 'handicapped', 'whose', 'clockwise', 'south', 'regulation', 'Semper', 'rest', 'Mackenzie', 'Monet', 'today', 'ask', 'support', 'flat', 'Martin', 'evaporate', 'Judaism', 'Yellowstone', 'tout', 'slane', 'visit', 'willin', 'grades', 'Declaration', 'pairs', 'trophy', 'series', 'departments', 'Insurance', 'mined', 'copper', 'measure', 'firestorm', 'agencies', 'Sea', 'swapped', '#-foot-square', 'Loop', 'divers', 'feud', 'club', 'enrolled', 'testament', 'Mutombo', 'Ben', 'Sons', 'snoring', 'arch', 'Kim', 'aid', 'acid', 'Park', 'Galloping', 'cartoonist', 'Billy', 'books', 'grass', 'ejaculation', 'promoters', 'worked', 'e-mail', 'Hoover', 'spend', 'veterans', 'lotion', 'sessions', 'Get', 'audience', 'Living', 'Sebastian', 'urologist', 'vs.', 'sizes', 'limited', 'fans', 'witch', 'clock', 'merchant', 'glass', 'turning', 'tolling', 'Belgrade', 'Up', 'phenomenon', 'presidential', 'gene-mapping', 'Blobbo', 'materials', 'Blackhawks', 'inhabit', 'Abner', 'globe', 'sees', 'crack', 'Tutu', 'Tweety', 'advantages', 'add', 'dare', 'Label', 'drain', 'lemurs', 'Voice', 'issues', 'forehand', 'gopher', 'fires', 'Ringo', 'Rights', 'Stratton', 'Souls', 'Grace', 'account', 'might', 'animated', 'goalie', 'Enemy', 'Stuart', 'pregnancy', 'ruckus', 'juices', 'jerks', 'Raiders', 'claimed', 'humans', 'Sioux', 'leprosy', 'VHF', 'block', 'rank', 'eat', 'Cave', 'tail', 'Manchester', 'low', 'Pokemon', 'free-legged', 'poem', 'pursued', 'driving', 'acted', 'aviator', 'depended', 'follow', 'Lunt', 'bloom', 'MiG', 'drink', 'crops', 'cat-bear', 'Weber', 'Catherine', 'best-seller', 'lang', 'panties', 'Brethren', 'Winnie', 'IOC', 'extension', 'magic', 'guerrilla', 'reference', 'Fordham', 'Simon', 'magnet', 'cover', 'cactus', 'volsize', 'comfortable', 'drunk', 'illustrated', 'Grand', 'darn', 'community', 'architecture', 'letters', 'mouse', 'indelicately', 'adorns', 'unaccounted', 'source', 'continent', 'Americas', 'skim', 'shiest', 'Milky', 'Hazmat', 'opposite', 'partition', 'defensive', 'Best', 'adults', 'grader', 'O', 'Indiglo', 'valley', 'chin', 'Yousuf', 'Benedict', 'Renaissance', 'completed', 'Einstein', 'Hermits', 'pilot', 'shoulder', 'Kay', 'Shetland', 'Lenny', 'Soldiers', 'layers', 'appropriate', 'anniversary', 'Piggy', 'Guam', 'Stairway', 'faster', 'deer', 'R.E.M.', 'Pythagoras', 'wines', 'motion-picture', 'highway', 'Tzimisce', 'conditioning', 'throwing', 'coaching', 'Sleepless', 'diameter', 'personal', 'latitude', 'Technology', 'possession', 'landed', 'Mediterranean', 'wicket', 'carelessness', 'graphic', 'Lombardi', 'Colonel', 'gr', 'Hemingway', 'Honda', 'Florence', 'university', 'Randolph', 'operant', 'facility', 'driven', 'Hand', 'Niigata', 'single', 'landmark', 'afflict', 'infomatics', 'Brazil', 'Person', 'agents', 'shouldn', 'Theresa', 'yellow', 'megawatts', 'hiccup', 'Swimming', 'panel', 'Scotch', 'flower', 'Justice', 'web', 'colored', 'tips', 'Braun', 'Gordon', 'rainstorm', 'Antigua', 'footwear', 'gradual', 'Woody', 'Gandhi', 'elephants', 'Pastorius', 'uniform', 'McCain', 'saltpeter', 'structure', 'denied', 'Feynman', 'youngsters', 'L.', 'Voorhees', 'sired', 'psychiatric', 'prevents', 'Hope', 'House', 'Englishman', 'Ileana', 'Borg', 'beer', 'hat', 'advisory', 'goldenseal', 'Jane', 'South', 'Shores', 'bog-dwellers', 'Much', 'News', 'Drinker', 'sisters', 'Horrors', 'hostages', 'Bryant', 'oxide', 'Pelt', 'ex-dictator', 'math', 'Englishmen', 'symptoms', 'teenager', 'second-longest', 'pneumonia', 'sneeze', 'setting', 'pillar', 'Simpson', 'respond', '##-game', 'baseman', 'Karnak', 'brontosauruses', 'fatalism', 'Keller', 'melt', 'marked', 'Turbulent', 'easy', 'Olympics', 'University', 'Handful', 'near', 'giving', 'display', 'Sleeping', 'Chile', 'basidiomycetes', 'Lovers', 'Navy', 'ers', 'efficiency', 'Patricia', 'dots', 'sisterðcity', 'work', 'price', 'Lives', 'Upstairs', 'Macdonald', 'bears', 'tournament', 'H-bomb', 'Rupee', 'Cos', 'roll', 'orca', 'color', 'Patti', 'tiles', 'Thai', 'airports', 'stricken', '#-#-##', 'sneezing', 'wart', 'Shevardnadze', 'necessarily', 'physical', 'moving', 'stole', 'birds', 'hitting', 'Nancy', 'Corner', 'records', 'Air', 'Alaska', 'viscosity', 'milking', 'unsuccessful', 'Table', 'worth', 'car', 'Nazi', '#-millionth', 'jogging', 'sand', 'Almanac', 'expectancy', 'several', 'Regan', 'Melman', 'partner', 'thee', 'Walter', 'magenta', 'TO', 'Wells', 'dollars', \"''\", 'Elroy', \"'clock\", 'Stonehenge', 'Energy', 'automation', 'gummed', 'PhotoShop', 'scandal', 'prostitute', 'operating', 'Smithsonian', 'Dane', 'specific', 'Sun', 'manufactures', 'Barrett', 'oldest', 'dogsledding', 'Salvador', 'berry', 'Bess', 'wished', 'leaders', 'listeners', 'Kimpo', 'Goldilocks', 'IT', 'march', 'transplants', 'Slightly', 'Nostradamus', 'parachute', 'do', 'Brodie', 'marry', 'Magi', 'deserts', 'corporation', 'writing', 'No', 'Wimbledon', 'fair', 'Smartnet', 'storms', 'initials', 'Christ', 'Holstrum', 'tale', 'menu', 'impact', 'hog', 'restore', 'spectrum', 'Kelly', 'tequila', 'Divide', 'Stick', 'Nebuchadnezzar', 'sitcom', 'Bridge', 'Policy', 'certain', 'Knight', 'Marion', 'hackers', 'attic', 'Angel', 'research', 'open', 'Henderson', 'tarantula', 'settle', 'bond', 'prevailing', 'bust', 'injection', 'Wake', 'MLA', 'NHL', 'Eggs', 'pan', 'pothooks', 'Malaysia', 'cyberspace', 'caffeine', 'wingspan', 'seat', 'crystals', 'Belgium', 'Hawking', 'sensitive', 'better-known', 'flow', 'Favorite', 'Dudley', 'founders', 'Gold', 'Ligurian', 'cucumber', 'distinct', 'preserve', 'remembered', 'He', 'teaspoon', 'plural', 'bless', 'Capricorns', 'provides', 'OJ', 'compiled', 'artists', 'relax', 'marijuana', 'somene', 'enclose', 'smallest', 'Venice', 'supercontinent', 'Mill', 'Packin', 'hiking', 'Helen', 'Caulfield', 'talk-show', 'colorful', 'ornaments', 'Bremer', 'protecting', 'Racetrack', 'Tenderness', 'sunk', 'Again', 'Voyager', 'government', 'tip', 'handle', 'Internet', 'Socratic', 'mammal', 'shipyard', 'Methodist', 'humidity', 'seed', 's', 'watching', 'Morris', 'Tyler', 'island', 'Martian', 'colors', 'trace', 'infant', 'dwarf', 'develop', 'Even', 'snarly', 'gray', 'lingo', 'Damocles', '#-minute', 'Tempelhol', 'pregnant', 'carpenter', 'beach', 'Cracker', 'Puppy', 'warned', 'Quetzalcoatl', 'wins', 'napalm', 'gathering', 'bank', 'fear', 'fertile', 'laureate', 'stratocaster', 'killer', 'Cop', 'tractors', 'Debbie', 'feeding', 'Uplands', 'Tammy', 'fogs', 'Freud', 'purple', 'comprises', 'shouts', 'Rita', 'treat', 'F', 'pandoro', 'themes', 'cigar-chewing', 'dollar', 'sleet', 'manager', 'L.A.', 'geoscientist', 'K.', 'AAA', 'health', 'create', 'raise', 'hot', 'Hamblen', 'tea', 'interrupted', 'U-#', 'adding', 'refuse', 'Give', 'Pump', 'one-pound', 'Scruples', '#', 'resources', 'bulbs', 'need', 'aborigines', 'Bic', 'intelligence', 'treatments', 'Khan', 'Fang', 'Malawi', 'isn', 'Newtons', 'root', 'An', 'quiz', 'Canfield', 'office', 'objects', 'acid-base', 'distinction', 'describe', 'Tampa', 'services', 'Vincent', 'Mast', 'McCheese', 'season', 'wear', 'headquarters', 'Zenger', 'Bear', 'Quirk', 'motorcycle', 'underworld', 'We', 'Remembrance', 'Breony', 'computers', 'Palpatine', 'Boris', 'Irish', 'multiple', 'Ericson', 'Lizzie', 'wrap', 'kill', 'Stones', 'non-fiction', 'Mormon', 'throw', 'non-contagious', 'use', 'wander', 'deadliest', 'infinity', 'Abby', 'temple', 'husbands', 'Dostoevski', 'Mayan', 'Wing', 'caboose', 'Coho', 'Kamchatka', 'Christopher', 'sold', 'synonym', 'umbrellas', 'quarters', 'Gibson', 'CT', 'explosive', 'ball', 'Chiang', 'chromosome', 'hairy', 'sexiest', 'profits', 'chicken', 'piles', 'awakes', 'Diego', 'tire', 'favorite', 'below', 'vessel', 'lawsuit', 'anybody', 'S.O.S.', 'steamboat', 'Transparent', 'boss', 'attorneys', 'true', 'born-child', 'A', 'widely-used', 'Bourbon-Parma', 'Vegas', 'pomegranates', 'solar', 'life', 'about', 'Government', '###-TREE', 'Pilot', 'skittles', 'Mayo', 'often', 'Capital', 'Chiricahua', 'equivalent', 'slits', 'storm', 'Honecker', 'Germanic', 'Warlock', 'Nabokov', 'Yugoslavians', 'sponsor', 'debt', 'methods', 'broadcast', 'Ouarterly', 'design', 'amaretto', 'Go', 'leg', 'ran', 'Elysium', 'plane', 'limits', 'Manchukuo', 'V-#', 'Gran', 'windmills', 'Freedy', 'belong', 'For', '`', 'iris', 'Fermont', 'Blaise', 'Grange', 'paper', 'Colombia', 'tee', 'being', 'monkey', 'Shaken', 'Hawaii', '.dbf', 'speech', 'bedroom', 'enter', 'going', 'bolt', 'trading', 'executioner', 'loss', 'taught', 'chief', 'before', 'cheetahs', 'worldwide', 'photographs', 'noun', 'mixable', 'Rush', 'Ouagadougou', 'Chinese', 'Janet', 'airline', 'Position', 'Burroughs', 'Niagara', 'quotation', 'identity', 'experts', 'Rex', 'Iran-Contra', 'Finger', 'Clinton', 'Puccini', 'tumbled', 'tell', 'slowest', 'landlocked', 'espionage', 'over', 'Orange', 'release', 'Sierra', 'contract', 'cube', 'legendary', 'Rule', 'Rogers', 'military', 'Believe', 'Prize', 'letter', 'Scientists', 'Hour', 'campaign', 'quantity', 'boxing', 'In', 'spritz', 'transcript', 'stadium', 'lovely', 'steeplechase', 'wrestler', 'Doegs', 'sparkling', 'permitted', 'rugby', 'BladeRunner', 'NY', 'position', 'nicknamed', 'McKinley', 'Snickers', 'bullheads', 'hero', 'Cat', 'try', 'Rossner', 'Puddle', 'brilliant', 'Lucille', 'chickadee', 'insanity', 'cheeks', 'Ado', 'fine', 'length', 'videotape', 'delegation', 'hourly', 'survivors', 'dam', 'cholera', 'deconstructionism', 'ankle', 'shortest', 'J.', 'overflow', 'floating', 'Taiwanese', 'screenplay', 'Howard', 'Seagull', 'Name', 'Frito-Lay', 'Potsdam', 'Leon', 'quarterbacks', 'give', 'systems', 'orthopedics', 'parents', 'Parade', 'door-to-door', 'sailor', 'neurological', 'transmitted', 'studios', 'Argentina', 'pencil', 'Jayne', 'vice-president', 'newly', 'Piven', 'Orphans', 'What', 'Thucydides', 'relations', 'television', 'Penn', 'Big', 'Unum', 'Andorra', 'missions', 'cheese', 'sine', 'Masters', 'T', 'Festival', 'S.', 'Bruce', 'Top', 'Vladimir', 'zoo', 'Rubber', 'scares', 'e-commerce', 'Seattle', 'Gods', '#-pin', 'Lata', 'commission', 'Steinbeck', 'paint', 'stories', 'Collector', 'ZIP', 'Woodpecker', 'reactivity', 'Orly', 'museum', 'Bergman', 'vehicles', 'cross-your-heart', 'golfer', 'Larry', 'conifer', 'painters', 'handwriting', 'tweezers', 'Pampas', 'whoever', 'clubs', 'cone', 'honors', 'window', 'Maurizio', 'jump', 'Bonnie', 'head', 'Races', 'ranges', 'Popeye', 'Adam', 'dictator', 'Jett', 'wears', 'Brave', 'Venetian', 'JDR#', 'immigration', 'soccer', 'Times', 'milliseconds', 'planted', 'Do', 'high-risk', 'signals', 'Al', 'commonly-spoken', 'Electoral', 'sub-Saharan', 'Megan', 'relative', 'funny', 'house', 'details', 'Death', 'Literature', 'occurs', 'labor', 'Modern', 'Ursula', 'Brothers', 'ready-to-eat', 'Hell', 'investigation', 'nowadays', 'red-and-white', 'hive', 'silversmith', 'circulation', 'Cartesian', 'biggest', 'Batcycle', 'detectors', 'banned', 'Arnold', 'real', 'Niagra', 'Havilland', 'graces', 'areas', 'manufactured', 'perpetual', 'Union', 'overlook', 'inspirational', 'cult', 'criticism', 'equilibrium', 'temp', 'Tak', 'Finland', 'century', 'continental', 'Associated', 'victory', 'Poppins', 'produce', 'climbing', 'syndrome', 'telephones', 'languages', 'Moon', 'ants', 'Drive', 'bring', 'Napoleonic', 'leads', 'Doo', 'Bibles', 'millions', 'Halloween', 'Scottish', 'Revolution', 'intake', 'Bugs', 'Contemplating', 'technique', 'tide', 'Autry', 'hydrogen', 'pet', 'Gutenberg', 'wreaked', 'visiting', 'take', 'replied', 'direction', 'Tatiana', 'Teenage', 'Danza', 'fit', 'channel', 'care', 'Vienna', 'Headquarters', 'job', 'nationality', 'virtual', 'eh', 'distinguishing', 'ends', 'scratch', 'Copacabana', 'websites', 'Comes', 'qigong', 'Railroad', 'socialism', 'Swamp', 'angles', 'gallons', 'neanderthal', 'kung', 'peanut', 'Mitty', 'Simple', 'boil', 'menace', 'experienced', 'Rick', 'healer', 'Eye', '##-year', 'recognize', 'Original', 'stringed', '.tbk', 'Tom', 'closing', 'collapsed', 'forests', 'wrote', 'domestic', 'order', 'French', 'speaking', 'daily', '#st', 'Shape', '##-year-old', 'rounded', 'Virginia', 'second-highest', '#.##', 'power', 'Reed', 'characterstics', 'translation', 'Pheonix', 'importer', 'bid', 'stay', 'happened', 'chocolates', 'violates', 'UK', 'isosceles', 'wash', 'Case', 'stores', 'stopped', 'Marcos', 'Goldie', 'protagonist', 'neurosurgeon', 'Elm', 'insured', 'party', 'Drew', 'wrestling', 'whip', 'enthalpy', 'dip', 'Myrtle', 'interview', 'uses', 'tastes', 'pearls', 'master', 'Web', 'declaration', 'leaving', 'slime', 'Cola', 'Fantastic', 'VDRL', 'Award', 'emperor', 'enforce', 'Fleming', 'Nintendo', 'acting', 'Bulge', 'claiming', 'G.M.T.', 'Mortgage', 'Boston', 'Zealand', 'ribavirin', 'which', 'Suzette', 'happy', 'debut', 'recommend', 'Green', 'Olympia', 'decorations', 'gesture', 'Dyck', 'Richards', 'beginning', 'hydroelectricity', 'philosophized', 'coney', 'Independent', 'Motors', 'Tale', 'chartered', 'westernmost', 'belt', 'dye', 'pearl', 'Organization', 'hydrosulfite', 'etc.', 'Sara', 'Siskel', 'championship', 'yahoo.com', 'phonograph', 'Libya', 'gymnastics', 'bottled-up', 'Percival', 'The', 'philanthropist', 'bald', 'Leos', 'diving', 'forfeited', 'veal', 'around', 'rejection', 'complete', 'settlement', 'Jr.', 'jersey', 'verdandi', 'bandleader', 'hyperlink', 'music', 'hardening', 'broke', 'Wendy', 'Whip', 'Pageant', 'liability', 'Pocahontas', 'southern', 'each', 'packages', 'wrist', 'Harlow', 'Admiral', 'Thurgood', 'credit', 'M', 'Bears', 'pedestrians', 'Milo', 'after', 'Industrial', 'endurance', 'dialogue', 'exceeded', 'Eckley', 'slow', 'recapture', 'Galaxy', 'likes', 'disks', 'Jay', 'whiskers', 'statement', 'putty', 'matchbook', 'but', 'roommates', 'eligible', 'Tab', 'Canadians', 'Wile', 'brain', 'Emil', 'least-populated', 'turns', 'mevacor', 'hunting', 'Wallbanger', 'techmeth', 'mounted', 'Missionary', 'Metropolis', 'Mojave', 'Year', 'consumption', 'MacDowell', 'Garland', 'Marciano', 'martinis', 'pound', 'articles', 'against', 'Biggest', 'firemen', 'Russia', 'DiMaggio', 'native', 'cured', 'biologist', 'emblazoned', 'forehead', 'funded', 'individual', 'Poconos', 'dish', 'Bermuda', 'truly', 'Vietnam', 'determine', 'development', 'Citizen', 'gambling', 'terabyte', 'Francisco', 'Ugly', 'betting', 'plagues', 'Erwin', 'Falls', 'cables', 'Spaghetti-o', 'apple', 'radius', 'hence', 'LL.M.', 'Forsyth', 'dropped', 'Karsh', 'singular', 'chosen', 'indicate', 'doomed', 'Bond', 'xoxoxox', 'niece', 'geological', 'Ukraine', 'heat', 'copier', 'Place', 'microprocessors', 'D.B.', 'tent', 'airforce', 'Parton', 'Jong', 'bull', 'Poker', 'argon', 'cremat', 'trademark', 'Hanks', 'affected', 'Raja', 'Falklands', 'Alabama', 'continents', 'tons', 'Sand', 'Seriphos', 'Kenya', 'finish', 'castellated', 'main', 'tubetti', 'Westview', 'Cross', 'converting', 'Look', 'ring', 'Amish', 'Colony', '!', 'EKG', 'Spectrum', 'Supergirl', 'complemented', 'Wayne', 'Wolfe', 'Byzantine', 'lost', 'nominations', 'wasn', 'barrier', 'MTV', 'JJ', 'extremes', 'determined', 'Maya', 'point', 'cake', 'graced', 'Roe', 'Blair', 'could', 'port', 'HIGHEST', 'forces', 'blow', 'Drug', 'palate', 'legend', 'scar-faced', 'include', 'Chapel', 'Crown', 'recruited', 'sweetheart', 'due', 'pollution', 'diabetes', 'Mammoth', 'skull', 'zitoni', 'Chandler', 'electronics', 'sundaes', 'Boleyn', 'anthem', 'doing', 'Here', 'By', 'concoct', 'Bernard', 'Ty', 'mostly', 'rugs', 'Erle', 'Ku', 'Hawks', 'Obote', 'Wembley', 'encounters', '##th-century', 'move', 'values', 'repossession', 'plant', 'sprouted', 'visited', 'Sandra', 'video-game', 'adult', 'chronicled', 'cork', 'hike', 'Crime', 'swim', 'Bakery', 'chronic', 'diary', 'Dear', 'Nicklaus', 'victims', 'political', 'Dolomites', 'ignores', 'install', 'NAFTA', 'India', 'Warner', 'coined', 'Powell', 'racing', 'California', 'Peel', 'Tutankhamun', 'Around', 'isthmus', 'crazy', 'idealab', 'medals', 'Sharon', 'rigati', 'disappear', 'hearing', 'non-conformist', 'reality', 'fictional', 'sought', 'Noble', 'Cisalpine', 'anything', 'puzzle', 'assassinated', 'provide', 'kid', 'singing', 'hell', 'Wall', 'dimension', 'go', 'Asian', 'British', 'Ouija', 'off-again', 'ad', 'wound', 'vapor', 'telephone', 'on', 'avenue', 'Lauren', 'Jungle', 'Prelude', 'turn', 'introduce', 'Sound', 'cookers', 'sung', 'Peggy', 'Krypton', 'monitor', 'submarine', 'mountain', 'wiper', 'Lindbergh', 'Moran', 'electrical', 'whale', 'National', 'Hepburn', 'bottled', 'shadows', 'porphyria', 'sexy', 'colony', 'CTBT', 'acidic', 'Kai-shek', 'Utah', 'U.S.A.', 'sewer', 'nutrients', 'Petrograd', 'am', 'May', ';', 'fought', 'abdication', 'HTML', 'bills', 'Hernando', 'Numerals', 'Native', 'Bookshop', 'hostage', 'Douglas', 'Senator', 'Jonathan', 'splatterpunk', 'brush', 'Folies', 'classified', 'dangling', 'bums', 'touted', 'hormone', 'statues', 'Command', 'Hank', 'NN', 'cc.', 'Baltic', 'brown', 'Rhett', 'Gas', 'modem', 'fowl', 'awarded', 'veronica', 'ladybugs', 'pitched', 'CNN', 'tumbling', 'Calder', 'papers', 'Judy', 'litmus', 'mint', 'Uruguay', 'questions', 'Mandy', 'Mongol', 'leading', 'CDs', 'Holden', 'Committee', 'sales', 'mile-and-a-quarter', 'Gourmet', 'Germany', 'workers', 'hurt', 'Norway', 'van', 'Occam', 'getting', 'paths', 'Hugo', 'Tracy', 'penguins', 'streets', 'Pym', 'fellatio', 'financial', 'prosecutor', 'land', 'Hans', 'onetime', 'athletic', 'twelve', 'failed', 'formation', 'like', 'butcher', 'Aztec', 'males', 'Machiavelli', 'Exchange', 'injuries', 'Prep', 'utilities', 'pictured', 'palindromic', 'camcorders', 'Frank', 'search', 'orange', 'sell', 'boom', 'clot', 'Toast', 'Robbins', 'Scrabble', 'silly', 'Fe', 'Steven', 'earthquakes', 'Joad', 'Edition', 'genie', 'Highlands', 'Lund', 'mendelevium', 'historically', 'Bunker', 'Belle', 'cow', 'Jamiroquai', 'Picts', 'manufacture', 'six-foot', 'forced', 'Abstract', 'concrete', 'pelvic', 'own', 'q.i.d', 'Medina', 'anesthetic', 'cloth', 'wide', 'Venus', 'phrase', 'extraordinary', 'Italian', 'engines', 'uprising', 'Circus', 'friends', 'Marshal', 'ruin', 'ya', 'homeostasis', 'Milano', 'terrorism', 'poisoning', 'until', 'write', 'well-known', 'ten', 'Louie', 'Avalanche', 'fight', 'marvelous', 'clothing', 'beans', 'Troop', 'poodle', 'Clay', 'commanders', 'rarely', 'Bavarian', 'Congressman', 'craft', 'pseudonym', 'populous', 'Wonderland', 'Borden', 'Joyce', 'Kwai', 'cabinet', 'lipstick', 'successfully', 'pigs', 'electoral', 'way', 'Burnford', 'U.S.-based', 'T.V.', 'hypertension', 'Pudding', 'B.Y.O.B.', 'hours', 'prologue', 'Hood', 'WWF', 'pro', 'revolutionary', 'coastline', 'hendecasyllabic', 'Mauritania', 'procedure', 'melancholy', 'basophobic', 'Comaneci', 'lump', 'seven', 'plan', 'screens', 'u', 'market', 'Jack', 'month', 'hazmat', 'night', 'Inuits', 'Swing', 'loud', 'ones', 'Fred', 'love', 'squats', 'poet', 'place', 'Amelia', 'tunnel', 'Hockey', 'pins', 'Waynesburg', 'attendant', 'styloid', 'inaugurated', 'Waco', 'Shea', 'Freddy', 'possum', 'Certified', 'Benelux', 'limestone', 'Yukon', 'U.S.A', 'infrared', 'Community', 'benefits', 'bicornate', 'Laugh-In', 'cathedral', 'enlivens', 'Alexandre', 'invented', 'Thunder', 'broken', 'millenium', 'code', 'treatment', 'meeting', 'pulls', 'keyboard', 'SVGA', 'Springfield', 'Oyl', 'Gosfield', 'tenths', 'NFL', 'La', 'European', 'fined', 'Star', 'recruits', 'conflicts', 'teachers', 'justify', 'cough', 'divorce', 'Josie', 'Paris', 'Charlie', 'Magellan', 'placed', 'giants', 'subject', 'remains', 'rain', 'similar', 'Hanover', 'originated', 'limit', 'flourish', 'Your', 'agricultural', 'through', 'vegetation', 'friend', 'Barbie', 'opposition', 'expelled', 'eating', 'Leno', 'nose', 'boarders', 'dice', 'Seuss', 'approval', 'tender', 'time', 'Bernadette', 'ukulele', 'shoplifts', 'Bank', 'sodium', 'conceived', 'Columbus', 'Cushman', 'hearts', 'directed', 'rallying', 'stubborn', 'compatible', 'title', 'U.S.', 'Schoolhouse', 'purveyor', 'Masterson', 'version', 'necklaces', 'week', 'pita', 'typewriter', 'coffee', 'change', 'BMW', 'pizza', 'perc', 'backup', 'Individuals', 'thought', '##-disc', 'refers', 'yacht', 'that', 'Mac', 'Martha', 'rockin', 'preface', 'Alamein', 'graveyard', \"'##s\", 'editor', 'luck', 'Nitrox', 'apostle', 'wedding', 'suey', 'Bulls', 'hourglass', 'imposed', 'cry', 'seal', 'Sutcliffe', 'commodity', 'moral', 'freezing', 'condemn', 'nonconsecutive', 'poker', 'sparkles', 'Magic', 'Theo', 'reinstate', '####', 'childhood', 'flood', 'Song', 'Am', 'magnets', 'tuberculosis', 'referees', 'Willy', 'polo', 'Apartheid', 'employed', 'Leslie', 'Everyday', 'importance', 'nebbish', 'Clark', 'Cohan', 'Victor', 'Kashmir', 'Ross', 'Boat', 'oil', 'Surveyor', 'Bayer', 'User', 'Singing', 'rows', 'suffer', 'Tiffany', 'Cornell', 'Theatre', 'eruption', 'Angels', 'pines', 'gestation', 'Cousteau', 'Provo', 'Farouk', 'civil', 'currency', 'powers', 'Export', 'Astor', 'De', 'pH', 'sculptress', 'ingredients', 'Frenchman', 'protect', 'deposit', 'arometherapy', 'three-ton', 'is', 'dog', 'Lynn', 'Woodward', 'conditions', 'Anderson', 'Manson', 'takes', 'Minor', 'refrain', 'Fraze', 'Mark', 'Shelley', 'SHIELD', 'Artist', 'Thing', 'trying', 'secret', 'marble', 'lack', 'Alcatraz', 'Conference', 'US', \"'em\", 'POW', 'most-used', 'run', 'feudal', 'crown', 'shortstop', 'primitives', 'slows', 'plea', 'detergent', 'longest-lived', 'league', 'Synthesizer', 'Grape', 'titled', 'first-person', 'characteristics', 'steal', 'told', 'hamlet', 'employees', 'bestowed', 'Avery', 'signature', 'cars', 'curies', 'ripe', 'owed', 'Hussain', 'specimen', 'regained', 'mall', 'thumb', 'suburb', 'pressure', 'foreigner', 'accompanied', 'IN', 'e.g.', 'acetylsalicylic', 'sweeter', 'Never', 'Chicken', 'cwt.', 'steam', 'Dondi', 'Costner', 'U.S', 'Humphrey', 'Pearl', 'Darwin', 'Samuel', 'overcome', 'author', 'Stardust', 'Erica', 'man-made', 'tsetse', 'childbirth', 'jeep', 'terrorist', 'enlist', 'spokesman', 'approaching', 'Earth', 'copies', 'Islands', 'pact', 'Bobby', '###-pound', 'Greece', 'begins', 'observances', 'condor', 'lyricist', 'rhymes', 'pitch', 'breath', 'Seven', 'appropriates', 'June', 'Superman', 'with', 'nickname', 'retired', 'strip', 'Grilled', 'Landing', 'hymn', 'surface', 'smile', 'Dali', 'bridge-connected', 'ranks', 'too', 'repealed', 'Rider', 'Biscay', 'economic', 'Plains', 'Davis', 'Roger', 'codes', 'Rev.', 'cup', 'looked', 'honorary', 'obelisk', 'Blind', 'Selleck', 'Tokyo', 'Konopka', 'high', 'Falconers', 'Dumas', 'thank', 'Corvette', 'Erykah', 'ethology', 'Clyde', 'mass', 'hemisphere', 'millionaire', 'Researches', 'Kinsey', 'Tours', 'wake', 'equivalence', 'automobile', 'naval', 'tanker', 'Wyoming', 'Deere', 'Testament', '.com', 'ATM', 'motor', 'begun', 'brothers-in-law', 'Hayden', 'heaviest', 'Fontaine', 'inoperative', 'collective', 'offer', 'pressured', 'distinguish', 'Beers', 'July', 'ellipse', 'died', 'MORMONS', 'Shock', 'Review', 'ace', 'Abbie', 'raising', 'Younger', 'Sheika', 'classification', 'two-thirds', 'bear', 'travelling', 'facts', 'Copyright', 'examples', 'supporting', 'UN', 'Bud', '##-###-#', 'Corsica', 'news', 'ears', 'Lai', 'Tony', 'her', 'Wonder', 'Hughes', 'crowned', 'bay', 'Last', 'show-biz', 'excluded', 'playing', 'famous', 'four', 'metal', 'answers', 'extensions', 'reunified', 'security', 'Poor', 'cash-conscious', 'bought', 'household', 'moderated', 'Jung', 'teeth', 'cotton', 'capital', 'Beanie', 'wave', 'Flu', 'injury', 'components', 'Space', 'hairless', 'three', 'ads', 'tootin', 'Brandt', 'Playstation', 'Los', 'regardless', 'beryl', 'Cervantes', 'Battle', 'bulletin', 'silkworm', 'thank-yous', 'Billie', 'Caesar', 'noble', 'peace', 'empire', 'they', 'piracy', 'Johnsons', 'commercial', 'Vermont', 'clip', 'quilting', 'voices', 'haboob', 'champion', 'standard', 'proceed', 'decided', 'Pistol', 'a.m.', 'mirror', 'Plain', 'imprisoning', 'categorized', 'Flintstones', 'piano', 'Cruise', 'post', 'Cup', 'conjured', 'Gone', 'Melissa', 'telescope', 'corpus', 'eight-millimeter', 'Romania', 'Silent', 'Canal', 'Yakutsk', 'diagram', 'doll', 'Brooklyn', 'silk', 'germs', 'schools', 'Way', 'OAS', 'talking', 'spine', 'attend', 'thunder', 'Phil', 'bleach', 'sulfur', 'Social', 'centers', 'caldera', 'Andrew', 'David', 'Peller', 'mill', 'London', 'gladiator', 'corners', 'Rubens', 'level', 'toppling', 'owned', 'warm', 'scale', 'sugar', 'Blatty', 'decompose', 'Principle', 'size', 'Gogh', 'neighborhood', 'hundred', 'Fein', 'Quebec', 'moon', 'Felicity', 'Zolotow', 'syringe', 'ice', 'Protestant', 'wings', 'himself', 'taking', 'detect', 'massive', 'Hills', 'thru', 'Mack', 'singer', 'nonaggression', 'Reb', 'voyage', 'competition', 'regular', 'Mules', 'High', 'lion', 'jeroboams', 'bite', 'written', 'Pulaski', 'dressed', 'Liz', 'Julie', 'Field', 'Filenes', 'lived', 'Presidents', 'member', 'elect', 'veins', 'be', 'thighs', 'day', 'contibution', 'cockroaches', 'stitch', 'Muslim', 'Lake', 'Haifa', 'Cartier', 'feminist', 'Matterhorn', 'long', 'resulting', 'clothes', 'vamp', 'calendar', 'numbered', 'chair', '#th-century', 'pitches', 'Spritzer', 'choose', 'short-lived', 'contraceptives', 'Badgers', 'Gamble', 'matter', 'Stole', 'Desk', 'destination', 'Neal', 'charcoal', 'Scholar', 'Prewett', 'Sheboygan', 'eastward', 'guys', 'Cool', 'station', 'fabric', 'Antonia', 'Rice', 'arms', 'dioxide', 'pyrotechnic', 'concert', 'Egypt', 'banking', 'Enola', 'Notch', 'Lock', 'emperors', 'Creek', 'Vince', 'panoramic', 'ailment', 'anteater', 'scorpion', 'reign', 'Grapes', 'Shia', 'beats', 'thousands', 'device', 'Shoes', 'kidnaping', 'all-star', 'lawyer', 'friendly', 'Australian', 'Bloom', 'talk', 'oxidation', 'governed', 'audio', 'breeding', 'abbreviate', 'solo', 'hyperopia', 'escape', 'athlete', 'lie', 'Company', 'Faber', 'Twice', 'perfect', 'teams', 'animal', 'assigned', 'Stalag', 'Theotokopoulos', 'York-style', 'Taylor', 'Butter', 'jiggy', 'SIC', 'brought', 'mustachioed', 'DNA', 'Century-Fox', 'Suzy', 'Win', 'Man', 'German', 'stated', 'Mau', 'sounded', 'callosum', 'Continental', 'protestors', 'much', 'assassination', 'barnstorming', 'Phoenix', 'August', 'worms', 'estate', 'burglar', 'Trek', 'Hermann', 'sun-blasted', 'President-to-be', 'Ozymandias', 'titles', 'Selective', 'black-and-white', 'Kalahari', 'Goldfus', 'directorial', 'Kid', 'UOL', 'Santos-Dumont', 'Merchant', 'verses', 'medical', 'pink', 'Corbett', 'baseemen', 'Roller', 'Desert', 'camp', 'speaks', 'F##', 'lung', 'Stein', 'months', 'doctorate', 'Getting', 'doughnut', 'Florida', 'gangland', 'cocktail', 'lifelong', 'environment', 'ton', 'bloodhound', 'mail', 'article', 'registers', 'pages', 'Englishwoman', 'donate', 'Arrow', 'tramped', 'Angeles', 'spins', 'Nikita', 'inspired', 'table', 'Science', 'bottles', 'see', 'Harbor', 'Homelite', 'canals', 'fever', 'Liverpool', 'prehistoric', 'Anglican', 'Named', 'physically', 'Masons', 'newscast', 'Dungri', 'mercenaries', 'buds', 'site', 'Who', 'appendix', 'these', 'Uprising', 'Natalie', 'Meanie', 'Spanish-American', 'v.#', 'cat', 'monument', 'ion', 'touchbacks', 'Redskin', 'Juice', 'Bush', 'newspaper', 'opposed', 'based', 'was', 'laws', 'Peanut', 'monopolies', 'Make-up', 'Panama', 'glacier', 'General', 'pi', 'Postal', 'IBM', 'clitoridectomy', 'dual-scan', 'toilet', 'earned', 'outcome', 'coast', 'Plymouth', 'leftovers', 'Frontier', 'steakburgers', 'rifle', 'biblical', 'learning', 'satisfactory', 'Raging', 'A_Tisket', 'themselves', 'Zionism', 'pushy', 'using', 'Taiwan', 'Lisa', 'looking', 'gate', 'Lifter', 'ceremony', 'insisted', 'Civil', 'Funk', 'School', 'Sir', 'Grimes', 'candy', 'Pan', 'toll', 'school', 'deranged', 'professor', 'Hawaiian', 'stockings', 'Narragansett', 'nests', 'rent-a-cars', 'Christina', 'Ishmael', 'astronauts', 'Gunpowder', 'McCarren', 'deodorant', 'Horlick', 'recycled', 'Wizard', 'III', 'hair', 'ocean', 'Iditarod', 'bet', 'V#', 'syrup', 'camel', 'duke', 'involves', 'musical', 'Gabel', 'cascade', 'heavyweight', '#/##/####', 'Irkutsk', 'spiracles', 'territory', 'alley', 'Tulip', 'mature', 'aurora', 'Bounty', 'Rossini', 'Madilyn', 'Hound', 'Canadian', 'Crayola', 'figs', 'astronomical', 'Light', 'dial', 'mistletoe', 'Baretta', 'Terrible', 'captured', 'cyclone', 'Presley', 'rebellions', 'climbed', 'stroke', 'needles', 'Medieval', 'coddle', 'U.K.', 'Reuter', 'highways', 'gandy', 'spacecraft', 'Trinidad', 'think', 'D.A.', 'terata', 'Calgary', 'Representative', 'called', 'Merrie', 'tax', 'dingoes', 'Amtrak', 'Abbey', 'ear', 'Bouvier', 'laundry', 'Becket', 'Hole', 'subaru', 'businessman', 'vichyssoise', 'Sampling', 'foul', 'pail', 'Malick', 'Beach', 'developed', 'liver', 'nearsightedness', 'hole', 'fire-and-brimstone', 'Russians', 'cologne', 'Bros.', 'railroad', 'Typist', 'someone', '-', 'winner', 'At', 'vocals', 'Grab', 'influences', 'composer', 'observing', 'propaganda', 'Barbary', 'erupt', 'teaspoons', 'earthworms', 'has', 'rock', 'ambassadorial', 'Ray', 'richest', 'boilermaker', 'El', 'foods', 'soda', 'Dawson', 'communist', 'coprolite', 'succession', 'off', 'Sultan', 'gown', 'Diver', 'Arabian', 'infectious', 'Town', 'bottle', 'current', 'Pentagon', 'watts', 'weapons', 'wall', 'ruled', 'weigh', 'seborrhea', 'buys', 'Derby', 'chop', 'canning', 'Physical', 'Lawrence', 'Shimerda', 'Maldive', 'loved', 'Power', 'pas', 'fractal', 'February', 'hurricane', 'attendance', 'soft', 'Stanley', 'Fodor', 'Indies', 'Shute', 'burn', 'insert', 'Panther', 'oftentimes', 'almost', 'actors', 'surfing', 'Beasley', 'Naseem', 'Age', 'amount', 'silversmiths', 'qualifications', 'attorney-general', 'G#', 'mining', 'dismed', 'Levine', 'everything', 'Thomas', 'Famine', 'posh', 'marlin', 'mission', 'dogtown', 'stone', 'railway', 'typical', 'elicit', 'Cuckoo', 'Stalker', 'Aspartame', 'Carol', 'starring', 'taxed', 'natural', 'regarding', 'starred', 'lottery', 'Hyde', 'had', 'variations', 'famed', 'Bearer', 'dummy', 'Carroll', 'runs', 'Trans', 'Sullivan', 'sprocket', 'bulls', 'bubblegum', 'because', 'flab', 'Antichrist', 'primary', 'vitreous', 'Hamilton', 'act', 'furlongs', 'shoe', 'Herbert', 'person', 'colonial', 'molecules', 'stardom', 'boob', 'crackle', 'ballots', 'supremacy', 'Pia', 'dangles', 'Mona', 'resembled', 'thefts', 'alternate', 'Michael', 'Will', 'catch', 'cap', 'Comedy', 'Aladdin', 'floors', 'Guide', 'Pere-Lachaise', 'Laos', 'Rifleman', 'target', 'Politics', 'readers', 'reproduce', 'kind', 'Butterfield', 'Redford', 'octopus', 'journal', 'Aldrin', 'no', 'Garry', 'IRL', 'To', 'claws', 'admonition', 'Pirate', 'figure', 'Boards', 'Queensland', 'pulse', 'law', 'behavior', 'none', 'genius', 'men', 'glamorous', 'recession', 'Calhoun', 'televised', 'Artemis', 'Talk', 'penny', 'Only', 'LaBianca', 'trials', 'Stevens', 'limbo', 'Pizza', 'longitude', 'exercise', 'left-handed', 'planet', 'bagels', 'injectors', 'Assisi', 'sword', 'V', 'Pooh', 'Beverly', 'exist', 'Lantern', 'Tornado', 'spin', 'Abominable', 'spill', 'Army', 'programming', 'Havlicek', 'cause', 'necessary', 'Egyptians', 'Visine', 'Salt', 'his', 'Colorado', 'Gompers', 'species', 'golfing', 'Italians', 'economy', 'Hooked', 'Missouri', 'Scarlett', 'Satisfaction', 'olives', 'IV', 'MacLaine', 'proper', 'blob', 'play', 'address', 'gram', 'psychology', 'domestication', 'God', 'Eternity', 'glowsticks', 'Young', 'Roy', 'highest', 'Garvey', 'chiefly', 'mustard', 'cuckquean', 'peanuts', 'odors', 'Camaro', 'publisher', 'filling', 'deepest', 'permanently', 'since', 'exports', 'judiciary', 'Edgar', 'opens', 'deveopment', 'mosquitoes', 'five-team', 'results', 'Neil', 'trilogy', 'membership', 'Global', 'botanical', 'Robb', 'beef', 'super', 'Richard', 'Marine', 'drilling', 'Lebanon', 'astronomer-architect', 'on-the', 'Contract', 'Entebbe', 'burglary', 'Outstanding', 'Dandy', 'Janurary', 'Rey', 'spokesperson', 'spray', 'Juan', 'shores', 'hydroelectric', 'tyvek', 'Rhine', 'Oat', 'Max', 'Philadelphia', 'production', 'Summer', 'SVHS', 'Blackhawk', 'River', 'roots', 'Pink', 'Indiana', 'aortic', 'yohimbine', 'emotional', 'evil', 'officer', 'tonne', 'AIDS', 'NAACP', 'interlace', 'FBI', 'natives', 'Flakes', 'various', 'majority', 'Edinburgh', 'Galapagos', 'Small', 'Igor', 'mayonnaise', 'coefficients', 'enhance', 'schoolteacher', 'arson', 'pecan', 'Worlds', 'sperm', 'murdered', 'powder', 'shag', 'purposes', 'Tour', 'supreme', 'Yahoo', 'cash', 'Bergeres', 'Society', 'estuary', 'erotic', 'bowling', 'corner', 'police', 'replaced', 'loosely', 'Musician', 'existence', 'twice', 'Lane', 'intranet', 'Michaelangelo', 'Crucifixion', 'Indira', 'edge', 'Internet#', 'apparel', 'those', 'CD', 'whisky', 'claims', 'Mills', 'menstruation', 'Robin', 'Country', 'wax', 'society', 'chairman', 'Sheri', 'Grenada', 'volleyball', 'big', 'accident', 'paradise', 'Tennessee', 'jealous', 'IBM-compatible', 'diet', 'Hungary', 'Eagle', 'downhill', 'Cawdor', 'Wilkes', 'Lyrics', '##-mile', 'changed', 'changes', 'foot-pounds', 'execution', 'Century', 'Back', 'Kodak', 'Moorish', 'map', 'defeat', 'collided', 'breeds', 'asked', 'Karl', 'Spice', 'penned', 'race', 'ages', 'diagnose', 'coach', 'Athens', 'Mansfield', 'decrees', 'Africa', 'ground', 'Chilean', 'meta', 'cigarette', 'painted', 'four-sided', 'cognac', 'teats', 'gills', 'measures', 'Barrymore', 'publish', 'isolationist', 'Coulee', 'rice', 'Med', 'photograph', 'became', 'Chronicles', 'Cassidey', 'Chicago', 'stretch', 'Rocky', 'Bust', 'gold', 'snail', 'impulse', 'lustrum', 'fingertips', 'thirst-quencher', 'North', 'Motto', 'Electric', 'Taj', 'mother', 'measured', 'Carre', 'explorers', 'Monroe', 'ability', 'snoogans', 'Miami', 'retrievers', 'crave', 'Maltese', 'rum', 'MSG', 'special', 'Do-Right', 'infamous', 'Vlaja', 'Guernsey', 'cameras', 'Skywalker', 'magnesium', 'mold', 'Duvalier', 'amicable', 'Operation', 'Whom', 'less', 'Speaker', 'affectionate', 'girlfriend', 'Carrier', 'Makepeace', 'Chest', 'Conrad', 'consisting', 'Clear', '$###', 'Terrified', 'telecast', 'did', 'Dikembe', 'promotion', 'Dumpty', 'report', 'Dorsets', 'hurdle', 'Morgan', 'hijacked', 'Rude', 'goodness', 'antidisestablishmentarianism', 'perfectly-developed', 'Doody', 'archenemy', 'Jodie', 'boxcars', 'dead', 'custody', 'converge', 'Wolfman', 'background', 'hurting', 'Parker', 'bare', 'anus', 'older', 'carbon', 'Waugh', 'legally', 'penny-farthings', 'polyorchid', 'Stevenson', 'Dakota', 'performer', 'veh', 'Cities', 'box', 'portraying', 'portrayed', 'dying', 'hits', 'Peters', 'struck', 'comprised', 'legs', 'median', 'Dickens', 'slang', 'hepcats', 'at', 'bell', 'inside', 'reading', 'Teflon', 'rainbow', 'Lagoon', 'thrillers', 'constantly', 'girl', 'Terrific', 'Sam', 'Jolson', 'Desire', 'SIDS', 'hate', 'elected', 'drill', 'Nina', 'Rona', 'Karenna', 'quick', 'judo', 'traversed', 'shampoo', 'chain', 'writer-journalist', 'beethoven', 'ahead', 'doubleheader', 'Canon', 'wreckage', 'Shroud', 'Khyber', 'diphallic', 'Antilles', 'teen', 'Alley', 'face', 'originally', 'Docklands', 'Kind', 'Cozumel', 'Ella', 'weekend', 'little', 'locomotive', 'yield', 'Pilgrim', 'religion', 'Stefan', 'Nino', 'portal', 'ozone', 'steps', 'feather', 'director', 'Barbara', 'sideburns', 'Pendulum', 'Mosaic', 'covers', 'marriage', 'southernmost', 'WWW', 'Illinois', 'Can', 'Pursuit', 'Stock', 'relate', 'computer', 'nations', 'hardware', 'story', 'CE', 'nautical', 'province', 'Associates', 'sons', 'fresh', 'combined', 'Pesth', 'Chronic', 'safest', 'stations', 'E-mail', 'identify', 'camaro', 'Pencey', 'helium', 'Coyote', 'Poets', 'Ferry', 'traffic', 'Wheatfield', 'serve', 'creatures', 'capitalizes', 'celtic', 'Mouth', 'Genesis', 'dancing', 'avoid', 'farm', 'attacks', 'least', 'word', 'boat', 'Louis', 'royal', 'winds', 'stolen', 'Frankenstein', 'atlas', 'typhoid', 'Feminine', 'by', 'Bendix', 'heroine', 'singles', 'Stallone', 'Schwarzenegger', 'Law', 'Kong', 'Varian', 'contestant', 'F.', 'specializing', 'Eiffel', 'creature', 'info', 'co-starred', 'relevant', 'lakes', 'dew', 'five-zone', 'peak', 'national', 'Dynasty', 'arrested', 'besides', 'desire', 'Leia', 'supposed', 'treated', 'City', 'Prize-winning', 'seen', 'kangaroo', 'yo-yos', 'falls', 'erase', 'on-again', 'abstract', 'Margaret', 'Confederate', 'Louise', 'bible', 'charcter', 'vesuvius', 'film', 'amended', 'Day', 'markets', 'busiest', 'scales', 'Start', 'alleged', 'Circle', 'unemployment', 'counties', 'baby', 'message', 'tube', 'attractions', 'translations', 'radiographer', 'Australia', 'intractable', 'grocer', 'retirement', 'effect', 'Jerry', 'justice', 'borders', 'requirements', 'Jazz', 'sides', 'condensed', 'height', 'abuse', 'affair', 'mythical', 'Napoleon', 'overlooking', 'Klondike', 'trademarks', 'oddsmaker', 'hit', 'District', 'revolutionaries', 'basketball', 'room', 'quality', 'ousted', 'comedian', 'Eli', 'batteries', 'up-to-date', 'larger', 'Series', 'equipment', 'laugh', 'happens', 'Globe', 'scored', 'Member', 'Jimmy', 'Apple', 'Buzz', 'Dumont', 'jeans', 'drunken', 'Denmark', 'sister-in-law', 'foreword', 'D.', 'United', 'Metalious', 'key', 'thrilled', 'GUM', 'marching', 'popularized', 'half', 'Diane', 'Ivan', 'Corporal', 'Lesbos', 'Philby', 'pollen', 'cyclist', 'force', 'Garmat', 'Carta', 'split', 'sourness', 'Moog', 'engineer', 'Chief', 'Bogart', 'Massacre', 'profit', 'Chaplin', 'Ayer', 'CBS', 'develops', 'P.T.', 'lawyers', 'Hunter', 'spider', 'Service', 'wise', 'four-handed', 'rising', 'Verne', 'USA', 'Sidewinder', 'Hong', 'rust', 'Today', 'score', 'buses', 'adopt', 'knife', 'lifetime', 'shorn', 'Defense', 'D.C.', 'shipwreck', 'designer', 'brakes', 'Secret', 'Wilhelm', 'considering', 'instru', 'trader', 'appearances', 'patrons', 'bomb', 'Carolina', 'U.S.S.R.', 'contribute', 'location', 'Belize', 'Scotland', 'occurrence', 'facing', 'African', 'stored', 'mutiny', 'forerunner', 'common', 'Cleopatra', 'meaning', 'nature', 'Sunday', 'Austria', 'how', 'yougurt', 'Pebbles', 'x', 'lips', 'Ridder', 'Titans', 'Etta', 'headed', 'ancients', 'Nuremberg', 'impossible', 'cement', 'delivered', 'dist', 'bulgaricus', 'cabinetmaker', 'Game', 'Shakespearean', 'bed', 'applied', 'Pergament', 'cherubs', 'stuck-out', 'tells', 'Frickett', 'floods', 'Greenfield', 'composition', 'formula', 'PLO', 'Rodeo', 'monsters', 'Amazing', 'Rossetti', 'Dream', 'save', 'possible', 'Celestials', 'Baker', 'travel', 'stamp', 'organs', 'Sistine', 'sale', 'Victoria', 'shiver', 'following', 'shake', 'rises', 'them', 'Bradley', 'ninjitsu', 'consecutively', 'sprain', 'married', 'longest', 'stocks', 'Wittenberg', 'decision', 'Mouse', 'E', 'blows', 'hijack', 'featured', 'Firehole', 'Stevie', 'Dr.', 'pocket', 'father', 'ravens', 'hairs', 'Gould', 'attack', 'developing', 'D', 'compete', 'treehouse', 'multicultural', 'Edith', 'attract', 'fruit', 'emergency', 'girls', 'co-founder', 'Investigation', 'Pea', 'distribute', 'subway', 'yachts', 'diseases', 'fungal', 'death', 'Charge', 'properties', 'cartoon', 'With', 'turned', 'Rosanne', 'concerts', 'permutations', 'Prussia', 'events', 'bourgeoisie', 'comediennes', 'convert', 'Jell-O', 'One', 'blank', 'spaces', 'greeting', 'brass', 'Taft', 'scientists', 'met', 'abilities', 'yell', 'Equipment', 'castle', 'Ronald', 'Cotrubas', 'fiction', 'Sinatra', 'Graffiti', 'Temple', 'numerals', 'Polo', 'Lakes', 'Stage', 'age', 'darning', 'Charley', 'scenes', 'Polynesian', 'innocent', 'Eastern', 'Me', 'Entertainer', 'Islam', 'Chappellet', 'cents', 'dooby', 'cupboard', 'wildlife', 'Canyon', 'Kramer', 'recovery', 'cows', 'positions', 'poke', 'handful', '##-##', 'Strange', 'Darkness', 'equals', 'Backstreet', 'abolished', 'revolve', 'serves', 'blew', 'Forties', 'Sabres', '#-Eleven', 'E=mc#', 'basic', 'closed', \"'s\", 'John', 'dirty', 'Rosemary', 'Balloon', 'Craig', 'exp', 'coal', 'linked', 'unanswerable', 'Zapper', 'files', 'wreaks', 'Elvis', 'boycotted', 'cooler', 'Favoured', 'Adventours', 'Ocho', 'Gateway', 'extinction', 'NECROSIS', 'define', 'assassinate', 'Story', 'Mount', 'star', 'snakebite', 'Egg', 'fries', 'tower', 'behind', 'descendents', 'currently', 'proverb', 'False', 'fur', 'Gina', 'tied', 'popularly', 'manufacturers', 'Edo', 'Describe', 'Americans', 'flog', 'arsenal', 'Linus', 'I', 'Pope', 'cruiser', 'Doria', 'chocolate', 'digital', 'boy', 'Turks', 'touch', 'Volkswagen', 'Macarthur', 'Nike', 'wife', 'non-alcoholic', 'SCSI', 'atmosphere', 'Rayburn', 'prison', 'maintain', 'Pie', 'addresses', 'butt', 'Vehicle', 'carriers', 'steering', 'quelling', 'Paso', 'Manhatten', 'Sussex', 'the', 'Drake', 'drops', 'boys', 'prophet', 'duel', 'twins', 'Hastings', 'Porgy', 'Hinckley', 'crypt', 'nearest', 'Persian', 'woke', 'Musca', 'Nobel', 'binomial', 'incident', 'Court', 'Yankee', 'principal', 'Doodyville', 'archery', 'Rommel', 'Volcano', 'Slam', 'Daylight', 'serfdom', 'clone', 'Sinn', 'meerkat', 'contributions', 'multicolored', 'ord', 'ancestral', 'Economy', 'danced', 'Ms.', 'rules', 'intergovernmental', 'possessed', 'Noah', 'biochemists', 'Magna', 'Chuck', 'razor', 'saves', 'predators', 'instead', 'Pollock', 'Unknown', 'deadrise', 'werewolf', 'Y', 'Saint', 'inventors', 'Britney', 'autobiography', 'Bergen-Jacqueline', 'combat', 'lice', '#-cent', 'same', 'Butler', 'coup', 'dramatized', 'DTMF', 'Coleman', 'fiber', 'Crimean', 'chicks', 'ingredient', 'ouzo', 'urged', 'Some', 'Dresden', 'labels', 'Iraqi', 'Gross', 'makeup', 'queries', 'follow-up', 'receive', 'Peugeot', \"'##\", 'Jennifer', 'Tolkien', 'Srpska', 'Saddam', 'barred', 'Uber', 'void', 'Doughboys', 'celebrities', 'board', 'psoriasis', 'goulash', 'Spanish', 'Tesla', 'Records', 'Steel', 'joke', '``', 'Easter', 'traits', 'commander', 'Durante', 'calculate', 'biorhythm', 'wasps', 'Brandenburg', 'Define', '#####', 'Midwife', 'nerve', 'digitalis', 'Hayworth', 'symptom', 'spaceball', 'threat', 'fare', 'platinum', 'inspector', 'Wordsworth', 'surpassing', 'dimensions', 'Bombshell', 'trinitrotoluene', 'softball', 'Maurice', 'Thompson', 'fame', 'forged', 'lethal', 'Viceroy', 'nomadic', 'USSR', 'Somme', 'piece', 'double', 'Dena', 'bathroom', 'horsepower', 'personas', 'flame', 'Boeing', 'eastern', 'wealthiest', 'fire', 'degree', 'Rams', 'smoking', 'securities', 'hang', 'eczema', 'IQ', 'Jersey', 'carpal', 'Garfield', 'Education', 'Television', 'Beauty', 'Marx', 'aging', 'employee', 'camps', 'feat', 'inventions', 'violent', 'Monaco', 'Nothing', 'town', 'Wars', 'Barnum', 'calories', 'liberty', 'start', 'Castor', 'Corpus', 'jury', 'auberge', 'kids', 'sequencing', 'function', 'Indians', 'Jolly', 'Andy', 'theatrical', 'adapter', '$#', 'Marco', 'exclusive', 'freed', 'Edberg', 'Downstairs', 'affiant', 'bodies', 'Rolls-Royce', 'revival', 'fountain', 'discontinued', 'first', 'delicate-tasting', 'owns', 'patents', 'est-ce', 'drugs', 'trial', 'costliest', 'pull', 'stationed', 'six-footed', 'flightless', 'Calvin', 'writers', 'rotunda', 'browser', 'nail', 'swap', 'fox', 'future', 'Zeppelin', 'Georgetown', 'beautiful', 'Seine', 'Order', 'betrayed', 'terrier', 'ticker', 'cuckoo', 'website', 'husband', 'snatches', 'book', 'surname', 'April', 'riding', 'swims', 'triangle', 'to', 'roles', 'kept', 'artificial', 'know', 'character', 'sunset', 'gaming', 'c', 'commandant', 'collabrative', 'safari', 'owner', 'tenants', 'D.H.', 'Inferno', 'Pictures', 'Bateau-Lavoir', 'Bjorn', 'spoken', 'birthplace', 'studio', 'dubbed', 'Artists', 'gusto', 'permanent', 'shelves', 'zebras', 'rare', 'p.m.', 'Duke', 'return', 'Stonewall', 'Jews', 'organization', 'Gardner', 'Nightingale', 'flew', 'explorer', '.', 'Langerhans', 'somebody', 'conceiving', 'grooves', 'host', 'zones', 'crayon', 'actually', 'sunlight', 'lengths', 'Fury', 'Time', 'Nathan', 'barroom', 'Jimi', 'fortifications', 'Brazilian', 'Rotary', 'contributed', 'Bridges', 'generator', 'Bacall', 'Lou', 'osmosis', 'won-lost', 'Sherlock', 'central', 'shipment', 'equal', 'Senate', 'Israeli', 'massage', '####-###', 'viewing', 'nine', 'mortem', 'Pollux', 'flag', 'industrialized', 'rhyme', 'Spider-Man', 'religions', 'missile', 'Danube', 'Bunch', 'nylon', 'Kathryn', 'inches', 'Fountain', 'list', 'VHS', 'tablespoon', 'reviews', 'crust', 'squares', 'most', 'bovine', 'mathematician', 'Secretary', 'Gay', 'Tex', 'stands', 'lends', 'walked', 'Madeira', 'ordered', 'Hallie', 'perform', 'mark', '$', 'stamps', 'surnames', 'affairs', 'output', 'earthquake', 'indoor', 'Europe', 'Dubai', 'Don', 'Chris', 'Olympic', 'distributions', 'flavors', 'venture', 'Oxfords', 'doctor', 'Heretic', 'lives', 'me', 'punishment', 'Muhammad', 'Emperor', 'villi', 'Gourd', 'TV', 'major', 'courier', 'hazel', 'haunted', 'Hawkeye', 'dozen', 'pitchers', 'traditional', 'literal', 'stove', 'best', 'Carolingian', 'rich', 'bad', 'Rah', 'bordering', 'patients', 'Nurse', 'Iguana', 'itself', 'monarch', 'passenger', 'cystic', 'Gilbert', 'propellers', 'concerning', 'Fortran', 'Scooby', 'six', 'lay', 'throne', 'Now', 'Michelangelo', 'Q', 'First', 'emblem', 'Page', 'Candice', 'watchman', 'pallbearer', 'AFTRA', 'mechanism', 'sardonyx', 'Motown', 'Liberty', 'red', 'producer', 'pit', 'were', 'cunnilingus', 'Degas', 'Line', 'good', 'alone', 'Howdy', 'districts', 'corn', 'we', 'Lewis', 'revelation', 'Younis', 'VCR', 'apples', 'heir', 'juice', 'further', 'embassy', 'Parthenon', 'inkhorn', 'Nielsen', 'Bradbury', 'Basilica', 'Wheels', 'Chow', 'communications', 'Benjamin', 'Side', 'Cambodia', 'neurotic', 'airman', 'bells', 'belly', 'RCA', 'sauce', 'Finnish', 'Chicago-style', 'reaction', 'Beany', 'granary', 'September', 'Dipper', 'Louse', 'multitalented', 'caps', 'sprouts', 'dolphin', 'plans', 'lot', 'pigment', 'haunt', 'IP', 'Haversian', 'then', 'X-Man', '####-####', 'Santa', 'tiny', 'recomended', 'Batmobile', 'sequel', 'knock', 'Irwin', 'consist', 'mad', 'worlds', 'LASER', 'marvel', 'flea', 'Oh', 'different', 'Pookie', 'Ozzy', 'northeast', 'Hammer', 'deal', 'deals', 'Portuguese', 'fivepin', 'zoonose', 'Heaven', 'track', 'read', 'noodle', 'Pompeii', 'data', 'Knicks', 'dipsomaniac', 'Hermitage', 'abundant', 'Freidreich', 'likely', 'former', 'Casablanca', 'bureau', 'farmers', 'Maid-Rites', 'Roaring', 'nominated', 'belonged', 'old', 'Falwell', 'chairs', 'lawnmower', 'Goodall', 'corgi', 'late', 'improved', 'county', 'dined', 'rechargeable', 'Dennison', 'also', 'polyester', 'particular', 'hail', 'offices', 'pugilist', 'task', 'St.', 'social', 'toy', 'funeral', 'commanded', 'carpet', 'Competition', 'Ask', 'oxygen', 'Webster', 'processing', 'Hot', 'inch', 'Church', 'bocci', 'Angelus', 'marl', 'founded', 'Gaza', 'Fortune', 'sea', 'Elizabeth', 'Samson', 'Gotham', 'autoimmune', 'captive', 'victim', 'breakfast', 'caliente', 'spelling', 'Prussian', 'feed', 'Yankees', 'Paine', 'syllables', 'kidnaped', 'Brooks', 'nevermind', 'our', 'barbeque', 'Moscow', 'saloons', 'Oz', 'covrefeu', 'armor', 'Maryland', 'an', 'eclairs', 'Lord', 'Tristan', 'Boys', 'unknown', 'speak', 'jerk', 'Muslims', \"'d\", 'afraid', 'afternoon', 'Randy', 'millimeters', 'Rann', 'failure', 'Empire', 'vitamin', 'Jean', 'tourism', 'Holland', 'Strasbourg', 'Prince', 'analyst', 'mandibulofacial', 'voice', 'doctors', 'tries', 'Cavaliers', 'roads', 'Darius', 'goat', 'expansion', 'mayfly', 'ecological', 'Jinnah', 'maturity', 'round', 'tallest', 'neurons', 'Esquire', 'Hitler', 'armed', 'tourists', 'scythe', 'NJ', 'kings', 'M&Ms', 'Darth', 'player', 'junk', 'Wrath', 'award', 'counterclockwise', 'region', 'Snap', 'Nevil', 'Maggio', 'vats', 'Dirkson', 'bottom', 'Use', 'warfare', 'yet', 'problem', 'amateur', 'Ernst', 'Murder', 'aquatic', 'Archer', 'crabs', 'used', 'brightest', 'clearer', 'spamming', 'intercourse', 'toast', 'Museum', 'said', 'operation', 'service', 'Doctor', 'punctuation', 'showed', 'metabolize', 'horses', 'million', 'Whist', 'section', 'beaver', 'decathlon', 'assassinations', 'Oop', 'continuing', 'Andrews', 'advertizing', 'Nautilus', 'Banner', 'mystery', 'brothers', 'Girl', 'deployed', 'Association', 'daring', 'half-life', 'Rockettes', 'boiled', 'lens', 'are', 'banks', 'manned', 'succeeded', 'role', 'break', 'Pickering', 'pharmacists', 'Tussaud', 'JPL', 'Stanford', 'item', 'INRI', 'Dust', 'Marino', 'peas', 'Apso', 'dropping', 'Ukrainians', 'conversion', 'in', 'yards', 'Bell', 'line', 'Horse', 'psorisis', 'Maudie', 'Coffee', 'north', 'pop', 'Hampshire', 'painful', 'houses', 'Front', 'Glasgow', 'Rococo', 'lent', 'Peace', 'States', 'Microsoft', 'JFK', 'Potter', 'Sharp', 'Houston', 'Mayor', 'concentration', 'Freleng', 'Gifford', 'accompanying', 'Kitchen', 'Caldwell', 'Gretzky', 'Greenstreet', 'depicted', 'Winters', 'Poland', 'garment', 'climb', 'mineral', 'Mother', 'Yellow', 'games', 'dating', 'Western', 'air', 'Lucia', 'poison', 'truth', 'if', 'dates', 'running', 'Ireland', 'Rebellion', 'star-faring', 'across', 'miles', 'Arles', 'Kansas', 'e=mc#', 'recognition', 'useful', 'ticklish', 'Miss', 'circumcision', 'A.G.', 'microwaves', 'second-biggest-selling', 'Bullwinkle', 'silver', 'flying', 'salmon', 'differences', 'calcium', 'monarchy', 'happen', 'Peabody', 'Associaton', 'Amherst', 'proposition', 'State', 'Lagos', 'nickel-cadmium', 'lemon', 'damage', 'product', 'P-##', 'Years']\n"
          ]
        }
      ]
    },
    {
      "cell_type": "markdown",
      "source": [
        "## Check for number of classes"
      ],
      "metadata": {
        "id": "FHOj3NyEOCXG"
      }
    },
    {
      "cell_type": "code",
      "source": [
        "len(set(y)) # num of class"
      ],
      "metadata": {
        "colab": {
          "base_uri": "https://localhost:8080/"
        },
        "id": "Bot2ATzMODIH",
        "outputId": "1fccb267-810d-4023-a751-bd0f869c47f9"
      },
      "execution_count": 40,
      "outputs": [
        {
          "output_type": "execute_result",
          "data": {
            "text/plain": [
              "6"
            ]
          },
          "metadata": {},
          "execution_count": 40
        }
      ]
    },
    {
      "cell_type": "markdown",
      "source": [
        "## Create the index to words in the vocabulary"
      ],
      "metadata": {
        "id": "ufVM8KdIOG32"
      }
    },
    {
      "cell_type": "code",
      "source": [
        "word2index={'<PAD>': 0, '<UNK>': 1}\n",
        "print(len(word2index))\n",
        "\n",
        "'''\n",
        "In this code snippet, you are creating a dictionary named word2index that maps words to their corresponding numerical indices\n",
        "These two special tokens are commonly used in natural language processing tasks:\n",
        "\n",
        "'<PAD>': Typically represents padding tokens used to make sequences in a batch of equal length.\n",
        "'<UNK>': Represents unknown or out-of-vocabulary tokens.\n",
        "The dictionary allows you to convert words into their corresponding numerical indices, and it provides default values for padding and handling unknown words.\n",
        "\n",
        "This kind of dictionary is essential when preparing text data for deep learning models because it enables you to represent words as numerical values,\n",
        "which can be used as input to neural networks or other machine learning algorithms\n",
        "'''"
      ],
      "metadata": {
        "colab": {
          "base_uri": "https://localhost:8080/"
        },
        "id": "Wz9uA6nUOHrr",
        "outputId": "a430116e-f9c9-40b9-91bf-e73f7a791cb8"
      },
      "execution_count": 41,
      "outputs": [
        {
          "output_type": "stream",
          "name": "stdout",
          "text": [
            "2\n"
          ]
        }
      ]
    },
    {
      "cell_type": "code",
      "source": [
        "for vo in vocab:\n",
        "    if word2index.get(vo) is None:\n",
        "        word2index[vo] = len(word2index)\n",
        "#print(word2index)\n",
        "index2word = {v:k for k, v in word2index.items()}\n",
        "#print(index2word)\n",
        "\n",
        "'''\n",
        "In this code snippet, you are expanding the `word2index` dictionary to include the words from your vocabulary `vocab` that are not already present in the dictionary. Additionally, you are creating a corresponding `index2word` dictionary for reverse lookups. Here's a breakdown of the code with comments:\n",
        "\n",
        "- This loop iterates over each word `vo` in your vocabulary list `vocab`.\n",
        "- Inside the loop, it checks whether the word `vo` exists as a key in the `word2index` dictionary using `word2index.get(vo)`.\n",
        "If it doesn't exist (i.e., it returns `None`), it means the word is not in the dictionary.\n",
        "- In that case, it assigns a new index to the word by using `len(word2index)`. This effectively adds the word to the dictionary with a unique numerical index.\n",
        "\n",
        "This code is useful for creating a consistent mapping between words and their numerical indices, especially when working with text data and deep learning models.\n",
        "\n",
        "- This line of code creates the `index2word` dictionary, which is the reverse mapping of `word2index`.\n",
        "It swaps the keys and values from `word2index` so that you can easily look up words by their indices.\n",
        "\n",
        "Both `word2index` and `index2word` dictionaries are important for mapping between words and their corresponding indices,\n",
        "allowing you to convert text data into a numerical format that can be used as input to machine learning and deep learning models.'''"
      ],
      "metadata": {
        "id": "xJoSr0aoOL8M"
      },
      "execution_count": 42,
      "outputs": []
    },
    {
      "cell_type": "markdown",
      "source": [
        "## Create the index to target"
      ],
      "metadata": {
        "id": "nSm0z1qwOOxi"
      }
    },
    {
      "cell_type": "code",
      "source": [
        "target2index = {}\n",
        "\n",
        "for cl in set(y):\n",
        "    if target2index.get(cl) is None:\n",
        "        target2index[cl] = len(target2index)\n",
        "\n",
        "index2target = {v:k for k, v in target2index.items()}\n",
        "'''\n",
        "In this code snippet, you are creating two dictionaries, `target2index` and `index2target`, to map class labels to numerical indices and vice versa.\n",
        "\n",
        "- This loop iterates over the set of unique class labels in the `y` list (presumably, these are the labels associated with your text data).\n",
        "- Inside the loop, it checks whether the class label `cl` exists as a key in the `target2index` dictionary using `target2index.get(cl)`.\n",
        "If it doesn't exist (i.e., it returns `None`), it means the class label is not in the dictionary.\n",
        "- In that case, it assigns a new index to the class label by using `len(target2index)`. This effectively adds the class label to the dictionary with a unique numerical index.\n",
        "\n",
        "This code is useful for creating a consistent mapping between class labels and their numerical indices, which is essential for tasks like classification,\n",
        "where you need to represent class labels as numerical values for training machine learning models.\n",
        "\n",
        "- This line of code creates the `index2target` dictionary, which is the reverse mapping of `target2index`.\n",
        "It swaps the keys and values from `target2index` so that you can easily look up class labels by their numerical indices.\n",
        "\n",
        "Both `target2index` and `index2target` dictionaries are important for mapping between class labels and their corresponding numerical indices,\n",
        "which is essential for supervised machine learning tasks like text classification."
      ],
      "metadata": {
        "id": "auzicDA3OPrJ"
      },
      "execution_count": 43,
      "outputs": []
    },
    {
      "cell_type": "markdown",
      "source": [
        "## Preparing the data in tensor format"
      ],
      "metadata": {
        "id": "lC9ACTxZOUmZ"
      }
    },
    {
      "cell_type": "code",
      "source": [
        "X_p, y_p = [], []\n",
        "for pair in zip(X,y):\n",
        "    ## Create the indexes for the list of split words of questions present in X and changing to tensor format\n",
        "    X_p.append(prepare_sequence(pair[0], word2index).view(1, -1))\n",
        "    ## Changes the format of labels to tensor format\n",
        "    y_p.append(Variable(LongTensor([target2index[pair[1]]])).view(1, -1))\n",
        "'''\n",
        "In this code snippet, you are creating two lists, `X_p` and `y_p`, which will hold the prepared data for your machine learning or deep learning model.\n",
        "- This loop iterates over pairs of text data and labels using `zip(X, y)`. It combines elements from the `X` list (which contains text data) and\n",
        "the `y` list (which contains labels) into pairs represented by `pair`.\n",
        "\n",
        "- For each pair, it does the following:\n",
        "\n",
        "  - `prepare_sequence(pair[0], word2index)`: It prepares the input text data (`pair[0]`) by converting it into a tensor format using the `prepare_sequence` function,\n",
        "  which you defined earlier. This function maps words to their corresponding indices based on the `word2index` dictionary.\n",
        "  The resulting tensor is then reshaped using `.view(1, -1)` to create a 2D tensor with one row.\n",
        "\n",
        "  - `Variable(LongTensor([target2index[pair[1]]]))`: It converts the label (`pair[1]`) into a tensor format by first looking up the label\n",
        "  in the `target2index` dictionary to get its numerical index and then creating a tensor from that index. The result is also reshaped into a 2D tensor.\n",
        "\n",
        "Both `X_p` and `y_p` will now contain the text data and labels in tensor format, which is typically used as input for training machine learning or\n",
        "deep learning models. This code prepares the data for supervised learning, where you have pairs of input data (X) and corresponding target labels (y) ready for training."
      ],
      "metadata": {
        "id": "OKRcGzwwOVgA"
      },
      "execution_count": 44,
      "outputs": []
    },
    {
      "cell_type": "markdown",
      "source": [
        "## Zipping both the data and labels and shuffle randomly"
      ],
      "metadata": {
        "id": "Pj6XJo3QOZOn"
      }
    },
    {
      "cell_type": "code",
      "source": [
        "data_p = list(zip(X_p, y_p))\n",
        "random.shuffle(data_p)\n",
        "\n",
        "'''\n",
        "This code snippet prepares your data by combining the prepared input data (`X_p`) and corresponding labels (`y_p`) into pairs and then shuffling these pairs.\n",
        "\n",
        "- `zip(X_p, y_p)`: This part of the code combines the prepared input data (`X_p`) and the corresponding labels (`y_p`) into pairs.\n",
        "Each pair consists of a prepared input sequence and its corresponding label. The `zip` function effectively pairs elements from `X_p` and `y_p` element-wise.\n",
        "\n",
        "- `list(...)`: The result of `zip(X_p, y_p)` is converted into a list. This creates a list of pairs where each pair contains a prepared input sequence and its label.\n",
        "\n",
        "- `random.shuffle(data_p)`: After creating the list of pairs (`data_p`), this line shuffles the pairs randomly.\n",
        "Shuffling the data is a common practice in machine learning to ensure that the order of the data does not introduce any biases during training.\n",
        "It randomizes the order of your training examples.\n",
        "\n",
        "After executing these lines of code, the `data_p` list will contain pairs of prepared input data and labels, and the order of these pairs will be random.\n",
        "This shuffled data is typically used for training and evaluating machine learning or deep learning models."
      ],
      "metadata": {
        "id": "KaXAvQA0OdFo"
      },
      "execution_count": 45,
      "outputs": []
    },
    {
      "cell_type": "markdown",
      "source": [
        "## Split the data into train and test"
      ],
      "metadata": {
        "id": "Sb5lg78NOgkD"
      }
    },
    {
      "cell_type": "code",
      "source": [
        "train_data = data_p[: int(len(data_p) * 0.9)]\n",
        "test_data = data_p[int(len(data_p) * 0.9):]"
      ],
      "metadata": {
        "id": "y3Mr6tIWOhdA"
      },
      "execution_count": 46,
      "outputs": []
    },
    {
      "cell_type": "markdown",
      "source": [
        "## Load Pretrained word vector"
      ],
      "metadata": {
        "id": "t1fJEVR9Ov0N"
      }
    },
    {
      "cell_type": "code",
      "source": [
        "import gensim\n",
        "model = gensim.models.KeyedVectors.load_word2vec_format('GoogleNews-vectors-negative300.bin', binary=True)"
      ],
      "metadata": {
        "id": "b0nDeDfTOwkd"
      },
      "execution_count": 47,
      "outputs": []
    },
    {
      "cell_type": "code",
      "source": [
        "word2index.keys()"
      ],
      "metadata": {
        "id": "OeQoezreO63d"
      },
      "execution_count": null,
      "outputs": []
    },
    {
      "cell_type": "code",
      "source": [
        "print(model['pail'].shape)\n",
        "print(np.random.randn(300).shape)"
      ],
      "metadata": {
        "colab": {
          "base_uri": "https://localhost:8080/"
        },
        "id": "9G8At6KpO7-U",
        "outputId": "d7f4d0e4-4f8d-48cc-99d2-1a6485c55f31"
      },
      "execution_count": 49,
      "outputs": [
        {
          "output_type": "stream",
          "name": "stdout",
          "text": [
            "(300,)\n",
            "(300,)\n"
          ]
        }
      ]
    },
    {
      "cell_type": "markdown",
      "source": [
        "## Get the vector corresponding to the word using the pretrained model"
      ],
      "metadata": {
        "id": "EpYhR2wiO_l5"
      }
    },
    {
      "cell_type": "code",
      "source": [
        "pretrained = []\n",
        "\n",
        "for index, key in enumerate(word2index.keys()):\n",
        "    try:\n",
        "        pretrained.append(model[key]) # Try to retrieve the pretrained word vector for the word 'key'\n",
        "    except:\n",
        "        #print(index, key)\n",
        "        pretrained.append(np.random.randn(300))\n",
        "\n",
        "pretrained_vectors = np.vstack(pretrained)\n",
        "#print(pretrained)\n",
        "\n",
        "'''\n",
        "In this code snippet, you are creating a list of pretrained word vectors by looking up each word in your `word2index` dictionary and attempting to retrieve\n",
        "its corresponding word vector from a pre-trained Word2Vec model. Here's what the code does with comments:\n",
        "\n",
        "This loop iterates over the keys (words) in your `word2index` dictionary using `enumerate`. For each word (`key`), it does the following:\n",
        "\n",
        "  - `model[key]`: It attempts to retrieve the pretrained word vector for the word `key` from the `model`, which is your pre-trained Word2Vec model.\n",
        "\n",
        "  - If the word is found in the pre-trained model, it appends the word vector to the `pretrained` list.\n",
        "\n",
        "  - If the word is not found in the pre-trained model (raises an exception), it appends a randomly generated word vector of dimensionality 300 to the `pretrained` list.\n",
        "  This is done to handle words that are not in the pre-trained vocabulary.\n",
        "\n",
        "- This line of code stacks the word vectors in the `pretrained` list vertically using `np.vstack`, creating a 2D NumPy array called `pretrained_vectors`.\n",
        "Each row in this array represents a word vector.\n",
        "\n",
        "The resulting `pretrained_vectors` array contains word vectors for the words in your `word2index` dictionary.\n",
        "Words found in the pre-trained model have their corresponding word vectors, while words not found in the model have randomly generated word vectors.\n",
        "\n",
        "These pretrained word vectors can be used as embeddings in various natural language processing tasks, such as text classification, sentiment analysis,\n",
        "or any task where word embeddings are beneficial."
      ],
      "metadata": {
        "id": "5C8QySNQPARy"
      },
      "execution_count": 50,
      "outputs": []
    },
    {
      "cell_type": "markdown",
      "source": [
        "## Modeling"
      ],
      "metadata": {
        "id": "JgqHaBIDPG8-"
      }
    },
    {
      "cell_type": "markdown",
      "source": [
        "![alttxt](https://cdn.talentsprint.com/aiml/Casestudies_slides/NLP_with_CNN/NLP_with_CNN.png)\n"
      ],
      "metadata": {
        "id": "TD3E2uNqPPiZ"
      }
    },
    {
      "cell_type": "markdown",
      "source": [
        "The above image is borrowed from this [paper.](http://www.aclweb.org/anthology/D14-1181)"
      ],
      "metadata": {
        "id": "Im9NQIeGPK5f"
      }
    },
    {
      "cell_type": "markdown",
      "source": [
        "## Define CNN classifier architecture for classification as per the paper"
      ],
      "metadata": {
        "id": "-nSKlqDjPUNx"
      }
    },
    {
      "cell_type": "code",
      "source": [
        "class CNNClassifier(nn.Module):\n",
        "    def __init__(self, vocab_size, embedding_dim, output_size, kernel_dim=100, kernel_sizes=(3, 4, 5), dropout=0.5):\n",
        "        super(CNNClassifier, self).__init__()\n",
        "\n",
        "        # Embedding layer to convert word indices into dense word vectors\n",
        "        self.embedding = nn.Embedding(vocab_size, embedding_dim)\n",
        "\n",
        "        # Convolutional layers with different kernel sizes\n",
        "        self.convs = nn.ModuleList([nn.Conv2d(1, kernel_dim, (K, embedding_dim)) for K in kernel_sizes])\n",
        "\n",
        "        # Dropout layer for regularization\n",
        "        self.dropout = nn.Dropout(dropout)\n",
        "\n",
        "        # Fully connected (linear) layer for classification\n",
        "        self.fc = nn.Linear(len(kernel_sizes) * kernel_dim, output_size)\n",
        "\n",
        "    def init_weights(self, pretrained_word_vectors, is_static=False):\n",
        "        # Initialize the embedding weights with pretrained word vectors\n",
        "        self.embedding.weight = nn.Parameter(torch.from_numpy(pretrained_word_vectors).float())\n",
        "        if is_static:\n",
        "            self.embedding.weight.requires_grad = False\n",
        "\n",
        "    def forward(self, inputs, is_training=False):\n",
        "        # Embedding layer: convert input word indices to word vectors\n",
        "        inputs = self.embedding(inputs).unsqueeze(1)  # Add a channel dimension\n",
        "\n",
        "        # Convolutional and pooling layers\n",
        "        inputs = [F.relu(conv(inputs)).squeeze(3) for conv in self.convs]  # Apply convolution and ReLU\n",
        "        inputs = [F.max_pool1d(i, i.size(2)).squeeze(2) for i in inputs]  # Max-pooling over time\n",
        "\n",
        "        # Concatenate the outputs of different kernel sizes\n",
        "        concated = torch.cat(inputs, 1)\n",
        "\n",
        "        if is_training:\n",
        "            concated = self.dropout(concated)\n",
        "\n",
        "        # Fully connected layer for classification\n",
        "        out = self.fc(concated)\n",
        "\n",
        "        # Apply log softmax for output probabilities\n",
        "        return F.log_softmax(out, 1)\n",
        "'''\n",
        "The code you provided defines a CNN (Convolutional Neural Network) classifier for text classification using PyTorch.\n",
        "This network is designed for text data and can be used for various natural language processing tasks.\n",
        "Below is an explanation of the key components and methods of this `CNNClassifier` class:\n",
        "\n",
        "- `__init__`: The constructor of the class takes several parameters to configure the network architecture, including the vocabulary size,\n",
        "embedding dimension, output size (number of classes), kernel dimensions, kernel sizes, and dropout rate.\n",
        "It initializes the embedding layer, convolutional layers with multiple kernel sizes, a dropout layer, and a fully connected layer.\n",
        "\n",
        "- `init_weights`: This method initializes the embedding weights with pretrained word vectors. If `is_static` is set to `True`, it freezes the embedding weights\n",
        "during training, making them non-trainable.\n",
        "\n",
        "- `forward`: This method defines the forward pass of the network. It takes input word indices, converts them into word vectors using the embedding layer,\n",
        "applies convolution and ReLU activation functions, performs max-pooling over time, concatenates the outputs of different kernel sizes, and passes the result\n",
        "through a fully connected layer. The final output is obtained by applying the log softmax function for classification.\n",
        "\n",
        "This `CNNClassifier` is designed for text classification tasks, such as sentiment analysis or document classification, and leverages convolutional\n",
        "neural networks to capture important local features in the text data. It can be trained using text data and used for making predictions on new text samples."
      ],
      "metadata": {
        "id": "K4p1OngyeO3X"
      },
      "execution_count": null,
      "outputs": []
    },
    {
      "cell_type": "markdown",
      "source": [
        "## Training the model"
      ],
      "metadata": {
        "id": "J5LMBzvMPZHc"
      }
    },
    {
      "cell_type": "markdown",
      "source": [
        "## Set the parameters"
      ],
      "metadata": {
        "id": "R4aY_4_TPeIp"
      }
    },
    {
      "cell_type": "code",
      "source": [
        "EPOCH = 5\n",
        "BATCH_SIZE = 50\n",
        "KERNEL_SIZES = [2,2,2]\n",
        "KERNEL_DIM = 100\n",
        "LR = 0.001"
      ],
      "metadata": {
        "id": "h1RUbzfqPZ0q"
      },
      "execution_count": 52,
      "outputs": []
    },
    {
      "cell_type": "markdown",
      "source": [
        "## Set up the defined CNN model and  Initialize embedding matrix using pretrained vectors"
      ],
      "metadata": {
        "id": "MEaIwRmcPns6"
      }
    },
    {
      "cell_type": "code",
      "source": [
        "model = CNNClassifier(len(word2index), 300, len(target2index), KERNEL_DIM, KERNEL_SIZES)\n",
        "model.init_weights(pretrained_vectors) # initialize embedding matrix using pretrained vectors"
      ],
      "metadata": {
        "id": "ZiGYMDUoPolh"
      },
      "execution_count": 53,
      "outputs": []
    },
    {
      "cell_type": "code",
      "source": [
        "if USE_CUDA:\n",
        "    model = model.cuda()"
      ],
      "metadata": {
        "id": "UeXKpniCPtPE"
      },
      "execution_count": 54,
      "outputs": []
    },
    {
      "cell_type": "markdown",
      "source": [
        "## Define loss function and optimizer"
      ],
      "metadata": {
        "id": "W7h-HMecPvrD"
      }
    },
    {
      "cell_type": "code",
      "source": [
        "loss_function = nn.CrossEntropyLoss()\n",
        "optimizer = optim.Adam(model.parameters(), lr=LR)"
      ],
      "metadata": {
        "id": "-fMRb-DwPwXH"
      },
      "execution_count": 55,
      "outputs": []
    },
    {
      "cell_type": "markdown",
      "source": [
        "## Train the data batch wise"
      ],
      "metadata": {
        "id": "i7QHGIwgPzuK"
      }
    },
    {
      "cell_type": "code",
      "source": [
        "for epoch in range(EPOCH):\n",
        "    losses = []\n",
        "    for i,batch in enumerate(getBatch(BATCH_SIZE, train_data)):\n",
        "        inputs,targets = pad_to_batch(batch)\n",
        "\n",
        "        model.zero_grad()\n",
        "        preds = model(inputs, True)\n",
        "\n",
        "        loss = loss_function(preds, targets)\n",
        "        losses.append(loss.data.item())\n",
        "        loss.backward()\n",
        "\n",
        "        #for param in model.parameters():\n",
        "        #    param.grad.data.clamp_(-3, 3)\n",
        "\n",
        "        optimizer.step()\n",
        "\n",
        "        if i % 100 == 0:\n",
        "            print(\"[%d/%d] mean_loss : %0.2f\" %(epoch, EPOCH, np.mean(losses)))\n",
        "            losses = []\n",
        "\n",
        "'''\n",
        "In this code snippet, you are training your CNN-based text classification model for a specified number of epochs (`EPOCH`). Inside the training loop,\n",
        "you are performing the following steps for each batch of training data:\n",
        "\n",
        "1. Zeroing the gradients using `model.zero_grad()`: This step clears the gradients of the model's parameters, preparing it for a new gradient computation.\n",
        "\n",
        "2. Forward pass: You pass the input data (`inputs`) through the model by calling `model(inputs, True)`. The `True` argument indicates that you are\n",
        "in training mode, which might be used for features like dropout.\n",
        "\n",
        "3. Computing the loss: The model's predictions (`preds`) and the target labels (`targets`) are used to compute the loss using the specified loss\n",
        "function (`loss_function`). The loss is then appended to the `losses` list for tracking.\n",
        "\n",
        "4. Backpropagation: The gradients are computed by calling `loss.backward()`. This step computes the gradients of the loss with respect to the\n",
        "model's parameters, which are needed for gradient-based optimization.\n",
        "\n",
        "5. Optimizer step: You update the model's parameters using the optimizer (`optimizer.step()`). The optimizer adjusts the model's weights based on\n",
        "the computed gradients and the learning rate.\n",
        "\n",
        "6. Printing progress: If `i` (the current batch index) is a multiple of 100, you print the mean loss for the current epoch to monitor the training progress.\n",
        "\n",
        "This loop runs for each batch of training data, and the process repeats for the specified number of epochs (`EPOCH`). The model's parameters are\n",
        "updated iteratively, and the loss is monitored to gauge how well the model is learning. The learning rate, loss function, and other hyperparameters\n",
        "play crucial roles in determining the model's convergence and performance during training.\n",
        "\n",
        "Note: The code includes commented-out lines for gradient clipping (`param.grad.data.clamp_(-3, 3)`), which can be useful for stabilizing training\n",
        "in some cases. You can uncomment and use this code if gradient explosion is observed during training."
      ],
      "metadata": {
        "colab": {
          "base_uri": "https://localhost:8080/"
        },
        "id": "Cqg7xdvdP1-V",
        "outputId": "3589571e-c82d-4dd6-be61-8ca97417e58d"
      },
      "execution_count": 56,
      "outputs": [
        {
          "output_type": "stream",
          "name": "stdout",
          "text": [
            "[0/5] mean_loss : 1.93\n",
            "[1/5] mean_loss : 0.46\n",
            "[2/5] mean_loss : 0.15\n",
            "[3/5] mean_loss : 0.07\n",
            "[4/5] mean_loss : 0.05\n"
          ]
        }
      ]
    },
    {
      "cell_type": "markdown",
      "source": [
        "## Predict the test data with the trained model and calculate the test accuracy"
      ],
      "metadata": {
        "id": "P2FHTmUfP5L5"
      }
    },
    {
      "cell_type": "code",
      "source": [
        "accuracy = 0\n",
        "for test in test_data:\n",
        "    pred = model(test[0].cuda()).max(1)[1]\n",
        "    pred = pred.data.tolist()[0] #pred is converted from a PyTorch tensor to a Python list to extract the predicted class index.\n",
        "    target = test[1].data.tolist()[0][0] #target is similarly extracted from the test example to get the true class index.\n",
        "    if pred == target:\n",
        "        accuracy += 1\n",
        "\n",
        "print(accuracy/len(test_data) * 100)\n",
        "\n",
        "'''\n",
        "For each test example, you pass its input (test[0]) to the model, perform a forward pass (.cuda() indicates using the GPU if available),\n",
        "and obtain the predicted class label. model(test[0]) computes the class probabilities, .max(1) finds the class with the highest probability,\n",
        "and [1] extracts the index of the predicted class."
      ],
      "metadata": {
        "colab": {
          "base_uri": "https://localhost:8080/"
        },
        "id": "t2qBrENVP5_C",
        "outputId": "ec76bc64-fa8b-4600-b289-df4c091f1ea0"
      },
      "execution_count": 57,
      "outputs": [
        {
          "output_type": "stream",
          "name": "stdout",
          "text": [
            "98.35164835164835\n"
          ]
        }
      ]
    }
  ]
}