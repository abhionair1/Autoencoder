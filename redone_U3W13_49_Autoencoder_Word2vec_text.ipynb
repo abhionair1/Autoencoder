{
  "nbformat": 4,
  "nbformat_minor": 0,
  "metadata": {
    "colab": {
      "provenance": [],
      "authorship_tag": "ABX9TyPZQXt5EJcualXnD7+8OerL",
      "include_colab_link": true
    },
    "kernelspec": {
      "name": "python3",
      "display_name": "Python 3"
    },
    "language_info": {
      "name": "python"
    }
  },
  "cells": [
    {
      "cell_type": "markdown",
      "metadata": {
        "id": "view-in-github",
        "colab_type": "text"
      },
      "source": [
        "<a href=\"https://colab.research.google.com/github/abhionair1/Autoencoder/blob/main/redone_U3W13_49_Autoencoder_Word2vec_text.ipynb\" target=\"_parent\"><img src=\"https://colab.research.google.com/assets/colab-badge.svg\" alt=\"Open In Colab\"/></a>"
      ]
    },
    {
      "cell_type": "markdown",
      "source": [
        "At the end of the experiment, you will be able to :\n",
        "\n",
        "* understand how to deal with the text preprocessing\n",
        "* create effective semantic representations of variable sized text"
      ],
      "metadata": {
        "id": "BGwAp0h6jhsN"
      }
    },
    {
      "cell_type": "markdown",
      "source": [
        "\n",
        "\n",
        "#### Description\n",
        "\n",
        "This dataset is a collection of approximately 20,000 newsgroup documents, partitioned nearly evenly across 20 different newsgroups. That is there are approximately one thousand documents taken from each of the following newsgroups:\n",
        "\n",
        "    alt.athesim\n",
        "    comp.graphics   \n",
        "    comp.os.ms-windows.misc\n",
        "    comp.sys.ibm.pc.hardware\n",
        "    comp.sys.mac.hardware\n",
        "    comp.windows.x\n",
        "    misc.forsale\n",
        "    rec.autos\n",
        "    rec.motorcycles\n",
        "    rec.sport.baseball\n",
        "    rec.sport.hockey\n",
        "    sci.crypt\n",
        "    sci.electronics\n",
        "    sci.med\n",
        "    sci.space\n",
        "    soc.religion.christian\n",
        "    talk.politics.guns\n",
        "    talk.politics.mideast\n",
        "    talk.politics.misc\n",
        "    talk.religion.misc\n",
        "\n",
        "The dataset consists **Usenet** posts--essentially an email sent by someone to that newsgroup. They typically contain quotes from previous posts as well as cross posts; that is a few posts that may be sent to more than one newsgroup.\n",
        "\n",
        "Each newsgroup is stored in a subdirectory, with each post stored as a separate file.\n",
        "\n",
        "Data source to this experiment: http://archive.ics.uci.edu/ml/datasets/Twenty+Newsgroups"
      ],
      "metadata": {
        "id": "j0zqK-1gjo1N"
      }
    },
    {
      "cell_type": "markdown",
      "source": [
        "### AI/ML Technique"
      ],
      "metadata": {
        "id": "SAgUXY5sj17U"
      }
    },
    {
      "cell_type": "markdown",
      "source": [
        "#### Autoencoder\n",
        "\n",
        "An autoencoder is a feedforward, non-recurrent neural network which is similar to a multilayer perceptron (MLP) – having an input layer, an output layer and one or more hidden layers connecting them. However, in an autoencoder, the output layer has the same number of nodes as the input layer and reconstructs its own inputs (instead of predicting the target value Y given inputs X).\n",
        "\n",
        "\n",
        "An autoencoder is made up of two components- the encoder and the decoder network. The task of the encoder is to generate a lower-dimensional embedding Z, which is referred to as latent vector, or latent representation. After that, we have the decoder stage in which Z is reconstructed to X' prime, which is the same as X (input).\n",
        "\n",
        "\n",
        "![alt text](https://cdn.talentsprint.com/aiml/Experiment_related_data/IMAGES/6.png)\n"
      ],
      "metadata": {
        "id": "I7eoOtVEj21D"
      }
    },
    {
      "cell_type": "code",
      "execution_count": 5,
      "metadata": {
        "colab": {
          "base_uri": "https://localhost:8080/"
        },
        "id": "xbMZG_HZjRWC",
        "outputId": "7a1050ca-c839-4141-9f1a-d3df5c7b732c"
      },
      "outputs": [
        {
          "output_type": "stream",
          "name": "stdout",
          "text": [
            "Requirement already satisfied: kaggle in /usr/local/lib/python3.10/dist-packages (1.5.16)\n",
            "Requirement already satisfied: six>=1.10 in /usr/local/lib/python3.10/dist-packages (from kaggle) (1.16.0)\n",
            "Requirement already satisfied: certifi in /usr/local/lib/python3.10/dist-packages (from kaggle) (2023.7.22)\n",
            "Requirement already satisfied: python-dateutil in /usr/local/lib/python3.10/dist-packages (from kaggle) (2.8.2)\n",
            "Requirement already satisfied: requests in /usr/local/lib/python3.10/dist-packages (from kaggle) (2.31.0)\n",
            "Requirement already satisfied: tqdm in /usr/local/lib/python3.10/dist-packages (from kaggle) (4.66.1)\n",
            "Requirement already satisfied: python-slugify in /usr/local/lib/python3.10/dist-packages (from kaggle) (8.0.1)\n",
            "Requirement already satisfied: urllib3 in /usr/local/lib/python3.10/dist-packages (from kaggle) (2.0.4)\n",
            "Requirement already satisfied: bleach in /usr/local/lib/python3.10/dist-packages (from kaggle) (6.0.0)\n",
            "Requirement already satisfied: webencodings in /usr/local/lib/python3.10/dist-packages (from bleach->kaggle) (0.5.1)\n",
            "Requirement already satisfied: text-unidecode>=1.3 in /usr/local/lib/python3.10/dist-packages (from python-slugify->kaggle) (1.3)\n",
            "Requirement already satisfied: charset-normalizer<4,>=2 in /usr/local/lib/python3.10/dist-packages (from requests->kaggle) (3.2.0)\n",
            "Requirement already satisfied: idna<4,>=2.5 in /usr/local/lib/python3.10/dist-packages (from requests->kaggle) (3.4)\n",
            "Drive already mounted at /content/drive; to attempt to forcibly remount, call drive.mount(\"/content/drive\", force_remount=True).\n",
            "mkdir: cannot create directory ‘/root/.kaggle’: File exists\n"
          ]
        }
      ],
      "source": [
        "!pip install kaggle\n",
        "from google.colab import drive\n",
        "drive.mount('/content/drive')\n",
        "!mkdir ~/.kaggle\n",
        "!cp /content/drive/MyDrive/Kaggle_api/kaggle.json ~/.kaggle/kaggle.json\n",
        "!chmod 600 ~/.kaggle/kaggle.json\n",
        ""
      ]
    },
    {
      "cell_type": "code",
      "source": [
        "!kaggle datasets download -d umbertogriffo/googles-trained-word2vec-model-in-python"
      ],
      "metadata": {
        "colab": {
          "base_uri": "https://localhost:8080/"
        },
        "id": "8Z-Xr-4gtJHy",
        "outputId": "c8e5644e-8c60-4633-b17e-2628eb98f868"
      },
      "execution_count": 8,
      "outputs": [
        {
          "output_type": "stream",
          "name": "stdout",
          "text": [
            "Downloading googles-trained-word2vec-model-in-python.zip to /content\n",
            " 99% 3.16G/3.17G [00:34<00:00, 162MB/s]\n",
            "100% 3.17G/3.17G [00:34<00:00, 99.5MB/s]\n"
          ]
        }
      ]
    },
    {
      "cell_type": "code",
      "source": [
        "!unzip googles-trained-word2vec-model-in-python.zip"
      ],
      "metadata": {
        "colab": {
          "base_uri": "https://localhost:8080/"
        },
        "id": "0NPBqQKptViB",
        "outputId": "603fe978-380f-4bed-8b9e-ef5ede2d86f5"
      },
      "execution_count": 9,
      "outputs": [
        {
          "output_type": "stream",
          "name": "stdout",
          "text": [
            "Archive:  googles-trained-word2vec-model-in-python.zip\n",
            "  inflating: GoogleNews-vectors-negative300.bin  \n",
            "  inflating: GoogleNews-vectors-negative300.bin.gz  \n"
          ]
        }
      ]
    },
    {
      "cell_type": "code",
      "source": [
        "!unzip \"/content/drive/MyDrive/AIML Stuff/Datasets/AIML_DS_NEWSGROUPS_PICKELFILE.pkl.zip\""
      ],
      "metadata": {
        "colab": {
          "base_uri": "https://localhost:8080/"
        },
        "id": "LhlHzkLKvvtj",
        "outputId": "1afe81f2-603e-4719-cff5-ce8c628ba733"
      },
      "execution_count": 13,
      "outputs": [
        {
          "output_type": "stream",
          "name": "stdout",
          "text": [
            "Archive:  /content/drive/MyDrive/AIML Stuff/Datasets/AIML_DS_NEWSGROUPS_PICKELFILE.pkl.zip\n",
            "  inflating: AIML_DS_NEWSGROUPS_PICKELFILE.pkl  \n"
          ]
        }
      ]
    },
    {
      "cell_type": "code",
      "source": [
        "import pickle\n",
        "dataset = pickle.load(open(\"AIML_DS_NEWSGROUPS_PICKELFILE.pkl\",'rb'))\n",
        "print(dataset.keys())"
      ],
      "metadata": {
        "colab": {
          "base_uri": "https://localhost:8080/"
        },
        "id": "npPZV6r-wIxm",
        "outputId": "0c38da32-5494-4dfc-eab0-998cf5f46926"
      },
      "execution_count": 14,
      "outputs": [
        {
          "output_type": "stream",
          "name": "stdout",
          "text": [
            "dict_keys(['talk.politics.mideast', 'rec.autos', 'comp.sys.mac.hardware', 'alt.atheism', 'rec.sport.baseball', 'comp.os.ms-windows.misc', 'rec.sport.hockey', 'sci.crypt', 'sci.med', 'talk.politics.misc', 'rec.motorcycles', 'comp.windows.x', 'comp.graphics', 'comp.sys.ibm.pc.hardware', 'sci.electronics', 'talk.politics.guns', 'sci.space', 'soc.religion.christian', 'misc.forsale', 'talk.religion.misc'])\n"
          ]
        }
      ]
    },
    {
      "cell_type": "code",
      "source": [
        "# Importing pytorch packages\n",
        "import torch\n",
        "from torch import nn\n",
        "import torch.optim as optim\n",
        "\n",
        "import torchvision\n",
        "from torchvision import datasets, transforms\n",
        "\n",
        "import numpy as np\n",
        "import gensim\n",
        "\n",
        "# Matplotlib is used for ploting graphs\n",
        "import matplotlib.pyplot as plt"
      ],
      "metadata": {
        "id": "_7zSn7SMwTnQ"
      },
      "execution_count": 15,
      "outputs": []
    },
    {
      "cell_type": "markdown",
      "source": [
        "### Dividing the dataset into train and test\n",
        "\n",
        "We will use 950 samples from each class in the training set, and the remaining 50 (Are you sure?)  in the test set."
      ],
      "metadata": {
        "id": "arxwX6GawWbK"
      }
    },
    {
      "cell_type": "code",
      "source": [
        "train_set = {}\n",
        "test_set = {}\n",
        "\n",
        "# Clean dataset for text encoding issues :- Very useful when dealing with non-unicode characters\n",
        "for key in dataset:\n",
        "    dataset[key] = [[i.decode('utf-8', errors='replace').lower() for i in f] for f in dataset[key]]\n",
        "\n",
        "# Break dataset into 95-5 split for training and testing\n",
        "n_train = 0\n",
        "n_test = 0\n",
        "for k in dataset:\n",
        "    split = int(0.95*len(dataset[k]))\n",
        "    train_set[k] = dataset[k][0:split]\n",
        "    test_set[k] = dataset[k][split:-1]\n",
        "    n_train += len(train_set[k])\n",
        "    n_test += len(test_set[k])"
      ],
      "metadata": {
        "id": "Lgqk5r4NwYn-"
      },
      "execution_count": 16,
      "outputs": []
    },
    {
      "cell_type": "markdown",
      "source": [
        "### Calculating the frequency of the words\n",
        "\n",
        "As you might have realized, machine learning algorithms need good feature representations of different inputs. Concretely, we would like to represent each news article 𝐷 in terms of a feature vector 𝑉, which can be used for classification. Feature vector 𝑉 is made up of the number of occurrences of each word in the vocabulary. Let us count the number of occurrences of every word in the news documents in the training set."
      ],
      "metadata": {
        "id": "CDopK_E_wdR4"
      }
    },
    {
      "cell_type": "code",
      "source": [
        "import collections\n",
        "import re\n",
        "import operator\n",
        "frequency = collections.defaultdict(int)\n",
        "\n",
        "for key in train_set:\n",
        "    for f in train_set[key]:\n",
        "\n",
        "        # Find all words which consist only of capital and lowercase characters and are between length of 2-9.\n",
        "        # We ignore all special characters such as !.$ and words containing numbers\n",
        "        words = re.findall(r'(\\b[A-Za-z][a-z]{2,9}\\b)', ' '.join(f))\n",
        "\n",
        "        for word in words:\n",
        "            frequency[word] += 1\n",
        "\n",
        "sorted_words = sorted(frequency.items(), key=operator.itemgetter(1), reverse=True)"
      ],
      "metadata": {
        "id": "jdnl7g4eweG7"
      },
      "execution_count": 17,
      "outputs": []
    },
    {
      "cell_type": "markdown",
      "source": [
        "### Preprocessing the data\n",
        "\n",
        "Now we got some rough ideas about kind of words that appear frequently, and those that occur rarely, and we can observe that different words appear with different frequencies. The most common words appear in almost all documents. Hence, for a classification task, having information about those words' frequencies does not matter much since they appear frequently in every type of document. To get a good feature representation, we eliminate them since they do not add too much value. Additionally, notice how the least frequent words appear so rarely that they might not be useful either.\n",
        "\n",
        "Let us pre-process our news articles now to remove the most frequent and least frequent words by thresholding their counts:"
      ],
      "metadata": {
        "id": "FUuIaDk9wmVJ"
      }
    },
    {
      "cell_type": "code",
      "source": [
        "valid_words = collections.defaultdict(int)\n",
        "\n",
        "print('Number of words before preprocessing:', len(sorted_words))\n",
        "\n",
        "# Ignore the 25 most frequent words, and the words which appear less than 100 times\n",
        "ignore_most_frequent = 25\n",
        "freq_thresh = 100\n",
        "feature_number = 0\n",
        "for word, word_frequency in sorted_words[ignore_most_frequent:]:\n",
        "    if word_frequency > freq_thresh:\n",
        "        valid_words[word] = feature_number\n",
        "        feature_number += 1\n",
        "\n",
        "print('Number of words after preprocessing:', len(valid_words))\n",
        "\n",
        "word_vector_size = len(valid_words)"
      ],
      "metadata": {
        "colab": {
          "base_uri": "https://localhost:8080/"
        },
        "id": "qULKDz11wnJU",
        "outputId": "fb13ad99-01b8-4840-f3fd-faa56f543983"
      },
      "execution_count": 18,
      "outputs": [
        {
          "output_type": "stream",
          "name": "stdout",
          "text": [
            "Number of words before preprocessing: 89599\n",
            "Number of words after preprocessing: 4096\n"
          ]
        }
      ]
    },
    {
      "cell_type": "markdown",
      "source": [
        "### Loading the predefined word2vec file"
      ],
      "metadata": {
        "id": "cOTEub5ewuF8"
      }
    },
    {
      "cell_type": "markdown",
      "source": [
        "we aim to predict the next word given the context in which the word appears. (For example, given the last 𝑛 words, predict the next word). A very smart way to do this is by using a feature representation called \"Word2Vec\" with transforms each word into 300-dimensional vectors.\n",
        "Link to pretrained 300 dimensional word2vec: https://drive.google.com/uc?id=0B7XkCwpI5KDYNlNUTTlSS21pQmM&export=download\n",
        "\n",
        "\n",
        "Converting each document into average of the word2vec vectors of all valid words in document.\n"
      ],
      "metadata": {
        "id": "nT6_t4fpwu6S"
      }
    },
    {
      "cell_type": "code",
      "source": [
        "model = gensim.models.KeyedVectors.load_word2vec_format('GoogleNews-vectors-negative300.bin', binary=True, limit=500000)"
      ],
      "metadata": {
        "id": "oey9_qkuww-U"
      },
      "execution_count": 20,
      "outputs": []
    },
    {
      "cell_type": "markdown",
      "source": [
        "Function for word2vec"
      ],
      "metadata": {
        "id": "9gBhq9DUxIAB"
      }
    },
    {
      "cell_type": "code",
      "source": [
        "word2vec_vector_size = 300\n",
        "\n",
        "'''\n",
        " This method converts documents to word vectors. It first checks if the word is valid according to our initial frequency\n",
        " threshold. Next, if it is, we add the precomputed word vectors together. If the word is valid, but we do not have a valid\n",
        " vector to represent the word, we add a random gaussian noise instead. Since we do not want to induce new noise each time,\n",
        " we store the same noise vector for training and test time in substitute_word_vecs variable.\n",
        "'''\n",
        "def convert_to_w2v(dataset, number_of_documents, substitute_word_vecs={}):\n",
        "    d = {}\n",
        "    labels = np.zeros((number_of_documents, 1))\n",
        "    w2v_rep = np.zeros((number_of_documents, word2vec_vector_size))\n",
        "\n",
        "    # Iterate over the dataset and split into words\n",
        "    i = 0\n",
        "    for label, class_name in enumerate(dataset):\n",
        "        for f in dataset[class_name]:\n",
        "            text = ' '.join(f).split(' ')\n",
        "            valid_count = 1\n",
        "            for word in text:\n",
        "\n",
        "                # Check if word is valid or not according to original dataset pruning\n",
        "                if word in valid_words:\n",
        "                    try:\n",
        "                        w2v_rep[i] += model[word]\n",
        "                        d[word] = model[word]\n",
        "                    except:\n",
        "                        '''The word isn't in our pretrained word-vectors, hence we add a random gaussian noise\n",
        "                         to account for this. We store the random vector we assigned to the word, and reuse\n",
        "                         the same vector during test time to ensure consistency.'''\n",
        "\n",
        "                        if word not in substitute_word_vecs.keys():\n",
        "                            substitute_word_vecs[word] = np.random.normal(-0.25, 0.25, word2vec_vector_size)\n",
        "\n",
        "                        w2v_rep[i] += substitute_word_vecs[word]\n",
        "\n",
        "                    valid_count += 1\n",
        "\n",
        "            # Average\n",
        "            w2v_rep[i] = w2v_rep[i] / valid_count\n",
        "\n",
        "            # Save label\n",
        "            labels[i] = label\n",
        "\n",
        "            i += 1\n",
        "\n",
        "    return d, w2v_rep, labels, substitute_word_vecs"
      ],
      "metadata": {
        "id": "IQFG8eZCxIok"
      },
      "execution_count": 21,
      "outputs": []
    },
    {
      "cell_type": "markdown",
      "source": [
        "### Convert the train and test datasets into their word2vec representations\n",
        "\n",
        "> Indented block"
      ],
      "metadata": {
        "id": "Y7HZmYelxOc9"
      }
    },
    {
      "cell_type": "code",
      "source": [
        "d_train,train_w2v_set, train_w2v_labels, substitute_word_vecs = convert_to_w2v(train_set, n_train)\n",
        "d_test,test_w2v_set, test_w2v_labels,_ = convert_to_w2v(test_set, n_test, substitute_word_vecs)"
      ],
      "metadata": {
        "id": "718Lnu7NxR3J"
      },
      "execution_count": 22,
      "outputs": []
    },
    {
      "cell_type": "code",
      "source": [
        "len(d_train),train_w2v_set.shape, train_w2v_labels.shape, len(substitute_word_vecs)"
      ],
      "metadata": {
        "colab": {
          "base_uri": "https://localhost:8080/"
        },
        "id": "9mwTdhuuxWL1",
        "outputId": "d3566595-af94-46a7-ef89-c430b8284d5f"
      },
      "execution_count": 23,
      "outputs": [
        {
          "output_type": "execute_result",
          "data": {
            "text/plain": [
              "(3655, (17878, 300), (17878, 1), 350)"
            ]
          },
          "metadata": {},
          "execution_count": 23
        }
      ]
    },
    {
      "cell_type": "markdown",
      "source": [
        "### Defining the Model\n",
        "\n",
        "\n",
        "Let us create an autoencoder architecture. Typically an autoencoder is made up of two components, the encoder network and the decoder network. Encoding network is made up of four layers where we are trying to compressing the data into 2 features which can be easily visualized in the plot.  Decoding network is made up of four layers.\n",
        "\n",
        "The sentences in the documents as word2vec representation are fed into the encoder network, transformed into a semantic vector of fixed size, and then unfolded back into an ordered sentences in document.\n"
      ],
      "metadata": {
        "id": "63P2VsRYxaoj"
      }
    },
    {
      "cell_type": "code",
      "source": [
        "class autoencoder(nn.Module):\n",
        "    def __init__(self):\n",
        "        super(autoencoder, self).__init__()\n",
        "        self.encoder = nn.Sequential(\n",
        "            nn.Linear(300,100),\n",
        "            nn.ReLU(),\n",
        "            nn.Linear(100,30),\n",
        "            nn.ReLU(),\n",
        "            nn.Linear(30,30),\n",
        "            nn.ReLU(),\n",
        "            nn.Linear(30,2))\n",
        "        self.decoder = nn.Sequential(\n",
        "            nn.Linear(2,30),\n",
        "            nn.ReLU(),\n",
        "            nn.Linear(30,30),\n",
        "            nn.ReLU(),\n",
        "            nn.Linear(30,100),\n",
        "            nn.ReLU(),\n",
        "            nn.Linear(100,300))\n",
        "\n",
        "    def forward(self, x):\n",
        "        y = self.encoder(x)\n",
        "        z = self.decoder(y)\n",
        "        return y,z"
      ],
      "metadata": {
        "id": "4Ck7jdqNxbpW"
      },
      "execution_count": 24,
      "outputs": []
    },
    {
      "cell_type": "markdown",
      "source": [
        "### Calling the instances of the network"
      ],
      "metadata": {
        "id": "BNRpCSqZxg-6"
      }
    },
    {
      "cell_type": "code",
      "source": [
        "model = autoencoder()\n",
        "model"
      ],
      "metadata": {
        "colab": {
          "base_uri": "https://localhost:8080/"
        },
        "id": "_NTsx8pXxh0A",
        "outputId": "c5c88603-6387-487c-f673-69771e618220"
      },
      "execution_count": 25,
      "outputs": [
        {
          "output_type": "execute_result",
          "data": {
            "text/plain": [
              "autoencoder(\n",
              "  (encoder): Sequential(\n",
              "    (0): Linear(in_features=300, out_features=100, bias=True)\n",
              "    (1): ReLU()\n",
              "    (2): Linear(in_features=100, out_features=30, bias=True)\n",
              "    (3): ReLU()\n",
              "    (4): Linear(in_features=30, out_features=30, bias=True)\n",
              "    (5): ReLU()\n",
              "    (6): Linear(in_features=30, out_features=2, bias=True)\n",
              "  )\n",
              "  (decoder): Sequential(\n",
              "    (0): Linear(in_features=2, out_features=30, bias=True)\n",
              "    (1): ReLU()\n",
              "    (2): Linear(in_features=30, out_features=30, bias=True)\n",
              "    (3): ReLU()\n",
              "    (4): Linear(in_features=30, out_features=100, bias=True)\n",
              "    (5): ReLU()\n",
              "    (6): Linear(in_features=100, out_features=300, bias=True)\n",
              "  )\n",
              ")"
            ]
          },
          "metadata": {},
          "execution_count": 25
        }
      ]
    },
    {
      "cell_type": "markdown",
      "source": [
        "### Defining the loss function and optimizer"
      ],
      "metadata": {
        "id": "p_rfGyzUxnip"
      }
    },
    {
      "cell_type": "code",
      "source": [
        "criterion = nn.MSELoss()\n",
        "optimizer = torch.optim.SGD(model.parameters(), lr=0.001)"
      ],
      "metadata": {
        "id": "MEabB3tJxoRL"
      },
      "execution_count": 26,
      "outputs": []
    },
    {
      "cell_type": "markdown",
      "source": [
        "### Training the Model\n",
        "\n",
        "1. Pass the data through the model.\n",
        "2. Calculate the loss by comparing the reconstructed image with the original image\n",
        "3. Train the model to minimize the reconstruction error which measures the diference between the original image and the consequent reconstructed image."
      ],
      "metadata": {
        "id": "b5HqlZgOxs71"
      }
    },
    {
      "cell_type": "code",
      "source": [
        "EPOCH = 10\n",
        "for epoch in range(EPOCH):\n",
        "    for i, (word, w2v) in enumerate(d_train.items()):\n",
        "        b_x = torch.FloatTensor(np.array(w2v))     # Converting an array to a tensor\n",
        "\n",
        "        # Passing the data to the model (Forward Pass)\n",
        "        encoded, decoded = model(b_x)\n",
        "\n",
        "        # Calculating mean square error loss between the reconstructed image and the original image\n",
        "        loss = criterion(decoded, b_x)\n",
        "\n",
        "        # Zero the parameter gradients\n",
        "        optimizer.zero_grad()\n",
        "\n",
        "        # Performing backward pass (Backpropagation)\n",
        "        loss.backward()\n",
        "\n",
        "        # optimizer.step() updates the weights accordingly\n",
        "        optimizer.step()\n",
        "\n",
        "    print(\"Loss:\",float(loss))"
      ],
      "metadata": {
        "colab": {
          "base_uri": "https://localhost:8080/"
        },
        "id": "MUa2uPOLxt7Y",
        "outputId": "75840cbf-ab95-4646-ad0f-fe4179e236c2"
      },
      "execution_count": 27,
      "outputs": [
        {
          "output_type": "stream",
          "name": "stdout",
          "text": [
            "Loss: 0.07029405236244202\n",
            "Loss: 0.06902868300676346\n",
            "Loss: 0.06805595755577087\n",
            "Loss: 0.0672527477145195\n",
            "Loss: 0.06658380478620529\n",
            "Loss: 0.06601633131504059\n",
            "Loss: 0.06553452461957932\n",
            "Loss: 0.06510476768016815\n",
            "Loss: 0.06471766531467438\n",
            "Loss: 0.0643685832619667\n"
          ]
        }
      ]
    },
    {
      "cell_type": "markdown",
      "source": [
        "We will convert training dataset first into a torch tensor, and form a differentiable Variable."
      ],
      "metadata": {
        "id": "mczrVIIWx0eV"
      }
    },
    {
      "cell_type": "code",
      "source": [
        "# Converting an array to a tensor\n",
        "value = torch.Tensor(np.array(train_w2v_set))\n",
        "\n",
        "# Passing the data to the model (Forward Pass)\n",
        "encoder_values, decoder_values = model(value)"
      ],
      "metadata": {
        "id": "izPfqVyCx16W"
      },
      "execution_count": 28,
      "outputs": []
    },
    {
      "cell_type": "code",
      "source": [
        "# Converting pytorch variable into numpy array\n",
        "encode = encoder_values.data.numpy()\n",
        "decode = decoder_values.data.numpy()"
      ],
      "metadata": {
        "id": "IacKyPiJx9a5"
      },
      "execution_count": 29,
      "outputs": []
    },
    {
      "cell_type": "code",
      "source": [
        "print(encode.shape, decode.shape)"
      ],
      "metadata": {
        "colab": {
          "base_uri": "https://localhost:8080/"
        },
        "id": "cTn2FLjbyBfM",
        "outputId": "a5cb1620-a800-4c65-8f0d-7cdfedc97aef"
      },
      "execution_count": 30,
      "outputs": [
        {
          "output_type": "stream",
          "name": "stdout",
          "text": [
            "(17878, 2) (17878, 300)\n"
          ]
        }
      ]
    },
    {
      "cell_type": "code",
      "source": [
        "# Storing all the words in words list\n",
        "words = []\n",
        "for key in substitute_word_vecs:\n",
        "    words.append(key)"
      ],
      "metadata": {
        "id": "ijjurgfhyCId"
      },
      "execution_count": 31,
      "outputs": []
    },
    {
      "cell_type": "markdown",
      "source": [
        "### Visualization of encoded data\n",
        "\n",
        "To visualize the higher dimensional data in 2D space, we can use autoencoders."
      ],
      "metadata": {
        "id": "Bnh263UGyG-F"
      }
    },
    {
      "cell_type": "code",
      "source": [
        "plt.figure(figsize=(10,6))\n",
        "plt.scatter(encode[:50,0],encode[:50,1])\n",
        "for i in range(len(words[:50]) - 1):\n",
        "    plt.annotate(words[i], xy = (encode[i][0],encode[i][1]))\n",
        "plt.show()"
      ],
      "metadata": {
        "colab": {
          "base_uri": "https://localhost:8080/",
          "height": 522
        },
        "id": "zzZF9F-ZyHxL",
        "outputId": "b4f2bbd2-85a3-4617-abb0-ba3c177da40a"
      },
      "execution_count": 32,
      "outputs": [
        {
          "output_type": "display_data",
          "data": {
            "text/plain": [
              "<Figure size 1000x600 with 1 Axes>"
            ],
            "image/png": "[encoded data removed]"
          },
          "metadata": {}
        }
      ]
    }
  ]
}