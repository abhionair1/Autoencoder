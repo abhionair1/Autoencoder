{
  "nbformat": 4,
  "nbformat_minor": 0,
  "metadata": {
    "colab": {
      "provenance": [],
      "gpuType": "T4",
      "authorship_tag": "ABX9TyP3I4DRUkDo0zbrXspq1NOp",
      "include_colab_link": true
    },
    "kernelspec": {
      "name": "python3",
      "display_name": "Python 3"
    },
    "language_info": {
      "name": "python"
    },
    "accelerator": "GPU"
  },
  "cells": [
    {
      "cell_type": "markdown",
      "metadata": {
        "id": "view-in-github",
        "colab_type": "text"
      },
      "source": [
        "<a href=\"https://colab.research.google.com/github/abhionair1/Autoencoder/blob/main/Redone_U3W12_Demo_CNN_Pytorch.ipynb\" target=\"_parent\"><img src=\"https://colab.research.google.com/assets/colab-badge.svg\" alt=\"Open In Colab\"/></a>"
      ]
    },
    {
      "cell_type": "markdown",
      "source": [
        "## Introduction\n",
        "\n",
        "This notebook aims at discovering Convolutional Neural Network. We will see the theory behind it, and an implementation in Pytorch on FashionMNIST dataset.\n"
      ],
      "metadata": {
        "id": "71FAAbrVzi4L"
      }
    },
    {
      "cell_type": "code",
      "execution_count": 1,
      "metadata": {
        "colab": {
          "base_uri": "https://localhost:8080/"
        },
        "id": "u4fyJH5izgCK",
        "outputId": "5b47bc47-cb86-4442-cd54-9410cc878e87"
      },
      "outputs": [
        {
          "output_type": "stream",
          "name": "stdout",
          "text": [
            "Collecting torchviz\n",
            "  Downloading torchviz-0.0.2.tar.gz (4.9 kB)\n",
            "  Preparing metadata (setup.py) ... \u001b[?25l\u001b[?25hdone\n",
            "Requirement already satisfied: torch in /usr/local/lib/python3.10/dist-packages (from torchviz) (2.0.1+cu118)\n",
            "Requirement already satisfied: graphviz in /usr/local/lib/python3.10/dist-packages (from torchviz) (0.20.1)\n",
            "Requirement already satisfied: filelock in /usr/local/lib/python3.10/dist-packages (from torch->torchviz) (3.12.2)\n",
            "Requirement already satisfied: typing-extensions in /usr/local/lib/python3.10/dist-packages (from torch->torchviz) (4.5.0)\n",
            "Requirement already satisfied: sympy in /usr/local/lib/python3.10/dist-packages (from torch->torchviz) (1.12)\n",
            "Requirement already satisfied: networkx in /usr/local/lib/python3.10/dist-packages (from torch->torchviz) (3.1)\n",
            "Requirement already satisfied: jinja2 in /usr/local/lib/python3.10/dist-packages (from torch->torchviz) (3.1.2)\n",
            "Requirement already satisfied: triton==2.0.0 in /usr/local/lib/python3.10/dist-packages (from torch->torchviz) (2.0.0)\n",
            "Requirement already satisfied: cmake in /usr/local/lib/python3.10/dist-packages (from triton==2.0.0->torch->torchviz) (3.27.4.1)\n",
            "Requirement already satisfied: lit in /usr/local/lib/python3.10/dist-packages (from triton==2.0.0->torch->torchviz) (16.0.6)\n",
            "Requirement already satisfied: MarkupSafe>=2.0 in /usr/local/lib/python3.10/dist-packages (from jinja2->torch->torchviz) (2.1.3)\n",
            "Requirement already satisfied: mpmath>=0.19 in /usr/local/lib/python3.10/dist-packages (from sympy->torch->torchviz) (1.3.0)\n",
            "Building wheels for collected packages: torchviz\n",
            "  Building wheel for torchviz (setup.py) ... \u001b[?25l\u001b[?25hdone\n",
            "  Created wheel for torchviz: filename=torchviz-0.0.2-py3-none-any.whl size=4130 sha256=c66b67de591ab85ed980a48e44fabb82cc92399b8a8c299212e14917e3ba892a\n",
            "  Stored in directory: /root/.cache/pip/wheels/4c/97/88/a02973217949e0db0c9f4346d154085f4725f99c4f15a87094\n",
            "Successfully built torchviz\n",
            "Installing collected packages: torchviz\n",
            "Successfully installed torchviz-0.0.2\n"
          ]
        }
      ],
      "source": [
        "!pip3 install torchviz"
      ]
    },
    {
      "cell_type": "code",
      "source": [
        "import torch\n",
        "import torch.nn as nn\n",
        "import torch.nn.functional as F\n",
        "import torch.optim as optim\n",
        "from torch.utils.data import DataLoader, TensorDataset\n",
        "\n",
        "import torchvision\n",
        "from torchvision import datasets, transforms, models\n",
        "\n",
        "from torchviz import make_dot\n",
        "\n",
        "import numpy as np\n",
        "\n",
        "import os\n",
        "os.environ[\"PATH\"] += os.pathsep + r\"libraries/graphviz-2.38/release/bin\""
      ],
      "metadata": {
        "id": "yWf04yPdzsOs"
      },
      "execution_count": 2,
      "outputs": []
    },
    {
      "cell_type": "markdown",
      "source": [
        "Fashion-MNIST is a dataset of Zalando's article images—consisting of a training set of 60,000 examples and a test set of 10,000 examples. Each example is a 28x28 grayscale image, associated with a label from 10 classes\n",
        "\n",
        "![FashionMNIST Dataset](https://raw.githubusercontent.com/zalandoresearch/fashion-mnist/master/doc/img/fashion-mnist-sprite.png)\n",
        "\n",
        "Pytorch's torchvision module conveniently packages the FashionMNIST dataset into a `torchvision.datasets.FashionMNIST` class for us. We simply need to specify the dataset split (train/test) and the transformations and augmentations we want to apply on each image. We wrap the dataset objects via Pytorch's `torch.utils.data.DataLoader` class to get dataloaders which will return entire batches of samples, and also optionally shuffle the dataset internally."
      ],
      "metadata": {
        "id": "xD12gKXHzyK_"
      }
    },
    {
      "cell_type": "code",
      "source": [
        "'''\n",
        "Training time transformations and problem specific data augmentations can be applied here.\n",
        "'''\n",
        "transforms_train = transforms.Compose([\n",
        "    transforms.ToTensor(),\n",
        "    # We've computed the mean and variance for this dataset beforehand, so we can plug it in here\n",
        "    transforms.Normalize((0.1307,), (0.3081,))\n",
        "])\n",
        "'''\n",
        "FashionMNIST is a subclass of torch.utils.data.Dataset, and have __getitem__ and __len__ methods implemented. For creating\n",
        "custom datasets you will have to inherit Dataset class and override __len__() and __getitem__()\n",
        "'''\n",
        "dataset_train = datasets.FashionMNIST(\n",
        "    root='./data', train=True, download=True, transform=transforms_train\n",
        ")\n",
        "'''\n",
        "Pass dataset object to DataLoader, which will later be used for iterating over minibatches\n",
        "'''\n",
        "dataloader_train = DataLoader(\n",
        "    dataset_train, batch_size=128, shuffle=True,\n",
        ")\n",
        "\n",
        "'''\n",
        "Repeat the same thing (defining transforms => dataset instantiation => dataloader creationg) for the test set\n",
        "'''\n",
        "transforms_test =transforms.Compose([\n",
        "    transforms.ToTensor(),\n",
        "    # We've computed the mean and variance for this dataset beforehand, so we can plug it in here\n",
        "    transforms.Normalize((0.1307,), (0.3081,))\n",
        "])\n",
        "\n",
        "dataset_test = datasets.FashionMNIST(\n",
        "    root='./data', train=False, download=False, transform=transforms_test\n",
        ")\n",
        "\n",
        "dataloader_test = DataLoader(\n",
        "    dataset_test, batch_size=128, shuffle=False,\n",
        ")"
      ],
      "metadata": {
        "colab": {
          "base_uri": "https://localhost:8080/"
        },
        "id": "dZMWDlXezuQg",
        "outputId": "03082b13-4ab7-44b1-88d5-adf2aa901802"
      },
      "execution_count": 3,
      "outputs": [
        {
          "output_type": "stream",
          "name": "stdout",
          "text": [
            "Downloading http://fashion-mnist.s3-website.eu-central-1.amazonaws.com/train-images-idx3-ubyte.gz\n",
            "Downloading http://fashion-mnist.s3-website.eu-central-1.amazonaws.com/train-images-idx3-ubyte.gz to ./data/FashionMNIST/raw/train-images-idx3-ubyte.gz\n"
          ]
        },
        {
          "output_type": "stream",
          "name": "stderr",
          "text": [
            "100%|██████████| 26421880/26421880 [00:03<00:00, 6776158.58it/s]\n"
          ]
        },
        {
          "output_type": "stream",
          "name": "stdout",
          "text": [
            "Extracting ./data/FashionMNIST/raw/train-images-idx3-ubyte.gz to ./data/FashionMNIST/raw\n",
            "\n",
            "Downloading http://fashion-mnist.s3-website.eu-central-1.amazonaws.com/train-labels-idx1-ubyte.gz\n",
            "Downloading http://fashion-mnist.s3-website.eu-central-1.amazonaws.com/train-labels-idx1-ubyte.gz to ./data/FashionMNIST/raw/train-labels-idx1-ubyte.gz\n"
          ]
        },
        {
          "output_type": "stream",
          "name": "stderr",
          "text": [
            "100%|██████████| 29515/29515 [00:00<00:00, 268571.66it/s]\n"
          ]
        },
        {
          "output_type": "stream",
          "name": "stdout",
          "text": [
            "Extracting ./data/FashionMNIST/raw/train-labels-idx1-ubyte.gz to ./data/FashionMNIST/raw\n",
            "\n",
            "Downloading http://fashion-mnist.s3-website.eu-central-1.amazonaws.com/t10k-images-idx3-ubyte.gz\n",
            "Downloading http://fashion-mnist.s3-website.eu-central-1.amazonaws.com/t10k-images-idx3-ubyte.gz to ./data/FashionMNIST/raw/t10k-images-idx3-ubyte.gz\n"
          ]
        },
        {
          "output_type": "stream",
          "name": "stderr",
          "text": [
            "100%|██████████| 4422102/4422102 [00:00<00:00, 4967278.77it/s]\n"
          ]
        },
        {
          "output_type": "stream",
          "name": "stdout",
          "text": [
            "Extracting ./data/FashionMNIST/raw/t10k-images-idx3-ubyte.gz to ./data/FashionMNIST/raw\n",
            "\n",
            "Downloading http://fashion-mnist.s3-website.eu-central-1.amazonaws.com/t10k-labels-idx1-ubyte.gz\n",
            "Downloading http://fashion-mnist.s3-website.eu-central-1.amazonaws.com/t10k-labels-idx1-ubyte.gz to ./data/FashionMNIST/raw/t10k-labels-idx1-ubyte.gz\n"
          ]
        },
        {
          "output_type": "stream",
          "name": "stderr",
          "text": [
            "100%|██████████| 5148/5148 [00:00<00:00, 7684084.34it/s]"
          ]
        },
        {
          "output_type": "stream",
          "name": "stdout",
          "text": [
            "Extracting ./data/FashionMNIST/raw/t10k-labels-idx1-ubyte.gz to ./data/FashionMNIST/raw\n",
            "\n"
          ]
        },
        {
          "output_type": "stream",
          "name": "stderr",
          "text": [
            "\n"
          ]
        }
      ]
    },
    {
      "cell_type": "markdown",
      "source": [
        "We now create a CNN class, which has to be a subclass of `torch.nn.Module` and have its own `__init__` and `forward` functions.\n",
        "\n",
        "We choose a simple architecture with `3 convolutional blocks` followed by `2 fully connected blocks`.\n",
        "\n",
        "For layers that do not have any parameters, i.e. layers that are simple mathematical operations on the input, such as ReLU, sigmoid, tanh, softmax, dropout, etc., Pytorch provides a `torch.nn.functional` module with such layers.\n",
        "\n",
        "While one can create a ReLU layer by using `nn.ReLU`, it's easier to just call `torch.nn.functional.relu` on a tensor. This helps reduce clutter, since large models can have many such layers.\n",
        "\n",
        "NOTE: We import `torch.nn.functional` as the alias `F`."
      ],
      "metadata": {
        "id": "NPsb5A6d1GZL"
      }
    },
    {
      "cell_type": "code",
      "source": [
        "class CNN(nn.Module):\n",
        "    def __init__(self):\n",
        "        #super(CNN, self).__init__()\n",
        "        super().__init__()\n",
        "        # nn.Conv2d API : torch.nn.Conv2d(in_channels, out_channels, kernel_size, stride=1, padding=0, dilation=1, groups=1, bias=True, padding_mode='zeros')\n",
        "        self.conv1 = nn.Conv2d(1, 32, kernel_size=5, stride=1)  # 32 filters of 5x5 size and depth 1 (since input channel = 1)\n",
        "        self.conv2 = nn.Conv2d(32, 32, kernel_size=5) # 32 filters of 5x5 size and depth 32 (since input channel =  1)\n",
        "        self.conv3 = nn.Conv2d(32, 64, kernel_size=5) # 64 filters of 5x5 size and depth 32 #params = 64x5x5x32 + 64\n",
        "        # nn.Linear API : torch.nn.Linear(in_features, out_features, bias=True)\n",
        "        self.fc1 = nn.Linear(3*3*64, 256)\n",
        "        self.fc2 = nn.Linear(256, 10)\n",
        "\n",
        "    def forward(self, x):\n",
        "        # BLOCK 1: CONV + RELU\n",
        "        x = F.relu(self.conv1(x))\n",
        "        # BLOCK 2: CONV + MAXPOOL + RELU + DROPOUT\n",
        "        x = F.relu(F.max_pool2d(self.conv2(x), 2))\n",
        "        x = F.dropout(x, p=0.5, training=self.training)\n",
        "        # BLOCK 3: CONV + MAXPOOL + RELU + DROPOUT\n",
        "        x = F.relu(F.max_pool2d(self.conv3(x),2))\n",
        "        x = F.dropout(x, p=0.5, training=self.training)\n",
        "        # FLATTEN\n",
        "        x = x.flatten(start_dim=1)\n",
        "        # BLOCK 4: FC + RELU + DROPOUT\n",
        "        x = F.relu(self.fc1(x))\n",
        "        x = F.dropout(x, training=self.training)\n",
        "        # BLOCK 5: FC + LOG SOFTMAX\n",
        "        x = F.log_softmax(self.fc2(x), dim=1)\n",
        "        return x\n",
        "\n",
        "model = CNN()\n",
        "print(model)\n",
        "\n",
        "# get a random training batch\n",
        "iterator = iter(dataloader_train)\n",
        "X_batch, y_batch = next(iterator)\n",
        "print(X_batch.shape, y_batch.shape, model(X_batch).shape)\n",
        "\n",
        "# pass a batch through the model and visualize the architecture\n",
        "# NOTE: we do not have to explicitly call model.forward(inputs), instead we just do model(inputs)\n",
        "# This is because PyTorch internally takes care of, giving us this syntactic sugar\n",
        "make_dot(model(X_batch), params=dict(model.named_parameters()))"
      ],
      "metadata": {
        "colab": {
          "base_uri": "https://localhost:8080/",
          "height": 1000
        },
        "id": "xt9W8ZIdzuHw",
        "outputId": "d2ed5945-1847-44cd-9bd7-49c782617fd2"
      },
      "execution_count": 4,
      "outputs": [
        {
          "output_type": "stream",
          "name": "stdout",
          "text": [
            "CNN(\n",
            "  (conv1): Conv2d(1, 32, kernel_size=(5, 5), stride=(1, 1))\n",
            "  (conv2): Conv2d(32, 32, kernel_size=(5, 5), stride=(1, 1))\n",
            "  (conv3): Conv2d(32, 64, kernel_size=(5, 5), stride=(1, 1))\n",
            "  (fc1): Linear(in_features=576, out_features=256, bias=True)\n",
            "  (fc2): Linear(in_features=256, out_features=10, bias=True)\n",
            ")\n",
            "torch.Size([128, 1, 28, 28]) torch.Size([128]) torch.Size([128, 10])\n"
          ]
        },
        {
          "output_type": "execute_result",
          "data": {
            "image/svg+xml": "<?xml version=\"1.0\" encoding=\"UTF-8\" standalone=\"no\"?>\n<!DOCTYPE svg PUBLIC \"-//W3C//DTD SVG 1.1//EN\"\n \"http://www.w3.org/Graphics/SVG/1.1/DTD/svg11.dtd\">\n<!-- Generated by graphviz version 2.43.0 (0)\n -->\n<!-- Title: %3 Pages: 1 -->\n<svg width=\"428pt\" height=\"864pt\"\n viewBox=\"0.00 0.00 428.09 864.00\" xmlns=\"http://www.w3.org/2000/svg\" xmlns:xlink=\"http://www.w3.org/1999/xlink\">\n<g id=\"graph0\" class=\"graph\" transform=\"scale(1.28 1.28) rotate(0) translate(4 1102)\">\n<title>%3</title>\n<polygon fill=\"white\" stroke=\"transparent\" points=\"-4,4 -4,-1102 544,-1102 544,4 -4,4\"/>\n<!-- 138171180145600 -->\n<g id=\"node1\" class=\"node\">\n<title>138171180145600</title>\n<polygon fill=\"#caff70\" stroke=\"black\" points=\"404,-31 327,-31 327,0 404,0 404,-31\"/>\n<text text-anchor=\"middle\" x=\"365.5\" y=\"-7\" font-family=\"monospace\" font-size=\"10.00\"> (128, 10)</text>\n</g>\n<!-- 138171179791936 -->\n<g id=\"node2\" class=\"node\">\n<title>138171179791936</title>\n<polygon fill=\"lightgrey\" stroke=\"black\" points=\"431,-86 300,-86 300,-67 431,-67 431,-86\"/>\n<text text-anchor=\"middle\" x=\"365.5\" y=\"-74\" font-family=\"monospace\" font-size=\"10.00\">LogSoftmaxBackward0</text>\n</g>\n<!-- 138171179791936&#45;&gt;138171180145600 -->\n<g id=\"edge38\" class=\"edge\">\n<title>138171179791936&#45;&gt;138171180145600</title>\n<path fill=\"none\" stroke=\"black\" d=\"M365.5,-66.79C365.5,-60.07 365.5,-50.4 365.5,-41.34\"/>\n<polygon fill=\"black\" stroke=\"black\" points=\"369,-41.19 365.5,-31.19 362,-41.19 369,-41.19\"/>\n</g>\n<!-- 138171179792176 -->\n<g id=\"node3\" class=\"node\">\n<title>138171179792176</title>\n<polygon fill=\"lightgrey\" stroke=\"black\" points=\"416,-141 315,-141 315,-122 416,-122 416,-141\"/>\n<text text-anchor=\"middle\" x=\"365.5\" y=\"-129\" font-family=\"monospace\" font-size=\"10.00\">AddmmBackward0</text>\n</g>\n<!-- 138171179792176&#45;&gt;138171179791936 -->\n<g id=\"edge1\" class=\"edge\">\n<title>138171179792176&#45;&gt;138171179791936</title>\n<path fill=\"none\" stroke=\"black\" d=\"M365.5,-121.75C365.5,-114.8 365.5,-104.85 365.5,-96.13\"/>\n<polygon fill=\"black\" stroke=\"black\" points=\"369,-96.09 365.5,-86.09 362,-96.09 369,-96.09\"/>\n</g>\n<!-- 138171179791792 -->\n<g id=\"node4\" class=\"node\">\n<title>138171179791792</title>\n<polygon fill=\"lightgrey\" stroke=\"black\" points=\"303,-196 202,-196 202,-177 303,-177 303,-196\"/>\n<text text-anchor=\"middle\" x=\"252.5\" y=\"-184\" font-family=\"monospace\" font-size=\"10.00\">AccumulateGrad</text>\n</g>\n<!-- 138171179791792&#45;&gt;138171179792176 -->\n<g id=\"edge2\" class=\"edge\">\n<title>138171179791792&#45;&gt;138171179792176</title>\n<path fill=\"none\" stroke=\"black\" d=\"M270.66,-176.98C288.75,-168.5 316.78,-155.35 337.69,-145.54\"/>\n<polygon fill=\"black\" stroke=\"black\" points=\"339.45,-148.59 347.01,-141.17 336.47,-142.25 339.45,-148.59\"/>\n</g>\n<!-- 138171180141520 -->\n<g id=\"node5\" class=\"node\">\n<title>138171180141520</title>\n<polygon fill=\"lightblue\" stroke=\"black\" points=\"285,-262 220,-262 220,-232 285,-232 285,-262\"/>\n<text text-anchor=\"middle\" x=\"252.5\" y=\"-250\" font-family=\"monospace\" font-size=\"10.00\">fc2.bias</text>\n<text text-anchor=\"middle\" x=\"252.5\" y=\"-239\" font-family=\"monospace\" font-size=\"10.00\"> (10)</text>\n</g>\n<!-- 138171180141520&#45;&gt;138171179791792 -->\n<g id=\"edge3\" class=\"edge\">\n<title>138171180141520&#45;&gt;138171179791792</title>\n<path fill=\"none\" stroke=\"black\" d=\"M252.5,-231.84C252.5,-224.21 252.5,-214.7 252.5,-206.45\"/>\n<polygon fill=\"black\" stroke=\"black\" points=\"256,-206.27 252.5,-196.27 249,-206.27 256,-206.27\"/>\n</g>\n<!-- 138171179792224 -->\n<g id=\"node6\" class=\"node\">\n<title>138171179792224</title>\n<polygon fill=\"lightgrey\" stroke=\"black\" points=\"410,-196 321,-196 321,-177 410,-177 410,-196\"/>\n<text text-anchor=\"middle\" x=\"365.5\" y=\"-184\" font-family=\"monospace\" font-size=\"10.00\">MulBackward0</text>\n</g>\n<!-- 138171179792224&#45;&gt;138171179792176 -->\n<g id=\"edge4\" class=\"edge\">\n<title>138171179792224&#45;&gt;138171179792176</title>\n<path fill=\"none\" stroke=\"black\" d=\"M365.5,-176.75C365.5,-169.8 365.5,-159.85 365.5,-151.13\"/>\n<polygon fill=\"black\" stroke=\"black\" points=\"369,-151.09 365.5,-141.09 362,-151.09 369,-151.09\"/>\n</g>\n<!-- 138171179790160 -->\n<g id=\"node7\" class=\"node\">\n<title>138171179790160</title>\n<polygon fill=\"lightgrey\" stroke=\"black\" points=\"409,-256.5 314,-256.5 314,-237.5 409,-237.5 409,-256.5\"/>\n<text text-anchor=\"middle\" x=\"361.5\" y=\"-244.5\" font-family=\"monospace\" font-size=\"10.00\">ReluBackward0</text>\n</g>\n<!-- 138171179790160&#45;&gt;138171179792224 -->\n<g id=\"edge5\" class=\"edge\">\n<title>138171179790160&#45;&gt;138171179792224</title>\n<path fill=\"none\" stroke=\"black\" d=\"M362.09,-237.37C362.65,-229.25 363.5,-216.81 364.21,-206.39\"/>\n<polygon fill=\"black\" stroke=\"black\" points=\"367.72,-206.38 364.91,-196.17 360.73,-205.91 367.72,-206.38\"/>\n</g>\n<!-- 138171179792416 -->\n<g id=\"node8\" class=\"node\">\n<title>138171179792416</title>\n<polygon fill=\"lightgrey\" stroke=\"black\" points=\"412,-322.5 311,-322.5 311,-303.5 412,-303.5 412,-322.5\"/>\n<text text-anchor=\"middle\" x=\"361.5\" y=\"-310.5\" font-family=\"monospace\" font-size=\"10.00\">AddmmBackward0</text>\n</g>\n<!-- 138171179792416&#45;&gt;138171179790160 -->\n<g id=\"edge6\" class=\"edge\">\n<title>138171179792416&#45;&gt;138171179790160</title>\n<path fill=\"none\" stroke=\"black\" d=\"M361.5,-303.37C361.5,-294.16 361.5,-279.29 361.5,-267.27\"/>\n<polygon fill=\"black\" stroke=\"black\" points=\"365,-266.91 361.5,-256.91 358,-266.91 365,-266.91\"/>\n</g>\n<!-- 138171179792656 -->\n<g id=\"node9\" class=\"node\">\n<title>138171179792656</title>\n<polygon fill=\"lightgrey\" stroke=\"black\" points=\"272,-383 171,-383 171,-364 272,-364 272,-383\"/>\n<text text-anchor=\"middle\" x=\"221.5\" y=\"-371\" font-family=\"monospace\" font-size=\"10.00\">AccumulateGrad</text>\n</g>\n<!-- 138171179792656&#45;&gt;138171179792416 -->\n<g id=\"edge7\" class=\"edge\">\n<title>138171179792656&#45;&gt;138171179792416</title>\n<path fill=\"none\" stroke=\"black\" d=\"M241.86,-363.99C265.5,-354.12 304.7,-337.73 331.75,-326.43\"/>\n<polygon fill=\"black\" stroke=\"black\" points=\"333.24,-329.6 341.12,-322.52 330.54,-323.14 333.24,-329.6\"/>\n</g>\n<!-- 138171180141360 -->\n<g id=\"node10\" class=\"node\">\n<title>138171180141360</title>\n<polygon fill=\"lightblue\" stroke=\"black\" points=\"254,-449 189,-449 189,-419 254,-419 254,-449\"/>\n<text text-anchor=\"middle\" x=\"221.5\" y=\"-437\" font-family=\"monospace\" font-size=\"10.00\">fc1.bias</text>\n<text text-anchor=\"middle\" x=\"221.5\" y=\"-426\" font-family=\"monospace\" font-size=\"10.00\"> (256)</text>\n</g>\n<!-- 138171180141360&#45;&gt;138171179792656 -->\n<g id=\"edge8\" class=\"edge\">\n<title>138171180141360&#45;&gt;138171179792656</title>\n<path fill=\"none\" stroke=\"black\" d=\"M221.5,-418.84C221.5,-411.21 221.5,-401.7 221.5,-393.45\"/>\n<polygon fill=\"black\" stroke=\"black\" points=\"225,-393.27 221.5,-383.27 218,-393.27 225,-393.27\"/>\n</g>\n<!-- 138171179792560 -->\n<g id=\"node11\" class=\"node\">\n<title>138171179792560</title>\n<polygon fill=\"lightgrey\" stroke=\"black\" points=\"433,-383 290,-383 290,-364 433,-364 433,-383\"/>\n<text text-anchor=\"middle\" x=\"361.5\" y=\"-371\" font-family=\"monospace\" font-size=\"10.00\">ReshapeAliasBackward0</text>\n</g>\n<!-- 138171179792560&#45;&gt;138171179792416 -->\n<g id=\"edge9\" class=\"edge\">\n<title>138171179792560&#45;&gt;138171179792416</title>\n<path fill=\"none\" stroke=\"black\" d=\"M361.5,-363.87C361.5,-355.75 361.5,-343.31 361.5,-332.89\"/>\n<polygon fill=\"black\" stroke=\"black\" points=\"365,-332.67 361.5,-322.67 358,-332.67 365,-332.67\"/>\n</g>\n<!-- 138171179792704 -->\n<g id=\"node12\" class=\"node\">\n<title>138171179792704</title>\n<polygon fill=\"lightgrey\" stroke=\"black\" points=\"406,-443.5 317,-443.5 317,-424.5 406,-424.5 406,-443.5\"/>\n<text text-anchor=\"middle\" x=\"361.5\" y=\"-431.5\" font-family=\"monospace\" font-size=\"10.00\">MulBackward0</text>\n</g>\n<!-- 138171179792704&#45;&gt;138171179792560 -->\n<g id=\"edge10\" class=\"edge\">\n<title>138171179792704&#45;&gt;138171179792560</title>\n<path fill=\"none\" stroke=\"black\" d=\"M361.5,-424.37C361.5,-416.25 361.5,-403.81 361.5,-393.39\"/>\n<polygon fill=\"black\" stroke=\"black\" points=\"365,-393.17 361.5,-383.17 358,-393.17 365,-393.17\"/>\n</g>\n<!-- 138171179793328 -->\n<g id=\"node13\" class=\"node\">\n<title>138171179793328</title>\n<polygon fill=\"lightgrey\" stroke=\"black\" points=\"409,-509.5 314,-509.5 314,-490.5 409,-490.5 409,-509.5\"/>\n<text text-anchor=\"middle\" x=\"361.5\" y=\"-497.5\" font-family=\"monospace\" font-size=\"10.00\">ReluBackward0</text>\n</g>\n<!-- 138171179793328&#45;&gt;138171179792704 -->\n<g id=\"edge11\" class=\"edge\">\n<title>138171179793328&#45;&gt;138171179792704</title>\n<path fill=\"none\" stroke=\"black\" d=\"M361.5,-490.37C361.5,-481.16 361.5,-466.29 361.5,-454.27\"/>\n<polygon fill=\"black\" stroke=\"black\" points=\"365,-453.91 361.5,-443.91 358,-453.91 365,-453.91\"/>\n</g>\n<!-- 138171179794384 -->\n<g id=\"node14\" class=\"node\">\n<title>138171179794384</title>\n<polygon fill=\"lightgrey\" stroke=\"black\" points=\"457,-570 266,-570 266,-551 457,-551 457,-570\"/>\n<text text-anchor=\"middle\" x=\"361.5\" y=\"-558\" font-family=\"monospace\" font-size=\"10.00\">MaxPool2DWithIndicesBackward0</text>\n</g>\n<!-- 138171179794384&#45;&gt;138171179793328 -->\n<g id=\"edge12\" class=\"edge\">\n<title>138171179794384&#45;&gt;138171179793328</title>\n<path fill=\"none\" stroke=\"black\" d=\"M361.5,-550.87C361.5,-542.75 361.5,-530.31 361.5,-519.89\"/>\n<polygon fill=\"black\" stroke=\"black\" points=\"365,-519.67 361.5,-509.67 358,-519.67 365,-519.67\"/>\n</g>\n<!-- 138171179794192 -->\n<g id=\"node15\" class=\"node\">\n<title>138171179794192</title>\n<polygon fill=\"lightgrey\" stroke=\"black\" points=\"430,-625 293,-625 293,-606 430,-606 430,-625\"/>\n<text text-anchor=\"middle\" x=\"361.5\" y=\"-613\" font-family=\"monospace\" font-size=\"10.00\">ConvolutionBackward0</text>\n</g>\n<!-- 138171179794192&#45;&gt;138171179794384 -->\n<g id=\"edge13\" class=\"edge\">\n<title>138171179794192&#45;&gt;138171179794384</title>\n<path fill=\"none\" stroke=\"black\" d=\"M361.5,-605.75C361.5,-598.8 361.5,-588.85 361.5,-580.13\"/>\n<polygon fill=\"black\" stroke=\"black\" points=\"365,-580.09 361.5,-570.09 358,-580.09 365,-580.09\"/>\n</g>\n<!-- 138171179788624 -->\n<g id=\"node16\" class=\"node\">\n<title>138171179788624</title>\n<polygon fill=\"lightgrey\" stroke=\"black\" points=\"292,-680 203,-680 203,-661 292,-661 292,-680\"/>\n<text text-anchor=\"middle\" x=\"247.5\" y=\"-668\" font-family=\"monospace\" font-size=\"10.00\">MulBackward0</text>\n</g>\n<!-- 138171179788624&#45;&gt;138171179794192 -->\n<g id=\"edge14\" class=\"edge\">\n<title>138171179788624&#45;&gt;138171179794192</title>\n<path fill=\"none\" stroke=\"black\" d=\"M265.82,-660.98C284.16,-652.46 312.61,-639.23 333.73,-629.41\"/>\n<polygon fill=\"black\" stroke=\"black\" points=\"335.26,-632.56 342.85,-625.17 332.31,-626.21 335.26,-632.56\"/>\n</g>\n<!-- 138171179791456 -->\n<g id=\"node17\" class=\"node\">\n<title>138171179791456</title>\n<polygon fill=\"lightgrey\" stroke=\"black\" points=\"292,-740.5 197,-740.5 197,-721.5 292,-721.5 292,-740.5\"/>\n<text text-anchor=\"middle\" x=\"244.5\" y=\"-728.5\" font-family=\"monospace\" font-size=\"10.00\">ReluBackward0</text>\n</g>\n<!-- 138171179791456&#45;&gt;138171179788624 -->\n<g id=\"edge15\" class=\"edge\">\n<title>138171179791456&#45;&gt;138171179788624</title>\n<path fill=\"none\" stroke=\"black\" d=\"M244.94,-721.37C245.36,-713.25 246,-700.81 246.53,-690.39\"/>\n<polygon fill=\"black\" stroke=\"black\" points=\"250.04,-690.33 247.06,-680.17 243.05,-689.97 250.04,-690.33\"/>\n</g>\n<!-- 138171179791408 -->\n<g id=\"node18\" class=\"node\">\n<title>138171179791408</title>\n<polygon fill=\"lightgrey\" stroke=\"black\" points=\"340,-801 149,-801 149,-782 340,-782 340,-801\"/>\n<text text-anchor=\"middle\" x=\"244.5\" y=\"-789\" font-family=\"monospace\" font-size=\"10.00\">MaxPool2DWithIndicesBackward0</text>\n</g>\n<!-- 138171179791408&#45;&gt;138171179791456 -->\n<g id=\"edge16\" class=\"edge\">\n<title>138171179791408&#45;&gt;138171179791456</title>\n<path fill=\"none\" stroke=\"black\" d=\"M244.5,-781.87C244.5,-773.75 244.5,-761.31 244.5,-750.89\"/>\n<polygon fill=\"black\" stroke=\"black\" points=\"248,-750.67 244.5,-740.67 241,-750.67 248,-750.67\"/>\n</g>\n<!-- 138171179790640 -->\n<g id=\"node19\" class=\"node\">\n<title>138171179790640</title>\n<polygon fill=\"lightgrey\" stroke=\"black\" points=\"313,-856 176,-856 176,-837 313,-837 313,-856\"/>\n<text text-anchor=\"middle\" x=\"244.5\" y=\"-844\" font-family=\"monospace\" font-size=\"10.00\">ConvolutionBackward0</text>\n</g>\n<!-- 138171179790640&#45;&gt;138171179791408 -->\n<g id=\"edge17\" class=\"edge\">\n<title>138171179790640&#45;&gt;138171179791408</title>\n<path fill=\"none\" stroke=\"black\" d=\"M244.5,-836.75C244.5,-829.8 244.5,-819.85 244.5,-811.13\"/>\n<polygon fill=\"black\" stroke=\"black\" points=\"248,-811.09 244.5,-801.09 241,-811.09 248,-811.09\"/>\n</g>\n<!-- 138171179789344 -->\n<g id=\"node20\" class=\"node\">\n<title>138171179789344</title>\n<polygon fill=\"lightgrey\" stroke=\"black\" points=\"167,-911 72,-911 72,-892 167,-892 167,-911\"/>\n<text text-anchor=\"middle\" x=\"119.5\" y=\"-899\" font-family=\"monospace\" font-size=\"10.00\">ReluBackward0</text>\n</g>\n<!-- 138171179789344&#45;&gt;138171179790640 -->\n<g id=\"edge18\" class=\"edge\">\n<title>138171179789344&#45;&gt;138171179790640</title>\n<path fill=\"none\" stroke=\"black\" d=\"M139.58,-891.98C159.87,-883.38 191.46,-869.99 214.67,-860.15\"/>\n<polygon fill=\"black\" stroke=\"black\" points=\"216.21,-863.3 224.05,-856.17 213.48,-856.85 216.21,-863.3\"/>\n</g>\n<!-- 138171179790352 -->\n<g id=\"node21\" class=\"node\">\n<title>138171179790352</title>\n<polygon fill=\"lightgrey\" stroke=\"black\" points=\"178,-971.5 41,-971.5 41,-952.5 178,-952.5 178,-971.5\"/>\n<text text-anchor=\"middle\" x=\"109.5\" y=\"-959.5\" font-family=\"monospace\" font-size=\"10.00\">ConvolutionBackward0</text>\n</g>\n<!-- 138171179790352&#45;&gt;138171179789344 -->\n<g id=\"edge19\" class=\"edge\">\n<title>138171179790352&#45;&gt;138171179789344</title>\n<path fill=\"none\" stroke=\"black\" d=\"M110.98,-952.37C112.38,-944.16 114.54,-931.54 116.33,-921.05\"/>\n<polygon fill=\"black\" stroke=\"black\" points=\"119.78,-921.61 118.02,-911.17 112.88,-920.43 119.78,-921.61\"/>\n</g>\n<!-- 138171179789536 -->\n<g id=\"node22\" class=\"node\">\n<title>138171179789536</title>\n<polygon fill=\"lightgrey\" stroke=\"black\" points=\"101,-1032 0,-1032 0,-1013 101,-1013 101,-1032\"/>\n<text text-anchor=\"middle\" x=\"50.5\" y=\"-1020\" font-family=\"monospace\" font-size=\"10.00\">AccumulateGrad</text>\n</g>\n<!-- 138171179789536&#45;&gt;138171179790352 -->\n<g id=\"edge20\" class=\"edge\">\n<title>138171179789536&#45;&gt;138171179790352</title>\n<path fill=\"none\" stroke=\"black\" d=\"M59.21,-1012.87C68.18,-1003.97 82.38,-989.89 93.41,-978.95\"/>\n<polygon fill=\"black\" stroke=\"black\" points=\"96.12,-981.19 100.76,-971.67 91.19,-976.22 96.12,-981.19\"/>\n</g>\n<!-- 138171180140640 -->\n<g id=\"node23\" class=\"node\">\n<title>138171180140640</title>\n<polygon fill=\"lightblue\" stroke=\"black\" points=\"101,-1098 0,-1098 0,-1068 101,-1068 101,-1098\"/>\n<text text-anchor=\"middle\" x=\"50.5\" y=\"-1086\" font-family=\"monospace\" font-size=\"10.00\">conv1.weight</text>\n<text text-anchor=\"middle\" x=\"50.5\" y=\"-1075\" font-family=\"monospace\" font-size=\"10.00\"> (32, 1, 5, 5)</text>\n</g>\n<!-- 138171180140640&#45;&gt;138171179789536 -->\n<g id=\"edge21\" class=\"edge\">\n<title>138171180140640&#45;&gt;138171179789536</title>\n<path fill=\"none\" stroke=\"black\" d=\"M50.5,-1067.84C50.5,-1060.21 50.5,-1050.7 50.5,-1042.45\"/>\n<polygon fill=\"black\" stroke=\"black\" points=\"54,-1042.27 50.5,-1032.27 47,-1042.27 54,-1042.27\"/>\n</g>\n<!-- 138171179790448 -->\n<g id=\"node24\" class=\"node\">\n<title>138171179790448</title>\n<polygon fill=\"lightgrey\" stroke=\"black\" points=\"220,-1032 119,-1032 119,-1013 220,-1013 220,-1032\"/>\n<text text-anchor=\"middle\" x=\"169.5\" y=\"-1020\" font-family=\"monospace\" font-size=\"10.00\">AccumulateGrad</text>\n</g>\n<!-- 138171179790448&#45;&gt;138171179790352 -->\n<g id=\"edge22\" class=\"edge\">\n<title>138171179790448&#45;&gt;138171179790352</title>\n<path fill=\"none\" stroke=\"black\" d=\"M160.65,-1012.87C151.52,-1003.97 137.08,-989.89 125.86,-978.95\"/>\n<polygon fill=\"black\" stroke=\"black\" points=\"127.99,-976.14 118.39,-971.67 123.11,-981.15 127.99,-976.14\"/>\n</g>\n<!-- 138171180140720 -->\n<g id=\"node25\" class=\"node\">\n<title>138171180140720</title>\n<polygon fill=\"lightblue\" stroke=\"black\" points=\"208,-1098 131,-1098 131,-1068 208,-1068 208,-1098\"/>\n<text text-anchor=\"middle\" x=\"169.5\" y=\"-1086\" font-family=\"monospace\" font-size=\"10.00\">conv1.bias</text>\n<text text-anchor=\"middle\" x=\"169.5\" y=\"-1075\" font-family=\"monospace\" font-size=\"10.00\"> (32)</text>\n</g>\n<!-- 138171180140720&#45;&gt;138171179790448 -->\n<g id=\"edge23\" class=\"edge\">\n<title>138171180140720&#45;&gt;138171179790448</title>\n<path fill=\"none\" stroke=\"black\" d=\"M169.5,-1067.84C169.5,-1060.21 169.5,-1050.7 169.5,-1042.45\"/>\n<polygon fill=\"black\" stroke=\"black\" points=\"173,-1042.27 169.5,-1032.27 166,-1042.27 173,-1042.27\"/>\n</g>\n<!-- 138171179790496 -->\n<g id=\"node26\" class=\"node\">\n<title>138171179790496</title>\n<polygon fill=\"lightgrey\" stroke=\"black\" points=\"295,-911 194,-911 194,-892 295,-892 295,-911\"/>\n<text text-anchor=\"middle\" x=\"244.5\" y=\"-899\" font-family=\"monospace\" font-size=\"10.00\">AccumulateGrad</text>\n</g>\n<!-- 138171179790496&#45;&gt;138171179790640 -->\n<g id=\"edge24\" class=\"edge\">\n<title>138171179790496&#45;&gt;138171179790640</title>\n<path fill=\"none\" stroke=\"black\" d=\"M244.5,-891.75C244.5,-884.8 244.5,-874.85 244.5,-866.13\"/>\n<polygon fill=\"black\" stroke=\"black\" points=\"248,-866.09 244.5,-856.09 241,-866.09 248,-866.09\"/>\n</g>\n<!-- 138171180140560 -->\n<g id=\"node27\" class=\"node\">\n<title>138171180140560</title>\n<polygon fill=\"lightblue\" stroke=\"black\" points=\"303,-977 196,-977 196,-947 303,-947 303,-977\"/>\n<text text-anchor=\"middle\" x=\"249.5\" y=\"-965\" font-family=\"monospace\" font-size=\"10.00\">conv2.weight</text>\n<text text-anchor=\"middle\" x=\"249.5\" y=\"-954\" font-family=\"monospace\" font-size=\"10.00\"> (32, 32, 5, 5)</text>\n</g>\n<!-- 138171180140560&#45;&gt;138171179790496 -->\n<g id=\"edge25\" class=\"edge\">\n<title>138171180140560&#45;&gt;138171179790496</title>\n<path fill=\"none\" stroke=\"black\" d=\"M248.29,-946.84C247.64,-939.21 246.83,-929.7 246.12,-921.45\"/>\n<polygon fill=\"black\" stroke=\"black\" points=\"249.59,-920.93 245.25,-911.27 242.61,-921.53 249.59,-920.93\"/>\n</g>\n<!-- 138171179789296 -->\n<g id=\"node28\" class=\"node\">\n<title>138171179789296</title>\n<polygon fill=\"lightgrey\" stroke=\"black\" points=\"414,-911 313,-911 313,-892 414,-892 414,-911\"/>\n<text text-anchor=\"middle\" x=\"363.5\" y=\"-899\" font-family=\"monospace\" font-size=\"10.00\">AccumulateGrad</text>\n</g>\n<!-- 138171179789296&#45;&gt;138171179790640 -->\n<g id=\"edge26\" class=\"edge\">\n<title>138171179789296&#45;&gt;138171179790640</title>\n<path fill=\"none\" stroke=\"black\" d=\"M344.38,-891.98C325.15,-883.42 295.27,-870.11 273.19,-860.28\"/>\n<polygon fill=\"black\" stroke=\"black\" points=\"274.53,-857.04 263.97,-856.17 271.68,-863.44 274.53,-857.04\"/>\n</g>\n<!-- 138171180140960 -->\n<g id=\"node29\" class=\"node\">\n<title>138171180140960</title>\n<polygon fill=\"lightblue\" stroke=\"black\" points=\"402,-977 325,-977 325,-947 402,-947 402,-977\"/>\n<text text-anchor=\"middle\" x=\"363.5\" y=\"-965\" font-family=\"monospace\" font-size=\"10.00\">conv2.bias</text>\n<text text-anchor=\"middle\" x=\"363.5\" y=\"-954\" font-family=\"monospace\" font-size=\"10.00\"> (32)</text>\n</g>\n<!-- 138171180140960&#45;&gt;138171179789296 -->\n<g id=\"edge27\" class=\"edge\">\n<title>138171180140960&#45;&gt;138171179789296</title>\n<path fill=\"none\" stroke=\"black\" d=\"M363.5,-946.84C363.5,-939.21 363.5,-929.7 363.5,-921.45\"/>\n<polygon fill=\"black\" stroke=\"black\" points=\"367,-921.27 363.5,-911.27 360,-921.27 367,-921.27\"/>\n</g>\n<!-- 138171179794000 -->\n<g id=\"node30\" class=\"node\">\n<title>138171179794000</title>\n<polygon fill=\"lightgrey\" stroke=\"black\" points=\"412,-680 311,-680 311,-661 412,-661 412,-680\"/>\n<text text-anchor=\"middle\" x=\"361.5\" y=\"-668\" font-family=\"monospace\" font-size=\"10.00\">AccumulateGrad</text>\n</g>\n<!-- 138171179794000&#45;&gt;138171179794192 -->\n<g id=\"edge28\" class=\"edge\">\n<title>138171179794000&#45;&gt;138171179794192</title>\n<path fill=\"none\" stroke=\"black\" d=\"M361.5,-660.75C361.5,-653.8 361.5,-643.85 361.5,-635.13\"/>\n<polygon fill=\"black\" stroke=\"black\" points=\"365,-635.09 361.5,-625.09 358,-635.09 365,-635.09\"/>\n</g>\n<!-- 138171180141120 -->\n<g id=\"node31\" class=\"node\">\n<title>138171180141120</title>\n<polygon fill=\"lightblue\" stroke=\"black\" points=\"417,-746 310,-746 310,-716 417,-716 417,-746\"/>\n<text text-anchor=\"middle\" x=\"363.5\" y=\"-734\" font-family=\"monospace\" font-size=\"10.00\">conv3.weight</text>\n<text text-anchor=\"middle\" x=\"363.5\" y=\"-723\" font-family=\"monospace\" font-size=\"10.00\"> (64, 32, 5, 5)</text>\n</g>\n<!-- 138171180141120&#45;&gt;138171179794000 -->\n<g id=\"edge29\" class=\"edge\">\n<title>138171180141120&#45;&gt;138171179794000</title>\n<path fill=\"none\" stroke=\"black\" d=\"M363.02,-715.84C362.76,-708.21 362.43,-698.7 362.15,-690.45\"/>\n<polygon fill=\"black\" stroke=\"black\" points=\"365.64,-690.14 361.8,-680.27 358.64,-690.38 365.64,-690.14\"/>\n</g>\n<!-- 138171179794144 -->\n<g id=\"node32\" class=\"node\">\n<title>138171179794144</title>\n<polygon fill=\"lightgrey\" stroke=\"black\" points=\"531,-680 430,-680 430,-661 531,-661 531,-680\"/>\n<text text-anchor=\"middle\" x=\"480.5\" y=\"-668\" font-family=\"monospace\" font-size=\"10.00\">AccumulateGrad</text>\n</g>\n<!-- 138171179794144&#45;&gt;138171179794192 -->\n<g id=\"edge30\" class=\"edge\">\n<title>138171179794144&#45;&gt;138171179794192</title>\n<path fill=\"none\" stroke=\"black\" d=\"M461.38,-660.98C442.15,-652.42 412.27,-639.11 390.19,-629.28\"/>\n<polygon fill=\"black\" stroke=\"black\" points=\"391.53,-626.04 380.97,-625.17 388.68,-632.44 391.53,-626.04\"/>\n</g>\n<!-- 138171180141200 -->\n<g id=\"node33\" class=\"node\">\n<title>138171180141200</title>\n<polygon fill=\"lightblue\" stroke=\"black\" points=\"519,-746 442,-746 442,-716 519,-716 519,-746\"/>\n<text text-anchor=\"middle\" x=\"480.5\" y=\"-734\" font-family=\"monospace\" font-size=\"10.00\">conv3.bias</text>\n<text text-anchor=\"middle\" x=\"480.5\" y=\"-723\" font-family=\"monospace\" font-size=\"10.00\"> (64)</text>\n</g>\n<!-- 138171180141200&#45;&gt;138171179794144 -->\n<g id=\"edge31\" class=\"edge\">\n<title>138171180141200&#45;&gt;138171179794144</title>\n<path fill=\"none\" stroke=\"black\" d=\"M480.5,-715.84C480.5,-708.21 480.5,-698.7 480.5,-690.45\"/>\n<polygon fill=\"black\" stroke=\"black\" points=\"484,-690.27 480.5,-680.27 477,-690.27 484,-690.27\"/>\n</g>\n<!-- 138171179792368 -->\n<g id=\"node34\" class=\"node\">\n<title>138171179792368</title>\n<polygon fill=\"lightgrey\" stroke=\"black\" points=\"528,-383 451,-383 451,-364 528,-364 528,-383\"/>\n<text text-anchor=\"middle\" x=\"489.5\" y=\"-371\" font-family=\"monospace\" font-size=\"10.00\">TBackward0</text>\n</g>\n<!-- 138171179792368&#45;&gt;138171179792416 -->\n<g id=\"edge32\" class=\"edge\">\n<title>138171179792368&#45;&gt;138171179792416</title>\n<path fill=\"none\" stroke=\"black\" d=\"M470.89,-363.99C449.46,-354.2 414.06,-338.02 389.35,-326.73\"/>\n<polygon fill=\"black\" stroke=\"black\" points=\"390.68,-323.49 380.13,-322.52 387.78,-329.86 390.68,-323.49\"/>\n</g>\n<!-- 138171179793376 -->\n<g id=\"node35\" class=\"node\">\n<title>138171179793376</title>\n<polygon fill=\"lightgrey\" stroke=\"black\" points=\"540,-443.5 439,-443.5 439,-424.5 540,-424.5 540,-443.5\"/>\n<text text-anchor=\"middle\" x=\"489.5\" y=\"-431.5\" font-family=\"monospace\" font-size=\"10.00\">AccumulateGrad</text>\n</g>\n<!-- 138171179793376&#45;&gt;138171179792368 -->\n<g id=\"edge33\" class=\"edge\">\n<title>138171179793376&#45;&gt;138171179792368</title>\n<path fill=\"none\" stroke=\"black\" d=\"M489.5,-424.37C489.5,-416.25 489.5,-403.81 489.5,-393.39\"/>\n<polygon fill=\"black\" stroke=\"black\" points=\"493,-393.17 489.5,-383.17 486,-393.17 493,-393.17\"/>\n</g>\n<!-- 138171180141280 -->\n<g id=\"node36\" class=\"node\">\n<title>138171180141280</title>\n<polygon fill=\"lightblue\" stroke=\"black\" points=\"531,-515 448,-515 448,-485 531,-485 531,-515\"/>\n<text text-anchor=\"middle\" x=\"489.5\" y=\"-503\" font-family=\"monospace\" font-size=\"10.00\">fc1.weight</text>\n<text text-anchor=\"middle\" x=\"489.5\" y=\"-492\" font-family=\"monospace\" font-size=\"10.00\"> (256, 576)</text>\n</g>\n<!-- 138171180141280&#45;&gt;138171179793376 -->\n<g id=\"edge34\" class=\"edge\">\n<title>138171180141280&#45;&gt;138171179793376</title>\n<path fill=\"none\" stroke=\"black\" d=\"M489.5,-484.8C489.5,-475.7 489.5,-463.79 489.5,-453.9\"/>\n<polygon fill=\"black\" stroke=\"black\" points=\"493,-453.84 489.5,-443.84 486,-453.84 493,-453.84\"/>\n</g>\n<!-- 138171179792128 -->\n<g id=\"node37\" class=\"node\">\n<title>138171179792128</title>\n<polygon fill=\"lightgrey\" stroke=\"black\" points=\"509,-196 432,-196 432,-177 509,-177 509,-196\"/>\n<text text-anchor=\"middle\" x=\"470.5\" y=\"-184\" font-family=\"monospace\" font-size=\"10.00\">TBackward0</text>\n</g>\n<!-- 138171179792128&#45;&gt;138171179792176 -->\n<g id=\"edge35\" class=\"edge\">\n<title>138171179792128&#45;&gt;138171179792176</title>\n<path fill=\"none\" stroke=\"black\" d=\"M453.63,-176.98C436.89,-168.54 411,-155.47 391.61,-145.68\"/>\n<polygon fill=\"black\" stroke=\"black\" points=\"393.18,-142.55 382.68,-141.17 390.03,-148.8 393.18,-142.55\"/>\n</g>\n<!-- 138171179792752 -->\n<g id=\"node38\" class=\"node\">\n<title>138171179792752</title>\n<polygon fill=\"lightgrey\" stroke=\"black\" points=\"528,-256.5 427,-256.5 427,-237.5 528,-237.5 528,-256.5\"/>\n<text text-anchor=\"middle\" x=\"477.5\" y=\"-244.5\" font-family=\"monospace\" font-size=\"10.00\">AccumulateGrad</text>\n</g>\n<!-- 138171179792752&#45;&gt;138171179792128 -->\n<g id=\"edge36\" class=\"edge\">\n<title>138171179792752&#45;&gt;138171179792128</title>\n<path fill=\"none\" stroke=\"black\" d=\"M476.47,-237.37C475.5,-229.25 474.01,-216.81 472.76,-206.39\"/>\n<polygon fill=\"black\" stroke=\"black\" points=\"476.2,-205.68 471.54,-196.17 469.25,-206.51 476.2,-205.68\"/>\n</g>\n<!-- 138171180141440 -->\n<g id=\"node39\" class=\"node\">\n<title>138171180141440</title>\n<polygon fill=\"lightblue\" stroke=\"black\" points=\"516,-328 439,-328 439,-298 516,-298 516,-328\"/>\n<text text-anchor=\"middle\" x=\"477.5\" y=\"-316\" font-family=\"monospace\" font-size=\"10.00\">fc2.weight</text>\n<text text-anchor=\"middle\" x=\"477.5\" y=\"-305\" font-family=\"monospace\" font-size=\"10.00\"> (10, 256)</text>\n</g>\n<!-- 138171180141440&#45;&gt;138171179792752 -->\n<g id=\"edge37\" class=\"edge\">\n<title>138171180141440&#45;&gt;138171179792752</title>\n<path fill=\"none\" stroke=\"black\" d=\"M477.5,-297.8C477.5,-288.7 477.5,-276.79 477.5,-266.9\"/>\n<polygon fill=\"black\" stroke=\"black\" points=\"481,-266.84 477.5,-256.84 474,-266.84 481,-266.84\"/>\n</g>\n</g>\n</svg>\n",
            "text/plain": [
              "<graphviz.graphs.Digraph at 0x7daa7c16f490>"
            ]
          },
          "metadata": {},
          "execution_count": 4
        }
      ]
    },
    {
      "cell_type": "markdown",
      "source": [
        "Now we create some utility functions to help with the training and evaluation process. Most of this is boilerplate code that can be reused with simple changes.\n",
        "\n",
        "For training, we iterate over the datalaoder to get batches, and for each batch we do the following:\n",
        "\n",
        "- move each batch onto the specified device\n",
        "- perform a forward pass through the model to get the outputs\n",
        "- compute the loss based on the outputs and targets\n",
        "- compute the gradients via backpropagation\n",
        "- update the weights via the optimizer\n",
        "\n",
        "Certain layers, e.g. dropout, operate differently in training versus inference modes. To account for the same, we do:\n",
        "\n",
        "- model.train() to set all such layers to training mode\n",
        "- model.eval() to set all such layers to inference mode"
      ],
      "metadata": {
        "id": "x2UCmnZg2ub5"
      }
    },
    {
      "cell_type": "code",
      "source": [
        "def train(model, device, data_loader, optimizer, criterion, epoch):\n",
        "    model.train()\n",
        "    loss_train = 0\n",
        "    num_correct = 0\n",
        "    for batch_idx, (data, target) in enumerate(data_loader):\n",
        "        data, target = data.to(device), target.to(device)\n",
        "        optimizer.zero_grad()\n",
        "        output = model(data)\n",
        "        loss = criterion(output, target)\n",
        "        loss.backward()\n",
        "        optimizer.step()\n",
        "        loss_train += loss.item()\n",
        "        prediction = output.argmax(dim=1)\n",
        "        num_correct += prediction.eq(target).sum().item()\n",
        "        if batch_idx % 50 == 0:\n",
        "            print('Train Epoch: {} [{}/{} ({:.0f}%)]\\tLoss: {:.4f}\\tAccuracy: {:.0f}%'.format(\n",
        "                epoch, batch_idx * len(data), len(data_loader.dataset),\n",
        "                100. * batch_idx / len(data_loader), loss_train / (batch_idx + 1),\n",
        "                100. * num_correct / (len(data) * (batch_idx + 1))))\n",
        "    loss_train /= len(data_loader)\n",
        "    accuracy = num_correct / len(data_loader.dataset)\n",
        "    return loss_train, accuracy\n",
        "\n",
        "\n",
        "def test(model, device, data_loader, criterion):\n",
        "    model.eval()\n",
        "    loss_test = 0\n",
        "    num_correct = 0\n",
        "    with torch.no_grad():\n",
        "        for data, target in data_loader:\n",
        "            data, target = data.to(device), target.to(device)\n",
        "            output = model(data)\n",
        "            loss = criterion(output, target)\n",
        "            loss_test += loss.item()  # sum up batch loss\n",
        "            prediction = output.argmax(dim=1)\n",
        "            num_correct += prediction.eq(target).sum().item()\n",
        "    loss_test /= len(data_loader)\n",
        "    accuracy = num_correct / len(data_loader.dataset)\n",
        "    return loss_test, accuracy"
      ],
      "metadata": {
        "id": "PcKL1tTy2vde"
      },
      "execution_count": 5,
      "outputs": []
    },
    {
      "cell_type": "markdown",
      "source": [
        "Now we put it all together:\n",
        "\n",
        "- Create the model\n",
        "- Set up the loss function (cross entropy)\n",
        "- Add an optimizer (in this case, Adam)\n",
        "- [Optional] Have a learning rate scheduler"
      ],
      "metadata": {
        "id": "UajSVMXv21cY"
      }
    },
    {
      "cell_type": "code",
      "source": [
        "device = torch.device('cpu' if not torch.cuda.is_available() else 'cuda')\n",
        "model = CNN().to(device)\n",
        "criterion = nn.CrossEntropyLoss().to(device)\n",
        "optimizer = optim.Adam(model.parameters(), lr=0.001)\n",
        "\n",
        "for epoch in range(1, 5):\n",
        "    loss_train, acc_train = train(model, device, dataloader_train, optimizer, criterion, epoch)\n",
        "    print('Epoch {} Train: Loss: {:.4f}, Accuracy: {:.3f}%\\n'.format(\n",
        "        epoch, loss_train, 100. * acc_train))\n",
        "    loss_test, acc_test = test(model, device, dataloader_test, criterion)\n",
        "    print('Epoch {} Test : Loss: {:.4f}, Accuracy: {:.3f}%\\n'.format(\n",
        "        epoch, loss_test, 100. * acc_test))"
      ],
      "metadata": {
        "colab": {
          "base_uri": "https://localhost:8080/"
        },
        "id": "miUDFJ4f22Rr",
        "outputId": "23a24f90-32e3-433a-9b3d-adbb2681c221"
      },
      "execution_count": 6,
      "outputs": [
        {
          "output_type": "stream",
          "name": "stdout",
          "text": [
            "Train Epoch: 1 [0/60000 (0%)]\tLoss: 2.2946\tAccuracy: 15%\n",
            "Train Epoch: 1 [6400/60000 (11%)]\tLoss: 1.4551\tAccuracy: 46%\n",
            "Train Epoch: 1 [12800/60000 (21%)]\tLoss: 1.1442\tAccuracy: 57%\n",
            "Train Epoch: 1 [19200/60000 (32%)]\tLoss: 0.9968\tAccuracy: 63%\n",
            "Train Epoch: 1 [25600/60000 (43%)]\tLoss: 0.9103\tAccuracy: 66%\n",
            "Train Epoch: 1 [32000/60000 (53%)]\tLoss: 0.8536\tAccuracy: 68%\n",
            "Train Epoch: 1 [38400/60000 (64%)]\tLoss: 0.8072\tAccuracy: 70%\n",
            "Train Epoch: 1 [44800/60000 (75%)]\tLoss: 0.7744\tAccuracy: 71%\n",
            "Train Epoch: 1 [51200/60000 (85%)]\tLoss: 0.7449\tAccuracy: 72%\n",
            "Train Epoch: 1 [57600/60000 (96%)]\tLoss: 0.7210\tAccuracy: 73%\n",
            "Epoch 1 Train: Loss: 0.7124, Accuracy: 73.315%\n",
            "\n",
            "Epoch 1 Test : Loss: 0.4711, Accuracy: 82.600%\n",
            "\n",
            "Train Epoch: 2 [0/60000 (0%)]\tLoss: 0.5184\tAccuracy: 77%\n",
            "Train Epoch: 2 [6400/60000 (11%)]\tLoss: 0.5070\tAccuracy: 82%\n",
            "Train Epoch: 2 [12800/60000 (21%)]\tLoss: 0.5081\tAccuracy: 81%\n",
            "Train Epoch: 2 [19200/60000 (32%)]\tLoss: 0.5023\tAccuracy: 81%\n",
            "Train Epoch: 2 [25600/60000 (43%)]\tLoss: 0.4948\tAccuracy: 82%\n",
            "Train Epoch: 2 [32000/60000 (53%)]\tLoss: 0.4896\tAccuracy: 82%\n",
            "Train Epoch: 2 [38400/60000 (64%)]\tLoss: 0.4860\tAccuracy: 82%\n",
            "Train Epoch: 2 [44800/60000 (75%)]\tLoss: 0.4827\tAccuracy: 82%\n",
            "Train Epoch: 2 [51200/60000 (85%)]\tLoss: 0.4795\tAccuracy: 82%\n",
            "Train Epoch: 2 [57600/60000 (96%)]\tLoss: 0.4735\tAccuracy: 83%\n",
            "Epoch 2 Train: Loss: 0.4727, Accuracy: 82.567%\n",
            "\n",
            "Epoch 2 Test : Loss: 0.3742, Accuracy: 86.310%\n",
            "\n",
            "Train Epoch: 3 [0/60000 (0%)]\tLoss: 0.3496\tAccuracy: 90%\n",
            "Train Epoch: 3 [6400/60000 (11%)]\tLoss: 0.4330\tAccuracy: 84%\n",
            "Train Epoch: 3 [12800/60000 (21%)]\tLoss: 0.4347\tAccuracy: 84%\n",
            "Train Epoch: 3 [19200/60000 (32%)]\tLoss: 0.4265\tAccuracy: 84%\n",
            "Train Epoch: 3 [25600/60000 (43%)]\tLoss: 0.4231\tAccuracy: 85%\n",
            "Train Epoch: 3 [32000/60000 (53%)]\tLoss: 0.4165\tAccuracy: 85%\n",
            "Train Epoch: 3 [38400/60000 (64%)]\tLoss: 0.4134\tAccuracy: 85%\n",
            "Train Epoch: 3 [44800/60000 (75%)]\tLoss: 0.4129\tAccuracy: 85%\n",
            "Train Epoch: 3 [51200/60000 (85%)]\tLoss: 0.4120\tAccuracy: 85%\n",
            "Train Epoch: 3 [57600/60000 (96%)]\tLoss: 0.4099\tAccuracy: 85%\n",
            "Epoch 3 Train: Loss: 0.4101, Accuracy: 85.048%\n",
            "\n",
            "Epoch 3 Test : Loss: 0.3446, Accuracy: 87.440%\n",
            "\n",
            "Train Epoch: 4 [0/60000 (0%)]\tLoss: 0.2804\tAccuracy: 89%\n",
            "Train Epoch: 4 [6400/60000 (11%)]\tLoss: 0.3787\tAccuracy: 86%\n",
            "Train Epoch: 4 [12800/60000 (21%)]\tLoss: 0.3711\tAccuracy: 86%\n",
            "Train Epoch: 4 [19200/60000 (32%)]\tLoss: 0.3807\tAccuracy: 86%\n",
            "Train Epoch: 4 [25600/60000 (43%)]\tLoss: 0.3854\tAccuracy: 86%\n",
            "Train Epoch: 4 [32000/60000 (53%)]\tLoss: 0.3814\tAccuracy: 86%\n",
            "Train Epoch: 4 [38400/60000 (64%)]\tLoss: 0.3827\tAccuracy: 86%\n",
            "Train Epoch: 4 [44800/60000 (75%)]\tLoss: 0.3815\tAccuracy: 86%\n",
            "Train Epoch: 4 [51200/60000 (85%)]\tLoss: 0.3799\tAccuracy: 86%\n",
            "Train Epoch: 4 [57600/60000 (96%)]\tLoss: 0.3801\tAccuracy: 86%\n",
            "Epoch 4 Train: Loss: 0.3800, Accuracy: 86.008%\n",
            "\n",
            "Epoch 4 Test : Loss: 0.3339, Accuracy: 87.820%\n",
            "\n"
          ]
        }
      ]
    }
  ]
}